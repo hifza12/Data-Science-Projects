{
 "cells": [
  {
   "cell_type": "markdown",
   "id": "88b86a26",
   "metadata": {
    "id": "88b86a26"
   },
   "source": [
    "# importing libraries"
   ]
  },
  {
   "cell_type": "code",
   "execution_count": 35,
   "id": "59a7ca8b",
   "metadata": {
    "id": "59a7ca8b"
   },
   "outputs": [],
   "source": [
    "import numpy as np\n",
    "import pandas as pd"
   ]
  },
  {
   "cell_type": "markdown",
   "id": "626d7150",
   "metadata": {
    "id": "626d7150"
   },
   "source": [
    "# Loading dataset"
   ]
  },
  {
   "cell_type": "code",
   "execution_count": 36,
   "id": "6342631b",
   "metadata": {
    "colab": {
     "base_uri": "https://localhost:8080/",
     "height": 203
    },
    "id": "6342631b",
    "outputId": "4064c8e6-6133-41d4-8132-d1bbc4e22035"
   },
   "outputs": [
    {
     "data": {
      "text/html": [
       "<div>\n",
       "<style scoped>\n",
       "    .dataframe tbody tr th:only-of-type {\n",
       "        vertical-align: middle;\n",
       "    }\n",
       "\n",
       "    .dataframe tbody tr th {\n",
       "        vertical-align: top;\n",
       "    }\n",
       "\n",
       "    .dataframe thead th {\n",
       "        text-align: right;\n",
       "    }\n",
       "</style>\n",
       "<table border=\"1\" class=\"dataframe\">\n",
       "  <thead>\n",
       "    <tr style=\"text-align: right;\">\n",
       "      <th></th>\n",
       "      <th>(1000000000.000000) can0 20E#4E2003A0C63F8FFF</th>\n",
       "    </tr>\n",
       "  </thead>\n",
       "  <tbody>\n",
       "    <tr>\n",
       "      <th>0</th>\n",
       "      <td>(1000000000.000002) can0 522#DF7FD0007F08001C</td>\n",
       "    </tr>\n",
       "    <tr>\n",
       "      <th>1</th>\n",
       "      <td>(1000000000.000003) can0 366#80DDC8020147CE38</td>\n",
       "    </tr>\n",
       "    <tr>\n",
       "      <th>2</th>\n",
       "      <td>(1000000000.001000) can0 580#00000003F0880000</td>\n",
       "    </tr>\n",
       "    <tr>\n",
       "      <th>3</th>\n",
       "      <td>(1000000000.001001) can0 0D0#427504646C018700</td>\n",
       "    </tr>\n",
       "    <tr>\n",
       "      <th>4</th>\n",
       "      <td>(1000000000.001002) can0 033#0007A0000E0007D0</td>\n",
       "    </tr>\n",
       "  </tbody>\n",
       "</table>\n",
       "</div>"
      ],
      "text/plain": [
       "   (1000000000.000000) can0 20E#4E2003A0C63F8FFF\n",
       "0  (1000000000.000002) can0 522#DF7FD0007F08001C\n",
       "1  (1000000000.000003) can0 366#80DDC8020147CE38\n",
       "2  (1000000000.001000) can0 580#00000003F0880000\n",
       "3  (1000000000.001001) can0 0D0#427504646C018700\n",
       "4  (1000000000.001002) can0 033#0007A0000E0007D0"
      ]
     },
     "execution_count": 36,
     "metadata": {},
     "output_type": "execute_result"
    }
   ],
   "source": [
    "df=pd.read_csv('D:/Research Work/road/attacks/fuzzing_attack_1.log')\n",
    "df.head()"
   ]
  },
  {
   "cell_type": "markdown",
   "id": "ce0af795",
   "metadata": {
    "id": "ce0af795"
   },
   "source": [
    "# Spliting the data in different columns"
   ]
  },
  {
   "cell_type": "markdown",
   "id": "09342380",
   "metadata": {},
   "source": [
    "Here as we can see that  our data need to be preprossed because  all the data is present in a column and we need split data into different columns so ,for that here I'm splitting the data in differenr columns"
   ]
  },
  {
   "cell_type": "code",
   "execution_count": 37,
   "id": "9hTVBZWqzjcU",
   "metadata": {
    "colab": {
     "base_uri": "https://localhost:8080/"
    },
    "id": "9hTVBZWqzjcU",
    "outputId": "2e01867d-3368-4874-b71f-8eb858193107"
   },
   "outputs": [
    {
     "data": {
      "text/html": [
       "<div>\n",
       "<style scoped>\n",
       "    .dataframe tbody tr th:only-of-type {\n",
       "        vertical-align: middle;\n",
       "    }\n",
       "\n",
       "    .dataframe tbody tr th {\n",
       "        vertical-align: top;\n",
       "    }\n",
       "\n",
       "    .dataframe thead th {\n",
       "        text-align: right;\n",
       "    }\n",
       "</style>\n",
       "<table border=\"1\" class=\"dataframe\">\n",
       "  <thead>\n",
       "    <tr style=\"text-align: right;\">\n",
       "      <th></th>\n",
       "      <th>Unix Timestamp</th>\n",
       "      <th>Channel</th>\n",
       "      <th>IDHexandDataFeild</th>\n",
       "    </tr>\n",
       "  </thead>\n",
       "  <tbody>\n",
       "    <tr>\n",
       "      <th>0</th>\n",
       "      <td>1000000000.000000</td>\n",
       "      <td>can0</td>\n",
       "      <td>20E#4E2003A0C63F8FF</td>\n",
       "    </tr>\n",
       "    <tr>\n",
       "      <th>1</th>\n",
       "      <td>1000000000.000002</td>\n",
       "      <td>can0</td>\n",
       "      <td>522#DF7FD0007F08001</td>\n",
       "    </tr>\n",
       "    <tr>\n",
       "      <th>2</th>\n",
       "      <td>1000000000.000003</td>\n",
       "      <td>can0</td>\n",
       "      <td>366#80DDC8020147CE3</td>\n",
       "    </tr>\n",
       "    <tr>\n",
       "      <th>3</th>\n",
       "      <td>1000000000.001000</td>\n",
       "      <td>can0</td>\n",
       "      <td>580#00000003F088000</td>\n",
       "    </tr>\n",
       "    <tr>\n",
       "      <th>4</th>\n",
       "      <td>1000000000.001001</td>\n",
       "      <td>can0</td>\n",
       "      <td>0D0#427504646C01870</td>\n",
       "    </tr>\n",
       "    <tr>\n",
       "      <th>...</th>\n",
       "      <td>...</td>\n",
       "      <td>...</td>\n",
       "      <td>...</td>\n",
       "    </tr>\n",
       "    <tr>\n",
       "      <th>49337</th>\n",
       "      <td>1000000020.338944</td>\n",
       "      <td>can0</td>\n",
       "      <td>434#022820AE83448D7</td>\n",
       "    </tr>\n",
       "    <tr>\n",
       "      <th>49338</th>\n",
       "      <td>1000000020.338946</td>\n",
       "      <td>can0</td>\n",
       "      <td>6E0#000000000000000</td>\n",
       "    </tr>\n",
       "    <tr>\n",
       "      <th>49339</th>\n",
       "      <td>1000000020.338947</td>\n",
       "      <td>can0</td>\n",
       "      <td>280#18E002700000000</td>\n",
       "    </tr>\n",
       "    <tr>\n",
       "      <th>49340</th>\n",
       "      <td>1000000020.338948</td>\n",
       "      <td>can0</td>\n",
       "      <td>498#87FFBFFCFB80000</td>\n",
       "    </tr>\n",
       "    <tr>\n",
       "      <th>49341</th>\n",
       "      <td>1000000020.338949</td>\n",
       "      <td>can0</td>\n",
       "      <td>230#F5000002EC00140</td>\n",
       "    </tr>\n",
       "  </tbody>\n",
       "</table>\n",
       "<p>49342 rows × 3 columns</p>\n",
       "</div>"
      ],
      "text/plain": [
       "          Unix Timestamp Channel    IDHexandDataFeild\n",
       "0      1000000000.000000    can0  20E#4E2003A0C63F8FF\n",
       "1      1000000000.000002    can0  522#DF7FD0007F08001\n",
       "2      1000000000.000003    can0  366#80DDC8020147CE3\n",
       "3      1000000000.001000    can0  580#00000003F088000\n",
       "4      1000000000.001001    can0  0D0#427504646C01870\n",
       "...                  ...     ...                  ...\n",
       "49337  1000000020.338944    can0  434#022820AE83448D7\n",
       "49338  1000000020.338946    can0  6E0#000000000000000\n",
       "49339  1000000020.338947    can0  280#18E002700000000\n",
       "49340  1000000020.338948    can0  498#87FFBFFCFB80000\n",
       "49341  1000000020.338949    can0  230#F5000002EC00140\n",
       "\n",
       "[49342 rows x 3 columns]"
      ]
     },
     "execution_count": 37,
     "metadata": {},
     "output_type": "execute_result"
    }
   ],
   "source": [
    "log_data  = open('D:/Research Work/road/attacks/fuzzing_attack_1.log', 'r')\n",
    "split_list = []\n",
    "for line in log_data:\n",
    "    thing1 = line.split(' ')\n",
    "    time = thing1[0][1:18]\n",
    "    idd = thing1[1][:4]\n",
    "    message = thing1[2][:-2]\n",
    "    \n",
    "\n",
    "    split_list.append([time, idd, message])\n",
    "\n",
    "df1 = pd.DataFrame(split_list, columns=['Unix Timestamp', 'Channel', 'IDHexandDataFeild'])\n",
    "df1"
   ]
  },
  {
   "cell_type": "markdown",
   "id": "820e6a9e",
   "metadata": {
    "id": "820e6a9e"
   },
   "source": [
    "# Seprating id and dataframe"
   ]
  },
  {
   "cell_type": "markdown",
   "id": "e7ebeb3a",
   "metadata": {},
   "source": [
    "As we can see that  ID And Data is combined together so need to be seprated,so for sepration id and data I selected IDHexandDataFeild column from the data set and split it into IDHex and DataFrame in Out variable."
   ]
  },
  {
   "cell_type": "code",
   "execution_count": 38,
   "id": "c78c70fb",
   "metadata": {
    "colab": {
     "base_uri": "https://localhost:8080/",
     "height": 203
    },
    "id": "c78c70fb",
    "outputId": "baf1541e-c036-4851-b214-cd87be028efa"
   },
   "outputs": [
    {
     "data": {
      "text/html": [
       "<div>\n",
       "<style scoped>\n",
       "    .dataframe tbody tr th:only-of-type {\n",
       "        vertical-align: middle;\n",
       "    }\n",
       "\n",
       "    .dataframe tbody tr th {\n",
       "        vertical-align: top;\n",
       "    }\n",
       "\n",
       "    .dataframe thead th {\n",
       "        text-align: right;\n",
       "    }\n",
       "</style>\n",
       "<table border=\"1\" class=\"dataframe\">\n",
       "  <thead>\n",
       "    <tr style=\"text-align: right;\">\n",
       "      <th></th>\n",
       "      <th>IDhex</th>\n",
       "      <th>DataFrame</th>\n",
       "    </tr>\n",
       "  </thead>\n",
       "  <tbody>\n",
       "    <tr>\n",
       "      <th>0</th>\n",
       "      <td>20E</td>\n",
       "      <td>4E2003A0C63F8FF</td>\n",
       "    </tr>\n",
       "    <tr>\n",
       "      <th>1</th>\n",
       "      <td>522</td>\n",
       "      <td>DF7FD0007F08001</td>\n",
       "    </tr>\n",
       "    <tr>\n",
       "      <th>2</th>\n",
       "      <td>366</td>\n",
       "      <td>80DDC8020147CE3</td>\n",
       "    </tr>\n",
       "    <tr>\n",
       "      <th>3</th>\n",
       "      <td>580</td>\n",
       "      <td>00000003F088000</td>\n",
       "    </tr>\n",
       "    <tr>\n",
       "      <th>4</th>\n",
       "      <td>0D0</td>\n",
       "      <td>427504646C01870</td>\n",
       "    </tr>\n",
       "  </tbody>\n",
       "</table>\n",
       "</div>"
      ],
      "text/plain": [
       "  IDhex        DataFrame\n",
       "0   20E  4E2003A0C63F8FF\n",
       "1   522  DF7FD0007F08001\n",
       "2   366  80DDC8020147CE3\n",
       "3   580  00000003F088000\n",
       "4   0D0  427504646C01870"
      ]
     },
     "execution_count": 38,
     "metadata": {},
     "output_type": "execute_result"
    }
   ],
   "source": [
    "out = pd.DataFrame(df1.IDHexandDataFeild.str.split('#',1).tolist(),columns=['IDhex','DataFrame'])\n",
    "out.head()"
   ]
  },
  {
   "cell_type": "markdown",
   "id": "3b354b8d",
   "metadata": {
    "id": "3b354b8d"
   },
   "source": [
    "# choosing these two columns from the original dataset"
   ]
  },
  {
   "cell_type": "markdown",
   "id": "1ed09efa",
   "metadata": {},
   "source": [
    "As above i have seprated IDHexandDataFeild column and seprated it in id and DataFrame column so, from the original dataset i have to pick others columns too, to combine these two datasets.for that I'm here selecting Unix Timestamp and Channel column from the original data set  "
   ]
  },
  {
   "cell_type": "code",
   "execution_count": 39,
   "id": "a6f299ad",
   "metadata": {
    "colab": {
     "base_uri": "https://localhost:8080/",
     "height": 203
    },
    "id": "a6f299ad",
    "outputId": "8e7af511-84a3-4009-c15d-c85528538a5f"
   },
   "outputs": [
    {
     "data": {
      "text/html": [
       "<div>\n",
       "<style scoped>\n",
       "    .dataframe tbody tr th:only-of-type {\n",
       "        vertical-align: middle;\n",
       "    }\n",
       "\n",
       "    .dataframe tbody tr th {\n",
       "        vertical-align: top;\n",
       "    }\n",
       "\n",
       "    .dataframe thead th {\n",
       "        text-align: right;\n",
       "    }\n",
       "</style>\n",
       "<table border=\"1\" class=\"dataframe\">\n",
       "  <thead>\n",
       "    <tr style=\"text-align: right;\">\n",
       "      <th></th>\n",
       "      <th>Unix Timestamp</th>\n",
       "      <th>Channel</th>\n",
       "    </tr>\n",
       "  </thead>\n",
       "  <tbody>\n",
       "    <tr>\n",
       "      <th>0</th>\n",
       "      <td>1000000000.000000</td>\n",
       "      <td>can0</td>\n",
       "    </tr>\n",
       "    <tr>\n",
       "      <th>1</th>\n",
       "      <td>1000000000.000002</td>\n",
       "      <td>can0</td>\n",
       "    </tr>\n",
       "    <tr>\n",
       "      <th>2</th>\n",
       "      <td>1000000000.000003</td>\n",
       "      <td>can0</td>\n",
       "    </tr>\n",
       "    <tr>\n",
       "      <th>3</th>\n",
       "      <td>1000000000.001000</td>\n",
       "      <td>can0</td>\n",
       "    </tr>\n",
       "    <tr>\n",
       "      <th>4</th>\n",
       "      <td>1000000000.001001</td>\n",
       "      <td>can0</td>\n",
       "    </tr>\n",
       "  </tbody>\n",
       "</table>\n",
       "</div>"
      ],
      "text/plain": [
       "      Unix Timestamp Channel\n",
       "0  1000000000.000000    can0\n",
       "1  1000000000.000002    can0\n",
       "2  1000000000.000003    can0\n",
       "3  1000000000.001000    can0\n",
       "4  1000000000.001001    can0"
      ]
     },
     "execution_count": 39,
     "metadata": {},
     "output_type": "execute_result"
    }
   ],
   "source": [
    "df2=df1[['Unix Timestamp', 'Channel']] \n",
    "df2.head()"
   ]
  },
  {
   "cell_type": "markdown",
   "id": "b1a4a849",
   "metadata": {
    "id": "b1a4a849"
   },
   "source": [
    "# Converting the data of IDhex column which is in hexadecimal to decimal "
   ]
  },
  {
   "cell_type": "markdown",
   "id": "5a6d9c59",
   "metadata": {},
   "source": [
    "As IDhex and DataFrame is present in hexadecimal so it need to be converted in decimal so here I'm converting IDHex  into decimal ."
   ]
  },
  {
   "cell_type": "code",
   "execution_count": 40,
   "id": "284ef72a",
   "metadata": {
    "colab": {
     "base_uri": "https://localhost:8080/",
     "height": 417
    },
    "id": "284ef72a",
    "outputId": "09f204d7-6ed4-4b1b-ab41-ecca7ac50f8f"
   },
   "outputs": [
    {
     "data": {
      "text/html": [
       "<div>\n",
       "<style scoped>\n",
       "    .dataframe tbody tr th:only-of-type {\n",
       "        vertical-align: middle;\n",
       "    }\n",
       "\n",
       "    .dataframe tbody tr th {\n",
       "        vertical-align: top;\n",
       "    }\n",
       "\n",
       "    .dataframe thead th {\n",
       "        text-align: right;\n",
       "    }\n",
       "</style>\n",
       "<table border=\"1\" class=\"dataframe\">\n",
       "  <thead>\n",
       "    <tr style=\"text-align: right;\">\n",
       "      <th></th>\n",
       "      <th>IDhex</th>\n",
       "      <th>DataFrame</th>\n",
       "    </tr>\n",
       "  </thead>\n",
       "  <tbody>\n",
       "    <tr>\n",
       "      <th>0</th>\n",
       "      <td>526</td>\n",
       "      <td>4E2003A0C63F8FF</td>\n",
       "    </tr>\n",
       "    <tr>\n",
       "      <th>1</th>\n",
       "      <td>1314</td>\n",
       "      <td>DF7FD0007F08001</td>\n",
       "    </tr>\n",
       "    <tr>\n",
       "      <th>2</th>\n",
       "      <td>870</td>\n",
       "      <td>80DDC8020147CE3</td>\n",
       "    </tr>\n",
       "    <tr>\n",
       "      <th>3</th>\n",
       "      <td>1408</td>\n",
       "      <td>00000003F088000</td>\n",
       "    </tr>\n",
       "    <tr>\n",
       "      <th>4</th>\n",
       "      <td>208</td>\n",
       "      <td>427504646C01870</td>\n",
       "    </tr>\n",
       "    <tr>\n",
       "      <th>...</th>\n",
       "      <td>...</td>\n",
       "      <td>...</td>\n",
       "    </tr>\n",
       "    <tr>\n",
       "      <th>49337</th>\n",
       "      <td>1076</td>\n",
       "      <td>022820AE83448D7</td>\n",
       "    </tr>\n",
       "    <tr>\n",
       "      <th>49338</th>\n",
       "      <td>1760</td>\n",
       "      <td>000000000000000</td>\n",
       "    </tr>\n",
       "    <tr>\n",
       "      <th>49339</th>\n",
       "      <td>640</td>\n",
       "      <td>18E002700000000</td>\n",
       "    </tr>\n",
       "    <tr>\n",
       "      <th>49340</th>\n",
       "      <td>1176</td>\n",
       "      <td>87FFBFFCFB80000</td>\n",
       "    </tr>\n",
       "    <tr>\n",
       "      <th>49341</th>\n",
       "      <td>560</td>\n",
       "      <td>F5000002EC00140</td>\n",
       "    </tr>\n",
       "  </tbody>\n",
       "</table>\n",
       "<p>49342 rows × 2 columns</p>\n",
       "</div>"
      ],
      "text/plain": [
       "       IDhex        DataFrame\n",
       "0        526  4E2003A0C63F8FF\n",
       "1       1314  DF7FD0007F08001\n",
       "2        870  80DDC8020147CE3\n",
       "3       1408  00000003F088000\n",
       "4        208  427504646C01870\n",
       "...      ...              ...\n",
       "49337   1076  022820AE83448D7\n",
       "49338   1760  000000000000000\n",
       "49339    640  18E002700000000\n",
       "49340   1176  87FFBFFCFB80000\n",
       "49341    560  F5000002EC00140\n",
       "\n",
       "[49342 rows x 2 columns]"
      ]
     },
     "execution_count": 40,
     "metadata": {},
     "output_type": "execute_result"
    }
   ],
   "source": [
    "out['IDhex'] = out['IDhex'].apply(lambda x: int(x,16))\n",
    "out"
   ]
  },
  {
   "cell_type": "markdown",
   "id": "6a33dd6d",
   "metadata": {
    "id": "6a33dd6d"
   },
   "source": [
    "# here converting the DataFrame column's hex data in decimal"
   ]
  },
  {
   "cell_type": "markdown",
   "id": "5bf98431",
   "metadata": {
    "colab": {
     "base_uri": "https://localhost:8080/",
     "height": 417
    },
    "id": "7762d979",
    "outputId": "1cd12522-167d-418f-ea54-b9f34f8725c1"
   },
   "source": [
    "now converting datframe into decimal"
   ]
  },
  {
   "cell_type": "code",
   "execution_count": 41,
   "id": "b641a856",
   "metadata": {
    "colab": {
     "base_uri": "https://localhost:8080/",
     "height": 417
    },
    "id": "b641a856",
    "outputId": "5c94bcfa-ccf9-44b1-acd0-a3cc8250acdc"
   },
   "outputs": [
    {
     "data": {
      "text/html": [
       "<div>\n",
       "<style scoped>\n",
       "    .dataframe tbody tr th:only-of-type {\n",
       "        vertical-align: middle;\n",
       "    }\n",
       "\n",
       "    .dataframe tbody tr th {\n",
       "        vertical-align: top;\n",
       "    }\n",
       "\n",
       "    .dataframe thead th {\n",
       "        text-align: right;\n",
       "    }\n",
       "</style>\n",
       "<table border=\"1\" class=\"dataframe\">\n",
       "  <thead>\n",
       "    <tr style=\"text-align: right;\">\n",
       "      <th></th>\n",
       "      <th>IDhex</th>\n",
       "      <th>DataFrame</th>\n",
       "    </tr>\n",
       "  </thead>\n",
       "  <tbody>\n",
       "    <tr>\n",
       "      <th>0</th>\n",
       "      <td>526</td>\n",
       "      <td>351843970204301567</td>\n",
       "    </tr>\n",
       "    <tr>\n",
       "      <th>1</th>\n",
       "      <td>1314</td>\n",
       "      <td>1006551218315624449</td>\n",
       "    </tr>\n",
       "    <tr>\n",
       "      <th>2</th>\n",
       "      <td>870</td>\n",
       "      <td>580362369852800227</td>\n",
       "    </tr>\n",
       "    <tr>\n",
       "      <th>3</th>\n",
       "      <td>1408</td>\n",
       "      <td>1057521664</td>\n",
       "    </tr>\n",
       "    <tr>\n",
       "      <th>4</th>\n",
       "      <td>208</td>\n",
       "      <td>299296163008354416</td>\n",
       "    </tr>\n",
       "    <tr>\n",
       "      <th>...</th>\n",
       "      <td>...</td>\n",
       "      <td>...</td>\n",
       "    </tr>\n",
       "    <tr>\n",
       "      <th>49337</th>\n",
       "      <td>1076</td>\n",
       "      <td>9713132565186775</td>\n",
       "    </tr>\n",
       "    <tr>\n",
       "      <th>49338</th>\n",
       "      <td>1760</td>\n",
       "      <td>0</td>\n",
       "    </tr>\n",
       "    <tr>\n",
       "      <th>49339</th>\n",
       "      <td>640</td>\n",
       "      <td>112027208234565632</td>\n",
       "    </tr>\n",
       "    <tr>\n",
       "      <th>49340</th>\n",
       "      <td>1176</td>\n",
       "      <td>612485150465851392</td>\n",
       "    </tr>\n",
       "    <tr>\n",
       "      <th>49341</th>\n",
       "      <td>560</td>\n",
       "      <td>1103381909490106688</td>\n",
       "    </tr>\n",
       "  </tbody>\n",
       "</table>\n",
       "<p>49342 rows × 2 columns</p>\n",
       "</div>"
      ],
      "text/plain": [
       "       IDhex            DataFrame\n",
       "0        526   351843970204301567\n",
       "1       1314  1006551218315624449\n",
       "2        870   580362369852800227\n",
       "3       1408           1057521664\n",
       "4        208   299296163008354416\n",
       "...      ...                  ...\n",
       "49337   1076     9713132565186775\n",
       "49338   1760                    0\n",
       "49339    640   112027208234565632\n",
       "49340   1176   612485150465851392\n",
       "49341    560  1103381909490106688\n",
       "\n",
       "[49342 rows x 2 columns]"
      ]
     },
     "execution_count": 41,
     "metadata": {},
     "output_type": "execute_result"
    }
   ],
   "source": [
    "out['DataFrame'] = out['DataFrame'].apply(lambda x: int(x,16))\n",
    "out"
   ]
  },
  {
   "cell_type": "code",
   "execution_count": 42,
   "id": "75325036",
   "metadata": {
    "colab": {
     "base_uri": "https://localhost:8080/",
     "height": 203
    },
    "id": "75325036",
    "outputId": "629c7eee-017d-4fe1-a950-1fce8087df1b"
   },
   "outputs": [
    {
     "data": {
      "text/html": [
       "<div>\n",
       "<style scoped>\n",
       "    .dataframe tbody tr th:only-of-type {\n",
       "        vertical-align: middle;\n",
       "    }\n",
       "\n",
       "    .dataframe tbody tr th {\n",
       "        vertical-align: top;\n",
       "    }\n",
       "\n",
       "    .dataframe thead th {\n",
       "        text-align: right;\n",
       "    }\n",
       "</style>\n",
       "<table border=\"1\" class=\"dataframe\">\n",
       "  <thead>\n",
       "    <tr style=\"text-align: right;\">\n",
       "      <th></th>\n",
       "      <th>IDhex</th>\n",
       "      <th>DataFrame</th>\n",
       "    </tr>\n",
       "  </thead>\n",
       "  <tbody>\n",
       "    <tr>\n",
       "      <th>0</th>\n",
       "      <td>526</td>\n",
       "      <td>351843970204301567</td>\n",
       "    </tr>\n",
       "    <tr>\n",
       "      <th>1</th>\n",
       "      <td>1314</td>\n",
       "      <td>1006551218315624449</td>\n",
       "    </tr>\n",
       "    <tr>\n",
       "      <th>2</th>\n",
       "      <td>870</td>\n",
       "      <td>580362369852800227</td>\n",
       "    </tr>\n",
       "    <tr>\n",
       "      <th>3</th>\n",
       "      <td>1408</td>\n",
       "      <td>1057521664</td>\n",
       "    </tr>\n",
       "    <tr>\n",
       "      <th>4</th>\n",
       "      <td>208</td>\n",
       "      <td>299296163008354416</td>\n",
       "    </tr>\n",
       "  </tbody>\n",
       "</table>\n",
       "</div>"
      ],
      "text/plain": [
       "   IDhex            DataFrame\n",
       "0    526   351843970204301567\n",
       "1   1314  1006551218315624449\n",
       "2    870   580362369852800227\n",
       "3   1408           1057521664\n",
       "4    208   299296163008354416"
      ]
     },
     "execution_count": 42,
     "metadata": {},
     "output_type": "execute_result"
    }
   ],
   "source": [
    "#checking the out data which i have converted in decimal which was in hexadecimal\n",
    "out.head()"
   ]
  },
  {
   "cell_type": "markdown",
   "id": "224b120a",
   "metadata": {},
   "source": [
    "# Combining the datasets"
   ]
  },
  {
   "cell_type": "markdown",
   "id": "2967f71e",
   "metadata": {},
   "source": [
    "now here i'm collecting the two data sets which i have above splitted from the original data.\n",
    "\"df2\"here i have collected the data which i don't need to convert in decimaml \n",
    "in \"Out\" data i have collected the data which i have to convert into decimal."
   ]
  },
  {
   "cell_type": "code",
   "execution_count": 43,
   "id": "f92f5155",
   "metadata": {
    "id": "f92f5155"
   },
   "outputs": [],
   "source": [
    "frames=[df2,out]"
   ]
  },
  {
   "cell_type": "code",
   "execution_count": 44,
   "id": "56d782f6",
   "metadata": {
    "colab": {
     "base_uri": "https://localhost:8080/",
     "height": 203
    },
    "id": "56d782f6",
    "outputId": "178c99b4-b6ee-47e6-ffc3-2d225bf5794e"
   },
   "outputs": [
    {
     "data": {
      "text/html": [
       "<div>\n",
       "<style scoped>\n",
       "    .dataframe tbody tr th:only-of-type {\n",
       "        vertical-align: middle;\n",
       "    }\n",
       "\n",
       "    .dataframe tbody tr th {\n",
       "        vertical-align: top;\n",
       "    }\n",
       "\n",
       "    .dataframe thead th {\n",
       "        text-align: right;\n",
       "    }\n",
       "</style>\n",
       "<table border=\"1\" class=\"dataframe\">\n",
       "  <thead>\n",
       "    <tr style=\"text-align: right;\">\n",
       "      <th></th>\n",
       "      <th>Unix Timestamp</th>\n",
       "      <th>Channel</th>\n",
       "      <th>IDhex</th>\n",
       "      <th>DataFrame</th>\n",
       "    </tr>\n",
       "  </thead>\n",
       "  <tbody>\n",
       "    <tr>\n",
       "      <th>0</th>\n",
       "      <td>1000000000.000000</td>\n",
       "      <td>can0</td>\n",
       "      <td>526</td>\n",
       "      <td>351843970204301567</td>\n",
       "    </tr>\n",
       "    <tr>\n",
       "      <th>1</th>\n",
       "      <td>1000000000.000002</td>\n",
       "      <td>can0</td>\n",
       "      <td>1314</td>\n",
       "      <td>1006551218315624449</td>\n",
       "    </tr>\n",
       "    <tr>\n",
       "      <th>2</th>\n",
       "      <td>1000000000.000003</td>\n",
       "      <td>can0</td>\n",
       "      <td>870</td>\n",
       "      <td>580362369852800227</td>\n",
       "    </tr>\n",
       "    <tr>\n",
       "      <th>3</th>\n",
       "      <td>1000000000.001000</td>\n",
       "      <td>can0</td>\n",
       "      <td>1408</td>\n",
       "      <td>1057521664</td>\n",
       "    </tr>\n",
       "    <tr>\n",
       "      <th>4</th>\n",
       "      <td>1000000000.001001</td>\n",
       "      <td>can0</td>\n",
       "      <td>208</td>\n",
       "      <td>299296163008354416</td>\n",
       "    </tr>\n",
       "  </tbody>\n",
       "</table>\n",
       "</div>"
      ],
      "text/plain": [
       "      Unix Timestamp Channel  IDhex            DataFrame\n",
       "0  1000000000.000000    can0    526   351843970204301567\n",
       "1  1000000000.000002    can0   1314  1006551218315624449\n",
       "2  1000000000.000003    can0    870   580362369852800227\n",
       "3  1000000000.001000    can0   1408           1057521664\n",
       "4  1000000000.001001    can0    208   299296163008354416"
      ]
     },
     "execution_count": 44,
     "metadata": {},
     "output_type": "execute_result"
    }
   ],
   "source": [
    "# here i concate the two datas, because it need to be togather\n",
    "result=pd.concat(frames ,axis=1)\n",
    "result.head()"
   ]
  },
  {
   "cell_type": "markdown",
   "id": "266b5bf9",
   "metadata": {},
   "source": [
    " i'm saving this data in a file."
   ]
  },
  {
   "cell_type": "code",
   "execution_count": 45,
   "id": "98ad113d",
   "metadata": {
    "id": "98ad113d"
   },
   "outputs": [],
   "source": [
    "#here i have save my data which i have splitted and  converted in decimal \n",
    "save=result.to_csv(\"D:/Research Work/road/extractedfrompython/fuzzing_attack.csv\")"
   ]
  },
  {
   "cell_type": "code",
   "execution_count": 46,
   "id": "b63fb82b",
   "metadata": {
    "colab": {
     "base_uri": "https://localhost:8080/",
     "height": 417
    },
    "id": "b63fb82b",
    "outputId": "44680731-a234-4128-bb52-15a55c4ac8be"
   },
   "outputs": [
    {
     "data": {
      "text/html": [
       "<div>\n",
       "<style scoped>\n",
       "    .dataframe tbody tr th:only-of-type {\n",
       "        vertical-align: middle;\n",
       "    }\n",
       "\n",
       "    .dataframe tbody tr th {\n",
       "        vertical-align: top;\n",
       "    }\n",
       "\n",
       "    .dataframe thead th {\n",
       "        text-align: right;\n",
       "    }\n",
       "</style>\n",
       "<table border=\"1\" class=\"dataframe\">\n",
       "  <thead>\n",
       "    <tr style=\"text-align: right;\">\n",
       "      <th></th>\n",
       "      <th>Unix Timestamp</th>\n",
       "      <th>Channel</th>\n",
       "      <th>IDhex</th>\n",
       "      <th>DataFrame</th>\n",
       "    </tr>\n",
       "  </thead>\n",
       "  <tbody>\n",
       "    <tr>\n",
       "      <th>0</th>\n",
       "      <td>1000000000.000000</td>\n",
       "      <td>can0</td>\n",
       "      <td>526</td>\n",
       "      <td>351843970204301567</td>\n",
       "    </tr>\n",
       "    <tr>\n",
       "      <th>1</th>\n",
       "      <td>1000000000.000002</td>\n",
       "      <td>can0</td>\n",
       "      <td>1314</td>\n",
       "      <td>1006551218315624449</td>\n",
       "    </tr>\n",
       "    <tr>\n",
       "      <th>2</th>\n",
       "      <td>1000000000.000003</td>\n",
       "      <td>can0</td>\n",
       "      <td>870</td>\n",
       "      <td>580362369852800227</td>\n",
       "    </tr>\n",
       "    <tr>\n",
       "      <th>3</th>\n",
       "      <td>1000000000.001000</td>\n",
       "      <td>can0</td>\n",
       "      <td>1408</td>\n",
       "      <td>1057521664</td>\n",
       "    </tr>\n",
       "    <tr>\n",
       "      <th>4</th>\n",
       "      <td>1000000000.001001</td>\n",
       "      <td>can0</td>\n",
       "      <td>208</td>\n",
       "      <td>299296163008354416</td>\n",
       "    </tr>\n",
       "    <tr>\n",
       "      <th>...</th>\n",
       "      <td>...</td>\n",
       "      <td>...</td>\n",
       "      <td>...</td>\n",
       "      <td>...</td>\n",
       "    </tr>\n",
       "    <tr>\n",
       "      <th>49337</th>\n",
       "      <td>1000000020.338944</td>\n",
       "      <td>can0</td>\n",
       "      <td>1076</td>\n",
       "      <td>9713132565186775</td>\n",
       "    </tr>\n",
       "    <tr>\n",
       "      <th>49338</th>\n",
       "      <td>1000000020.338946</td>\n",
       "      <td>can0</td>\n",
       "      <td>1760</td>\n",
       "      <td>0</td>\n",
       "    </tr>\n",
       "    <tr>\n",
       "      <th>49339</th>\n",
       "      <td>1000000020.338947</td>\n",
       "      <td>can0</td>\n",
       "      <td>640</td>\n",
       "      <td>112027208234565632</td>\n",
       "    </tr>\n",
       "    <tr>\n",
       "      <th>49340</th>\n",
       "      <td>1000000020.338948</td>\n",
       "      <td>can0</td>\n",
       "      <td>1176</td>\n",
       "      <td>612485150465851392</td>\n",
       "    </tr>\n",
       "    <tr>\n",
       "      <th>49341</th>\n",
       "      <td>1000000020.338949</td>\n",
       "      <td>can0</td>\n",
       "      <td>560</td>\n",
       "      <td>1103381909490106688</td>\n",
       "    </tr>\n",
       "  </tbody>\n",
       "</table>\n",
       "<p>49342 rows × 4 columns</p>\n",
       "</div>"
      ],
      "text/plain": [
       "          Unix Timestamp Channel  IDhex            DataFrame\n",
       "0      1000000000.000000    can0    526   351843970204301567\n",
       "1      1000000000.000002    can0   1314  1006551218315624449\n",
       "2      1000000000.000003    can0    870   580362369852800227\n",
       "3      1000000000.001000    can0   1408           1057521664\n",
       "4      1000000000.001001    can0    208   299296163008354416\n",
       "...                  ...     ...    ...                  ...\n",
       "49337  1000000020.338944    can0   1076     9713132565186775\n",
       "49338  1000000020.338946    can0   1760                    0\n",
       "49339  1000000020.338947    can0    640   112027208234565632\n",
       "49340  1000000020.338948    can0   1176   612485150465851392\n",
       "49341  1000000020.338949    can0    560  1103381909490106688\n",
       "\n",
       "[49342 rows x 4 columns]"
      ]
     },
     "execution_count": 46,
     "metadata": {},
     "output_type": "execute_result"
    }
   ],
   "source": [
    "result"
   ]
  },
  {
   "cell_type": "markdown",
   "id": "2036b767",
   "metadata": {},
   "source": [
    "checing is there any null values in our dataset"
   ]
  },
  {
   "cell_type": "code",
   "execution_count": 47,
   "id": "fc714303",
   "metadata": {
    "colab": {
     "base_uri": "https://localhost:8080/"
    },
    "id": "fc714303",
    "outputId": "7de72b9e-8b5c-4a40-e155-539e6ce1a1b8"
   },
   "outputs": [
    {
     "data": {
      "text/plain": [
       "0"
      ]
     },
     "execution_count": 47,
     "metadata": {},
     "output_type": "execute_result"
    }
   ],
   "source": [
    "#checking is there any null values in dataframe column\n",
    "result['DataFrame'].isnull().sum()\n",
    "#Unix Timestamp\tChannel\tIDhex\tDataFrame"
   ]
  },
  {
   "cell_type": "markdown",
   "id": "5718ad9c",
   "metadata": {},
   "source": [
    "As we you see that there is no null values here let's check the shape of the dataset"
   ]
  },
  {
   "cell_type": "code",
   "execution_count": 48,
   "id": "ea892421",
   "metadata": {
    "id": "ea892421"
   },
   "outputs": [
    {
     "data": {
      "text/plain": [
       "(49342, 4)"
      ]
     },
     "execution_count": 48,
     "metadata": {},
     "output_type": "execute_result"
    }
   ],
   "source": [
    "result.shape"
   ]
  },
  {
   "cell_type": "markdown",
   "id": "7b139b62",
   "metadata": {},
   "source": [
    "As you can see that we have here  4 columns and 49342 records let's check the size of the dataset"
   ]
  },
  {
   "cell_type": "code",
   "execution_count": 49,
   "id": "572407e9",
   "metadata": {
    "id": "572407e9"
   },
   "outputs": [
    {
     "data": {
      "text/plain": [
       "197368"
      ]
     },
     "execution_count": 49,
     "metadata": {},
     "output_type": "execute_result"
    }
   ],
   "source": [
    "\n",
    "result.size"
   ]
  },
  {
   "cell_type": "markdown",
   "id": "c5670c55",
   "metadata": {
    "id": "6ad3fc72"
   },
   "source": [
    "Checking the unique values in each columns"
   ]
  },
  {
   "cell_type": "code",
   "execution_count": 50,
   "id": "9021dcf5",
   "metadata": {
    "colab": {
     "base_uri": "https://localhost:8080/"
    },
    "id": "9021dcf5",
    "outputId": "508fb6ee-b5f2-4a60-b849-28d6ce29e8b3"
   },
   "outputs": [
    {
     "name": "stdout",
     "output_type": "stream",
     "text": [
      "There are 48801  unique values values of TimeStamp\n",
      "There are 662  unique values values of IDs\n",
      "There are 7762  unique values values of DataFrame\n",
      "There are 1  unique values values of Channel\n"
     ]
    }
   ],
   "source": [
    "print(\"There are\" ,result['Unix Timestamp'].nunique(),\" unique values values of TimeStamp\") \n",
    "print(\"There are\" , result['IDhex'].nunique() ,\" unique values values of IDs\")\n",
    "print(\"There are\" , result['DataFrame'].nunique() ,\" unique values values of DataFrame\")\n",
    "print(\"There are\" , result['Channel'].nunique() ,\" unique values values of Channel\")"
   ]
  },
  {
   "cell_type": "markdown",
   "id": "2a273778",
   "metadata": {
    "colab": {
     "base_uri": "https://localhost:8080/"
    },
    "id": "102a640d",
    "outputId": "c12d7c28-dffe-4bee-f77e-7cf22e2a52ba"
   },
   "source": [
    "Here you can see that in Channel column ,only have 1 unique value so it can be drop from here"
   ]
  },
  {
   "cell_type": "code",
   "execution_count": 51,
   "id": "6fccc946",
   "metadata": {
    "id": "6fccc946"
   },
   "outputs": [
    {
     "data": {
      "text/html": [
       "<div>\n",
       "<style scoped>\n",
       "    .dataframe tbody tr th:only-of-type {\n",
       "        vertical-align: middle;\n",
       "    }\n",
       "\n",
       "    .dataframe tbody tr th {\n",
       "        vertical-align: top;\n",
       "    }\n",
       "\n",
       "    .dataframe thead th {\n",
       "        text-align: right;\n",
       "    }\n",
       "</style>\n",
       "<table border=\"1\" class=\"dataframe\">\n",
       "  <thead>\n",
       "    <tr style=\"text-align: right;\">\n",
       "      <th></th>\n",
       "      <th>Unix Timestamp</th>\n",
       "      <th>IDhex</th>\n",
       "      <th>DataFrame</th>\n",
       "    </tr>\n",
       "  </thead>\n",
       "  <tbody>\n",
       "    <tr>\n",
       "      <th>0</th>\n",
       "      <td>1000000000.000000</td>\n",
       "      <td>526</td>\n",
       "      <td>351843970204301567</td>\n",
       "    </tr>\n",
       "    <tr>\n",
       "      <th>1</th>\n",
       "      <td>1000000000.000002</td>\n",
       "      <td>1314</td>\n",
       "      <td>1006551218315624449</td>\n",
       "    </tr>\n",
       "    <tr>\n",
       "      <th>2</th>\n",
       "      <td>1000000000.000003</td>\n",
       "      <td>870</td>\n",
       "      <td>580362369852800227</td>\n",
       "    </tr>\n",
       "    <tr>\n",
       "      <th>3</th>\n",
       "      <td>1000000000.001000</td>\n",
       "      <td>1408</td>\n",
       "      <td>1057521664</td>\n",
       "    </tr>\n",
       "    <tr>\n",
       "      <th>4</th>\n",
       "      <td>1000000000.001001</td>\n",
       "      <td>208</td>\n",
       "      <td>299296163008354416</td>\n",
       "    </tr>\n",
       "    <tr>\n",
       "      <th>...</th>\n",
       "      <td>...</td>\n",
       "      <td>...</td>\n",
       "      <td>...</td>\n",
       "    </tr>\n",
       "    <tr>\n",
       "      <th>49337</th>\n",
       "      <td>1000000020.338944</td>\n",
       "      <td>1076</td>\n",
       "      <td>9713132565186775</td>\n",
       "    </tr>\n",
       "    <tr>\n",
       "      <th>49338</th>\n",
       "      <td>1000000020.338946</td>\n",
       "      <td>1760</td>\n",
       "      <td>0</td>\n",
       "    </tr>\n",
       "    <tr>\n",
       "      <th>49339</th>\n",
       "      <td>1000000020.338947</td>\n",
       "      <td>640</td>\n",
       "      <td>112027208234565632</td>\n",
       "    </tr>\n",
       "    <tr>\n",
       "      <th>49340</th>\n",
       "      <td>1000000020.338948</td>\n",
       "      <td>1176</td>\n",
       "      <td>612485150465851392</td>\n",
       "    </tr>\n",
       "    <tr>\n",
       "      <th>49341</th>\n",
       "      <td>1000000020.338949</td>\n",
       "      <td>560</td>\n",
       "      <td>1103381909490106688</td>\n",
       "    </tr>\n",
       "  </tbody>\n",
       "</table>\n",
       "<p>49342 rows × 3 columns</p>\n",
       "</div>"
      ],
      "text/plain": [
       "          Unix Timestamp  IDhex            DataFrame\n",
       "0      1000000000.000000    526   351843970204301567\n",
       "1      1000000000.000002   1314  1006551218315624449\n",
       "2      1000000000.000003    870   580362369852800227\n",
       "3      1000000000.001000   1408           1057521664\n",
       "4      1000000000.001001    208   299296163008354416\n",
       "...                  ...    ...                  ...\n",
       "49337  1000000020.338944   1076     9713132565186775\n",
       "49338  1000000020.338946   1760                    0\n",
       "49339  1000000020.338947    640   112027208234565632\n",
       "49340  1000000020.338948   1176   612485150465851392\n",
       "49341  1000000020.338949    560  1103381909490106688\n",
       "\n",
       "[49342 rows x 3 columns]"
      ]
     },
     "execution_count": 51,
     "metadata": {},
     "output_type": "execute_result"
    }
   ],
   "source": [
    "result = result.loc[:, ~result.columns.str.contains('^Channel')]\n",
    "\n",
    "result"
   ]
  },
  {
   "cell_type": "markdown",
   "id": "680f8c09",
   "metadata": {},
   "source": [
    " done with preprocessing Now moving towards implmentation of algorithms."
   ]
  },
  {
   "cell_type": "code",
   "execution_count": 52,
   "id": "c3a0ded5",
   "metadata": {
    "id": "11555ebe"
   },
   "outputs": [],
   "source": [
    "import matplotlib.pyplot as plt\n",
    "import pandas as pd"
   ]
  },
  {
   "cell_type": "markdown",
   "id": "33b89e0f",
   "metadata": {},
   "source": [
    "As you can see above the size of dataset is too huge, so need to be divided in chunks ,here i Have splitted the dataset in equally chunk so that ,we can implment further"
   ]
  },
  {
   "cell_type": "code",
   "execution_count": 53,
   "id": "60038e10",
   "metadata": {
    "id": "60038e10"
   },
   "outputs": [],
   "source": [
    "# total rows are 49342  49 thousand 3 hundred and 42\n",
    "n =17500  #chunk row size\n",
    "list_df = [result[i:i+n]\n",
    "for i in range(0,result.shape[0],n)]"
   ]
  },
  {
   "cell_type": "code",
   "execution_count": 54,
   "id": "69d6e185",
   "metadata": {
    "colab": {
     "base_uri": "https://localhost:8080/"
    },
    "id": "69d6e185",
    "outputId": "9f21e1d3-1439-4196-b74a-1a67d48d8ad9"
   },
   "outputs": [
    {
     "data": {
      "text/html": [
       "<div>\n",
       "<style scoped>\n",
       "    .dataframe tbody tr th:only-of-type {\n",
       "        vertical-align: middle;\n",
       "    }\n",
       "\n",
       "    .dataframe tbody tr th {\n",
       "        vertical-align: top;\n",
       "    }\n",
       "\n",
       "    .dataframe thead th {\n",
       "        text-align: right;\n",
       "    }\n",
       "</style>\n",
       "<table border=\"1\" class=\"dataframe\">\n",
       "  <thead>\n",
       "    <tr style=\"text-align: right;\">\n",
       "      <th></th>\n",
       "      <th>Unix Timestamp</th>\n",
       "      <th>IDhex</th>\n",
       "      <th>DataFrame</th>\n",
       "    </tr>\n",
       "  </thead>\n",
       "  <tbody>\n",
       "    <tr>\n",
       "      <th>35000</th>\n",
       "      <td>1000000014.364543</td>\n",
       "      <td>167</td>\n",
       "      <td>74607980113321482</td>\n",
       "    </tr>\n",
       "    <tr>\n",
       "      <th>35001</th>\n",
       "      <td>1000000014.366693</td>\n",
       "      <td>1760</td>\n",
       "      <td>0</td>\n",
       "    </tr>\n",
       "    <tr>\n",
       "      <th>35002</th>\n",
       "      <td>1000000014.368139</td>\n",
       "      <td>1255</td>\n",
       "      <td>5640712192</td>\n",
       "    </tr>\n",
       "    <tr>\n",
       "      <th>35003</th>\n",
       "      <td>1000000014.369100</td>\n",
       "      <td>339</td>\n",
       "      <td>49408</td>\n",
       "    </tr>\n",
       "    <tr>\n",
       "      <th>35004</th>\n",
       "      <td>1000000014.369103</td>\n",
       "      <td>4095</td>\n",
       "      <td>0</td>\n",
       "    </tr>\n",
       "    <tr>\n",
       "      <th>...</th>\n",
       "      <td>...</td>\n",
       "      <td>...</td>\n",
       "      <td>...</td>\n",
       "    </tr>\n",
       "    <tr>\n",
       "      <th>49337</th>\n",
       "      <td>1000000020.338944</td>\n",
       "      <td>1076</td>\n",
       "      <td>9713132565186775</td>\n",
       "    </tr>\n",
       "    <tr>\n",
       "      <th>49338</th>\n",
       "      <td>1000000020.338946</td>\n",
       "      <td>1760</td>\n",
       "      <td>0</td>\n",
       "    </tr>\n",
       "    <tr>\n",
       "      <th>49339</th>\n",
       "      <td>1000000020.338947</td>\n",
       "      <td>640</td>\n",
       "      <td>112027208234565632</td>\n",
       "    </tr>\n",
       "    <tr>\n",
       "      <th>49340</th>\n",
       "      <td>1000000020.338948</td>\n",
       "      <td>1176</td>\n",
       "      <td>612485150465851392</td>\n",
       "    </tr>\n",
       "    <tr>\n",
       "      <th>49341</th>\n",
       "      <td>1000000020.338949</td>\n",
       "      <td>560</td>\n",
       "      <td>1103381909490106688</td>\n",
       "    </tr>\n",
       "  </tbody>\n",
       "</table>\n",
       "<p>14342 rows × 3 columns</p>\n",
       "</div>"
      ],
      "text/plain": [
       "          Unix Timestamp  IDhex            DataFrame\n",
       "35000  1000000014.364543    167    74607980113321482\n",
       "35001  1000000014.366693   1760                    0\n",
       "35002  1000000014.368139   1255           5640712192\n",
       "35003  1000000014.369100    339                49408\n",
       "35004  1000000014.369103   4095                    0\n",
       "...                  ...    ...                  ...\n",
       "49337  1000000020.338944   1076     9713132565186775\n",
       "49338  1000000020.338946   1760                    0\n",
       "49339  1000000020.338947    640   112027208234565632\n",
       "49340  1000000020.338948   1176   612485150465851392\n",
       "49341  1000000020.338949    560  1103381909490106688\n",
       "\n",
       "[14342 rows x 3 columns]"
      ]
     },
     "execution_count": 54,
     "metadata": {},
     "output_type": "execute_result"
    }
   ],
   "source": [
    "list_df[0]\n",
    "list_df[1]\n",
    "list_df[2]"
   ]
  },
  {
   "cell_type": "code",
   "execution_count": 55,
   "id": "037bc615",
   "metadata": {
    "colab": {
     "base_uri": "https://localhost:8080/"
    },
    "id": "037bc615",
    "outputId": "c87cd1a4-31dd-4beb-c929-3924e1d063f5"
   },
   "outputs": [
    {
     "data": {
      "text/plain": [
       "(17500, 3)"
      ]
     },
     "execution_count": 55,
     "metadata": {},
     "output_type": "execute_result"
    }
   ],
   "source": [
    "# now checnking the size of first chunk.\n",
    "res=list_df[0]\n",
    "res.shape"
   ]
  },
  {
   "cell_type": "markdown",
   "id": "9658957a",
   "metadata": {},
   "source": [
    "here i'm seprating  dependent and independent column from the dataset "
   ]
  },
  {
   "cell_type": "code",
   "execution_count": 56,
   "id": "4c93c47f",
   "metadata": {
    "colab": {
     "base_uri": "https://localhost:8080/"
    },
    "id": "4c93c47f",
    "outputId": "12422f39-385f-4436-9814-8921a8c205d4"
   },
   "outputs": [
    {
     "data": {
      "text/plain": [
       "array([['1000000000.000000', 526, 351843970204301567],\n",
       "       ['1000000000.000002', 1314, 1006551218315624449],\n",
       "       ['1000000000.000003', 870, 580362369852800227],\n",
       "       ...,\n",
       "       ['1000000007.115244', 569, 1036],\n",
       "       ['1000000007.116302', 4095, 0],\n",
       "       ['1000000007.116305', 615, 1152921504606846975]], dtype=object)"
      ]
     },
     "execution_count": 56,
     "metadata": {},
     "output_type": "execute_result"
    }
   ],
   "source": [
    "X = res.iloc[:, :3].values\n",
    "X"
   ]
  },
  {
   "cell_type": "code",
   "execution_count": 57,
   "id": "77a4576d",
   "metadata": {
    "colab": {
     "base_uri": "https://localhost:8080/",
     "height": 417
    },
    "id": "77a4576d",
    "outputId": "8bb08573-e5e7-4c7b-e359-652a7aa02891"
   },
   "outputs": [
    {
     "data": {
      "text/plain": [
       "array([ 351843970204301567, 1006551218315624449,  580362369852800227, ...,\n",
       "                      1036,                   0, 1152921504606846975],\n",
       "      dtype=int64)"
      ]
     },
     "execution_count": 57,
     "metadata": {},
     "output_type": "execute_result"
    }
   ],
   "source": [
    "y = res.iloc[:, 2].values\n",
    "y"
   ]
  },
  {
   "cell_type": "markdown",
   "id": "48b977dc",
   "metadata": {
    "id": "48b977dc"
   },
   "source": [
    "\n"
   ]
  },
  {
   "cell_type": "code",
   "execution_count": 58,
   "id": "db934255",
   "metadata": {
    "id": "7e361055"
   },
   "outputs": [
    {
     "name": "stdout",
     "output_type": "stream",
     "text": [
      "[['1000000000.000000' 526 351843970204301567]\n",
      " ['1000000000.000002' 1314 1006551218315624449]\n",
      " ['1000000000.000003' 870 580362369852800227]\n",
      " ...\n",
      " ['1000000007.115244' 569 1036]\n",
      " ['1000000007.116302' 4095 0]\n",
      " ['1000000007.116305' 615 1152921504606846975]]\n",
      "[ 351843970204301567 1006551218315624449  580362369852800227 ...\n",
      "                1036                   0 1152921504606846975]\n"
     ]
    }
   ],
   "source": [
    "print(X)\n",
    "print(y)"
   ]
  },
  {
   "cell_type": "markdown",
   "id": "1c653ba8",
   "metadata": {},
   "source": [
    "Importing all the libraries which are required in implementation of all 4 algorithm's and splitted the dataset in 70,30 ratio :\n",
    "<br>\n",
    "70% for training\n",
    "<br>\n",
    "30% for testing"
   ]
  },
  {
   "cell_type": "code",
   "execution_count": 59,
   "id": "079738bf",
   "metadata": {
    "id": "079738bf"
   },
   "outputs": [],
   "source": [
    "from sklearn import metrics\n",
    "from sklearn.metrics import accuracy_score\n",
    "from sklearn import svm\n",
    "from sklearn.svm import SVC\n",
    "from sklearn.ensemble import RandomForestClassifier\n",
    "from sklearn.neighbors import KNeighborsClassifier\n",
    "from sklearn.tree import DecisionTreeClassifier\n",
    "from sklearn.model_selection import GridSearchCV\n",
    "from sklearn.metrics import confusion_matrix, classification_report\n",
    "from sklearn.model_selection import train_test_split\n",
    "X_train, X_test, y_train, y_test = train_test_split(X, y, test_size = 0.3, random_state = 0)"
   ]
  },
  {
   "cell_type": "markdown",
   "id": "09e7845f",
   "metadata": {
    "id": "P0Jv09Ee15od"
   },
   "source": [
    "# RANDOM FOREST"
   ]
  },
  {
   "cell_type": "markdown",
   "id": "d763f7d2",
   "metadata": {},
   "source": [
    "First i'm implementing Random Forest Classifier."
   ]
  },
  {
   "cell_type": "code",
   "execution_count": 60,
   "id": "xgFyQA602OXx",
   "metadata": {
    "colab": {
     "base_uri": "https://localhost:8080/",
     "height": 417
    },
    "id": "xgFyQA602OXx",
    "outputId": "a09d769e-eb54-4611-bb1e-38ef02b9e78c"
   },
   "outputs": [
    {
     "ename": "MemoryError",
     "evalue": "could not allocate 48529408 bytes",
     "output_type": "error",
     "traceback": [
      "\u001b[1;31m---------------------------------------------------------------------------\u001b[0m",
      "\u001b[1;31mMemoryError\u001b[0m                               Traceback (most recent call last)",
      "\u001b[1;32m<ipython-input-60-1a3d9e2e03df>\u001b[0m in \u001b[0;36m<module>\u001b[1;34m\u001b[0m\n\u001b[0;32m      1\u001b[0m \u001b[1;32mfrom\u001b[0m \u001b[0msklearn\u001b[0m \u001b[1;32mimport\u001b[0m \u001b[0mmetrics\u001b[0m\u001b[1;33m\u001b[0m\u001b[1;33m\u001b[0m\u001b[0m\n\u001b[0;32m      2\u001b[0m \u001b[0mmodel\u001b[0m\u001b[1;33m=\u001b[0m \u001b[0mRandomForestClassifier\u001b[0m\u001b[1;33m(\u001b[0m\u001b[1;33m)\u001b[0m\u001b[1;33m\u001b[0m\u001b[1;33m\u001b[0m\u001b[0m\n\u001b[1;32m----> 3\u001b[1;33m \u001b[0mmodel\u001b[0m\u001b[1;33m.\u001b[0m\u001b[0mfit\u001b[0m\u001b[1;33m(\u001b[0m\u001b[0mX_train\u001b[0m\u001b[1;33m,\u001b[0m\u001b[0my_train\u001b[0m\u001b[1;33m)\u001b[0m\u001b[1;33m\u001b[0m\u001b[1;33m\u001b[0m\u001b[0m\n\u001b[0m\u001b[0;32m      4\u001b[0m \u001b[0mprediction\u001b[0m\u001b[1;33m=\u001b[0m\u001b[0mmodel\u001b[0m\u001b[1;33m.\u001b[0m\u001b[0mpredict\u001b[0m\u001b[1;33m(\u001b[0m\u001b[0mX_test\u001b[0m\u001b[1;33m)\u001b[0m\u001b[1;33m\u001b[0m\u001b[1;33m\u001b[0m\u001b[0m\n\u001b[0;32m      5\u001b[0m \u001b[0mprint\u001b[0m\u001b[1;33m(\u001b[0m\u001b[1;34m'Accuracy From Random Forest: '\u001b[0m\u001b[1;33m,\u001b[0m \u001b[0maccuracy_score\u001b[0m\u001b[1;33m(\u001b[0m\u001b[0my_test\u001b[0m\u001b[1;33m,\u001b[0m \u001b[0mprediction\u001b[0m\u001b[1;33m)\u001b[0m\u001b[1;33m)\u001b[0m\u001b[1;33m\u001b[0m\u001b[1;33m\u001b[0m\u001b[0m\n",
      "\u001b[1;32mD:\\anacondaa\\lib\\site-packages\\sklearn\\ensemble\\_forest.py\u001b[0m in \u001b[0;36mfit\u001b[1;34m(self, X, y, sample_weight)\u001b[0m\n\u001b[0;32m    385\u001b[0m             \u001b[1;31m# parallel_backend contexts set at a higher level,\u001b[0m\u001b[1;33m\u001b[0m\u001b[1;33m\u001b[0m\u001b[1;33m\u001b[0m\u001b[0m\n\u001b[0;32m    386\u001b[0m             \u001b[1;31m# since correctness does not rely on using threads.\u001b[0m\u001b[1;33m\u001b[0m\u001b[1;33m\u001b[0m\u001b[1;33m\u001b[0m\u001b[0m\n\u001b[1;32m--> 387\u001b[1;33m             trees = Parallel(n_jobs=self.n_jobs, verbose=self.verbose,\n\u001b[0m\u001b[0;32m    388\u001b[0m                              \u001b[1;33m**\u001b[0m\u001b[0m_joblib_parallel_args\u001b[0m\u001b[1;33m(\u001b[0m\u001b[0mprefer\u001b[0m\u001b[1;33m=\u001b[0m\u001b[1;34m'threads'\u001b[0m\u001b[1;33m)\u001b[0m\u001b[1;33m)\u001b[0m\u001b[1;33m(\u001b[0m\u001b[1;33m\u001b[0m\u001b[1;33m\u001b[0m\u001b[0m\n\u001b[0;32m    389\u001b[0m                 delayed(_parallel_build_trees)(\n",
      "\u001b[1;32mD:\\anacondaa\\lib\\site-packages\\joblib\\parallel.py\u001b[0m in \u001b[0;36m__call__\u001b[1;34m(self, iterable)\u001b[0m\n\u001b[0;32m   1042\u001b[0m                 \u001b[0mself\u001b[0m\u001b[1;33m.\u001b[0m\u001b[0m_iterating\u001b[0m \u001b[1;33m=\u001b[0m \u001b[0mself\u001b[0m\u001b[1;33m.\u001b[0m\u001b[0m_original_iterator\u001b[0m \u001b[1;32mis\u001b[0m \u001b[1;32mnot\u001b[0m \u001b[1;32mNone\u001b[0m\u001b[1;33m\u001b[0m\u001b[1;33m\u001b[0m\u001b[0m\n\u001b[0;32m   1043\u001b[0m \u001b[1;33m\u001b[0m\u001b[0m\n\u001b[1;32m-> 1044\u001b[1;33m             \u001b[1;32mwhile\u001b[0m \u001b[0mself\u001b[0m\u001b[1;33m.\u001b[0m\u001b[0mdispatch_one_batch\u001b[0m\u001b[1;33m(\u001b[0m\u001b[0miterator\u001b[0m\u001b[1;33m)\u001b[0m\u001b[1;33m:\u001b[0m\u001b[1;33m\u001b[0m\u001b[1;33m\u001b[0m\u001b[0m\n\u001b[0m\u001b[0;32m   1045\u001b[0m                 \u001b[1;32mpass\u001b[0m\u001b[1;33m\u001b[0m\u001b[1;33m\u001b[0m\u001b[0m\n\u001b[0;32m   1046\u001b[0m \u001b[1;33m\u001b[0m\u001b[0m\n",
      "\u001b[1;32mD:\\anacondaa\\lib\\site-packages\\joblib\\parallel.py\u001b[0m in \u001b[0;36mdispatch_one_batch\u001b[1;34m(self, iterator)\u001b[0m\n\u001b[0;32m    857\u001b[0m                 \u001b[1;32mreturn\u001b[0m \u001b[1;32mFalse\u001b[0m\u001b[1;33m\u001b[0m\u001b[1;33m\u001b[0m\u001b[0m\n\u001b[0;32m    858\u001b[0m             \u001b[1;32melse\u001b[0m\u001b[1;33m:\u001b[0m\u001b[1;33m\u001b[0m\u001b[1;33m\u001b[0m\u001b[0m\n\u001b[1;32m--> 859\u001b[1;33m                 \u001b[0mself\u001b[0m\u001b[1;33m.\u001b[0m\u001b[0m_dispatch\u001b[0m\u001b[1;33m(\u001b[0m\u001b[0mtasks\u001b[0m\u001b[1;33m)\u001b[0m\u001b[1;33m\u001b[0m\u001b[1;33m\u001b[0m\u001b[0m\n\u001b[0m\u001b[0;32m    860\u001b[0m                 \u001b[1;32mreturn\u001b[0m \u001b[1;32mTrue\u001b[0m\u001b[1;33m\u001b[0m\u001b[1;33m\u001b[0m\u001b[0m\n\u001b[0;32m    861\u001b[0m \u001b[1;33m\u001b[0m\u001b[0m\n",
      "\u001b[1;32mD:\\anacondaa\\lib\\site-packages\\joblib\\parallel.py\u001b[0m in \u001b[0;36m_dispatch\u001b[1;34m(self, batch)\u001b[0m\n\u001b[0;32m    775\u001b[0m         \u001b[1;32mwith\u001b[0m \u001b[0mself\u001b[0m\u001b[1;33m.\u001b[0m\u001b[0m_lock\u001b[0m\u001b[1;33m:\u001b[0m\u001b[1;33m\u001b[0m\u001b[1;33m\u001b[0m\u001b[0m\n\u001b[0;32m    776\u001b[0m             \u001b[0mjob_idx\u001b[0m \u001b[1;33m=\u001b[0m \u001b[0mlen\u001b[0m\u001b[1;33m(\u001b[0m\u001b[0mself\u001b[0m\u001b[1;33m.\u001b[0m\u001b[0m_jobs\u001b[0m\u001b[1;33m)\u001b[0m\u001b[1;33m\u001b[0m\u001b[1;33m\u001b[0m\u001b[0m\n\u001b[1;32m--> 777\u001b[1;33m             \u001b[0mjob\u001b[0m \u001b[1;33m=\u001b[0m \u001b[0mself\u001b[0m\u001b[1;33m.\u001b[0m\u001b[0m_backend\u001b[0m\u001b[1;33m.\u001b[0m\u001b[0mapply_async\u001b[0m\u001b[1;33m(\u001b[0m\u001b[0mbatch\u001b[0m\u001b[1;33m,\u001b[0m \u001b[0mcallback\u001b[0m\u001b[1;33m=\u001b[0m\u001b[0mcb\u001b[0m\u001b[1;33m)\u001b[0m\u001b[1;33m\u001b[0m\u001b[1;33m\u001b[0m\u001b[0m\n\u001b[0m\u001b[0;32m    778\u001b[0m             \u001b[1;31m# A job can complete so quickly than its callback is\u001b[0m\u001b[1;33m\u001b[0m\u001b[1;33m\u001b[0m\u001b[1;33m\u001b[0m\u001b[0m\n\u001b[0;32m    779\u001b[0m             \u001b[1;31m# called before we get here, causing self._jobs to\u001b[0m\u001b[1;33m\u001b[0m\u001b[1;33m\u001b[0m\u001b[1;33m\u001b[0m\u001b[0m\n",
      "\u001b[1;32mD:\\anacondaa\\lib\\site-packages\\joblib\\_parallel_backends.py\u001b[0m in \u001b[0;36mapply_async\u001b[1;34m(self, func, callback)\u001b[0m\n\u001b[0;32m    206\u001b[0m     \u001b[1;32mdef\u001b[0m \u001b[0mapply_async\u001b[0m\u001b[1;33m(\u001b[0m\u001b[0mself\u001b[0m\u001b[1;33m,\u001b[0m \u001b[0mfunc\u001b[0m\u001b[1;33m,\u001b[0m \u001b[0mcallback\u001b[0m\u001b[1;33m=\u001b[0m\u001b[1;32mNone\u001b[0m\u001b[1;33m)\u001b[0m\u001b[1;33m:\u001b[0m\u001b[1;33m\u001b[0m\u001b[1;33m\u001b[0m\u001b[0m\n\u001b[0;32m    207\u001b[0m         \u001b[1;34m\"\"\"Schedule a func to be run\"\"\"\u001b[0m\u001b[1;33m\u001b[0m\u001b[1;33m\u001b[0m\u001b[0m\n\u001b[1;32m--> 208\u001b[1;33m         \u001b[0mresult\u001b[0m \u001b[1;33m=\u001b[0m \u001b[0mImmediateResult\u001b[0m\u001b[1;33m(\u001b[0m\u001b[0mfunc\u001b[0m\u001b[1;33m)\u001b[0m\u001b[1;33m\u001b[0m\u001b[1;33m\u001b[0m\u001b[0m\n\u001b[0m\u001b[0;32m    209\u001b[0m         \u001b[1;32mif\u001b[0m \u001b[0mcallback\u001b[0m\u001b[1;33m:\u001b[0m\u001b[1;33m\u001b[0m\u001b[1;33m\u001b[0m\u001b[0m\n\u001b[0;32m    210\u001b[0m             \u001b[0mcallback\u001b[0m\u001b[1;33m(\u001b[0m\u001b[0mresult\u001b[0m\u001b[1;33m)\u001b[0m\u001b[1;33m\u001b[0m\u001b[1;33m\u001b[0m\u001b[0m\n",
      "\u001b[1;32mD:\\anacondaa\\lib\\site-packages\\joblib\\_parallel_backends.py\u001b[0m in \u001b[0;36m__init__\u001b[1;34m(self, batch)\u001b[0m\n\u001b[0;32m    570\u001b[0m         \u001b[1;31m# Don't delay the application, to avoid keeping the input\u001b[0m\u001b[1;33m\u001b[0m\u001b[1;33m\u001b[0m\u001b[1;33m\u001b[0m\u001b[0m\n\u001b[0;32m    571\u001b[0m         \u001b[1;31m# arguments in memory\u001b[0m\u001b[1;33m\u001b[0m\u001b[1;33m\u001b[0m\u001b[1;33m\u001b[0m\u001b[0m\n\u001b[1;32m--> 572\u001b[1;33m         \u001b[0mself\u001b[0m\u001b[1;33m.\u001b[0m\u001b[0mresults\u001b[0m \u001b[1;33m=\u001b[0m \u001b[0mbatch\u001b[0m\u001b[1;33m(\u001b[0m\u001b[1;33m)\u001b[0m\u001b[1;33m\u001b[0m\u001b[1;33m\u001b[0m\u001b[0m\n\u001b[0m\u001b[0;32m    573\u001b[0m \u001b[1;33m\u001b[0m\u001b[0m\n\u001b[0;32m    574\u001b[0m     \u001b[1;32mdef\u001b[0m \u001b[0mget\u001b[0m\u001b[1;33m(\u001b[0m\u001b[0mself\u001b[0m\u001b[1;33m)\u001b[0m\u001b[1;33m:\u001b[0m\u001b[1;33m\u001b[0m\u001b[1;33m\u001b[0m\u001b[0m\n",
      "\u001b[1;32mD:\\anacondaa\\lib\\site-packages\\joblib\\parallel.py\u001b[0m in \u001b[0;36m__call__\u001b[1;34m(self)\u001b[0m\n\u001b[0;32m    260\u001b[0m         \u001b[1;31m# change the default number of processes to -1\u001b[0m\u001b[1;33m\u001b[0m\u001b[1;33m\u001b[0m\u001b[1;33m\u001b[0m\u001b[0m\n\u001b[0;32m    261\u001b[0m         \u001b[1;32mwith\u001b[0m \u001b[0mparallel_backend\u001b[0m\u001b[1;33m(\u001b[0m\u001b[0mself\u001b[0m\u001b[1;33m.\u001b[0m\u001b[0m_backend\u001b[0m\u001b[1;33m,\u001b[0m \u001b[0mn_jobs\u001b[0m\u001b[1;33m=\u001b[0m\u001b[0mself\u001b[0m\u001b[1;33m.\u001b[0m\u001b[0m_n_jobs\u001b[0m\u001b[1;33m)\u001b[0m\u001b[1;33m:\u001b[0m\u001b[1;33m\u001b[0m\u001b[1;33m\u001b[0m\u001b[0m\n\u001b[1;32m--> 262\u001b[1;33m             return [func(*args, **kwargs)\n\u001b[0m\u001b[0;32m    263\u001b[0m                     for func, args, kwargs in self.items]\n\u001b[0;32m    264\u001b[0m \u001b[1;33m\u001b[0m\u001b[0m\n",
      "\u001b[1;32mD:\\anacondaa\\lib\\site-packages\\joblib\\parallel.py\u001b[0m in \u001b[0;36m<listcomp>\u001b[1;34m(.0)\u001b[0m\n\u001b[0;32m    260\u001b[0m         \u001b[1;31m# change the default number of processes to -1\u001b[0m\u001b[1;33m\u001b[0m\u001b[1;33m\u001b[0m\u001b[1;33m\u001b[0m\u001b[0m\n\u001b[0;32m    261\u001b[0m         \u001b[1;32mwith\u001b[0m \u001b[0mparallel_backend\u001b[0m\u001b[1;33m(\u001b[0m\u001b[0mself\u001b[0m\u001b[1;33m.\u001b[0m\u001b[0m_backend\u001b[0m\u001b[1;33m,\u001b[0m \u001b[0mn_jobs\u001b[0m\u001b[1;33m=\u001b[0m\u001b[0mself\u001b[0m\u001b[1;33m.\u001b[0m\u001b[0m_n_jobs\u001b[0m\u001b[1;33m)\u001b[0m\u001b[1;33m:\u001b[0m\u001b[1;33m\u001b[0m\u001b[1;33m\u001b[0m\u001b[0m\n\u001b[1;32m--> 262\u001b[1;33m             return [func(*args, **kwargs)\n\u001b[0m\u001b[0;32m    263\u001b[0m                     for func, args, kwargs in self.items]\n\u001b[0;32m    264\u001b[0m \u001b[1;33m\u001b[0m\u001b[0m\n",
      "\u001b[1;32mD:\\anacondaa\\lib\\site-packages\\sklearn\\utils\\fixes.py\u001b[0m in \u001b[0;36m__call__\u001b[1;34m(self, *args, **kwargs)\u001b[0m\n\u001b[0;32m    220\u001b[0m     \u001b[1;32mdef\u001b[0m \u001b[0m__call__\u001b[0m\u001b[1;33m(\u001b[0m\u001b[0mself\u001b[0m\u001b[1;33m,\u001b[0m \u001b[1;33m*\u001b[0m\u001b[0margs\u001b[0m\u001b[1;33m,\u001b[0m \u001b[1;33m**\u001b[0m\u001b[0mkwargs\u001b[0m\u001b[1;33m)\u001b[0m\u001b[1;33m:\u001b[0m\u001b[1;33m\u001b[0m\u001b[1;33m\u001b[0m\u001b[0m\n\u001b[0;32m    221\u001b[0m         \u001b[1;32mwith\u001b[0m \u001b[0mconfig_context\u001b[0m\u001b[1;33m(\u001b[0m\u001b[1;33m**\u001b[0m\u001b[0mself\u001b[0m\u001b[1;33m.\u001b[0m\u001b[0mconfig\u001b[0m\u001b[1;33m)\u001b[0m\u001b[1;33m:\u001b[0m\u001b[1;33m\u001b[0m\u001b[1;33m\u001b[0m\u001b[0m\n\u001b[1;32m--> 222\u001b[1;33m             \u001b[1;32mreturn\u001b[0m \u001b[0mself\u001b[0m\u001b[1;33m.\u001b[0m\u001b[0mfunction\u001b[0m\u001b[1;33m(\u001b[0m\u001b[1;33m*\u001b[0m\u001b[0margs\u001b[0m\u001b[1;33m,\u001b[0m \u001b[1;33m**\u001b[0m\u001b[0mkwargs\u001b[0m\u001b[1;33m)\u001b[0m\u001b[1;33m\u001b[0m\u001b[1;33m\u001b[0m\u001b[0m\n\u001b[0m",
      "\u001b[1;32mD:\\anacondaa\\lib\\site-packages\\sklearn\\ensemble\\_forest.py\u001b[0m in \u001b[0;36m_parallel_build_trees\u001b[1;34m(tree, forest, X, y, sample_weight, tree_idx, n_trees, verbose, class_weight, n_samples_bootstrap)\u001b[0m\n\u001b[0;32m    167\u001b[0m                                                         indices=indices)\n\u001b[0;32m    168\u001b[0m \u001b[1;33m\u001b[0m\u001b[0m\n\u001b[1;32m--> 169\u001b[1;33m         \u001b[0mtree\u001b[0m\u001b[1;33m.\u001b[0m\u001b[0mfit\u001b[0m\u001b[1;33m(\u001b[0m\u001b[0mX\u001b[0m\u001b[1;33m,\u001b[0m \u001b[0my\u001b[0m\u001b[1;33m,\u001b[0m \u001b[0msample_weight\u001b[0m\u001b[1;33m=\u001b[0m\u001b[0mcurr_sample_weight\u001b[0m\u001b[1;33m,\u001b[0m \u001b[0mcheck_input\u001b[0m\u001b[1;33m=\u001b[0m\u001b[1;32mFalse\u001b[0m\u001b[1;33m)\u001b[0m\u001b[1;33m\u001b[0m\u001b[1;33m\u001b[0m\u001b[0m\n\u001b[0m\u001b[0;32m    170\u001b[0m     \u001b[1;32melse\u001b[0m\u001b[1;33m:\u001b[0m\u001b[1;33m\u001b[0m\u001b[1;33m\u001b[0m\u001b[0m\n\u001b[0;32m    171\u001b[0m         \u001b[0mtree\u001b[0m\u001b[1;33m.\u001b[0m\u001b[0mfit\u001b[0m\u001b[1;33m(\u001b[0m\u001b[0mX\u001b[0m\u001b[1;33m,\u001b[0m \u001b[0my\u001b[0m\u001b[1;33m,\u001b[0m \u001b[0msample_weight\u001b[0m\u001b[1;33m=\u001b[0m\u001b[0msample_weight\u001b[0m\u001b[1;33m,\u001b[0m \u001b[0mcheck_input\u001b[0m\u001b[1;33m=\u001b[0m\u001b[1;32mFalse\u001b[0m\u001b[1;33m)\u001b[0m\u001b[1;33m\u001b[0m\u001b[1;33m\u001b[0m\u001b[0m\n",
      "\u001b[1;32mD:\\anacondaa\\lib\\site-packages\\sklearn\\tree\\_classes.py\u001b[0m in \u001b[0;36mfit\u001b[1;34m(self, X, y, sample_weight, check_input, X_idx_sorted)\u001b[0m\n\u001b[0;32m    896\u001b[0m         \"\"\"\n\u001b[0;32m    897\u001b[0m \u001b[1;33m\u001b[0m\u001b[0m\n\u001b[1;32m--> 898\u001b[1;33m         super().fit(\n\u001b[0m\u001b[0;32m    899\u001b[0m             \u001b[0mX\u001b[0m\u001b[1;33m,\u001b[0m \u001b[0my\u001b[0m\u001b[1;33m,\u001b[0m\u001b[1;33m\u001b[0m\u001b[1;33m\u001b[0m\u001b[0m\n\u001b[0;32m    900\u001b[0m             \u001b[0msample_weight\u001b[0m\u001b[1;33m=\u001b[0m\u001b[0msample_weight\u001b[0m\u001b[1;33m,\u001b[0m\u001b[1;33m\u001b[0m\u001b[1;33m\u001b[0m\u001b[0m\n",
      "\u001b[1;32mD:\\anacondaa\\lib\\site-packages\\sklearn\\tree\\_classes.py\u001b[0m in \u001b[0;36mfit\u001b[1;34m(self, X, y, sample_weight, check_input, X_idx_sorted)\u001b[0m\n\u001b[0;32m    387\u001b[0m                                            min_impurity_split)\n\u001b[0;32m    388\u001b[0m \u001b[1;33m\u001b[0m\u001b[0m\n\u001b[1;32m--> 389\u001b[1;33m         \u001b[0mbuilder\u001b[0m\u001b[1;33m.\u001b[0m\u001b[0mbuild\u001b[0m\u001b[1;33m(\u001b[0m\u001b[0mself\u001b[0m\u001b[1;33m.\u001b[0m\u001b[0mtree_\u001b[0m\u001b[1;33m,\u001b[0m \u001b[0mX\u001b[0m\u001b[1;33m,\u001b[0m \u001b[0my\u001b[0m\u001b[1;33m,\u001b[0m \u001b[0msample_weight\u001b[0m\u001b[1;33m)\u001b[0m\u001b[1;33m\u001b[0m\u001b[1;33m\u001b[0m\u001b[0m\n\u001b[0m\u001b[0;32m    390\u001b[0m \u001b[1;33m\u001b[0m\u001b[0m\n\u001b[0;32m    391\u001b[0m         \u001b[1;32mif\u001b[0m \u001b[0mself\u001b[0m\u001b[1;33m.\u001b[0m\u001b[0mn_outputs_\u001b[0m \u001b[1;33m==\u001b[0m \u001b[1;36m1\u001b[0m \u001b[1;32mand\u001b[0m \u001b[0mis_classifier\u001b[0m\u001b[1;33m(\u001b[0m\u001b[0mself\u001b[0m\u001b[1;33m)\u001b[0m\u001b[1;33m:\u001b[0m\u001b[1;33m\u001b[0m\u001b[1;33m\u001b[0m\u001b[0m\n",
      "\u001b[1;32msklearn\\tree\\_tree.pyx\u001b[0m in \u001b[0;36msklearn.tree._tree.DepthFirstTreeBuilder.build\u001b[1;34m()\u001b[0m\n",
      "\u001b[1;32msklearn\\tree\\_tree.pyx\u001b[0m in \u001b[0;36msklearn.tree._tree.DepthFirstTreeBuilder.build\u001b[1;34m()\u001b[0m\n",
      "\u001b[1;32msklearn\\tree\\_tree.pyx\u001b[0m in \u001b[0;36msklearn.tree._tree.Tree._add_node\u001b[1;34m()\u001b[0m\n",
      "\u001b[1;32msklearn\\tree\\_tree.pyx\u001b[0m in \u001b[0;36msklearn.tree._tree.Tree._resize_c\u001b[1;34m()\u001b[0m\n",
      "\u001b[1;32msklearn\\tree\\_utils.pyx\u001b[0m in \u001b[0;36msklearn.tree._utils.safe_realloc\u001b[1;34m()\u001b[0m\n",
      "\u001b[1;31mMemoryError\u001b[0m: could not allocate 48529408 bytes"
     ]
    }
   ],
   "source": [
    "from sklearn import metrics\n",
    "model= RandomForestClassifier()\n",
    "model.fit(X_train,y_train)\n",
    "prediction=model.predict(X_test)\n",
    "print('Accuracy From Random Forest: ', accuracy_score(y_test, prediction))\n"
   ]
  },
  {
   "cell_type": "markdown",
   "id": "599f4fb0",
   "metadata": {
    "id": "6_3dWPLI139K"
   },
   "source": [
    "# DECISION TREE"
   ]
  },
  {
   "cell_type": "markdown",
   "id": "eeec84aa",
   "metadata": {},
   "source": [
    "As you can see that from random forest we are getting 61% accuracy which is not good, let's try an other algorithm and check "
   ]
  },
  {
   "cell_type": "code",
   "execution_count": null,
   "id": "e404463d",
   "metadata": {
    "colab": {
     "base_uri": "https://localhost:8080/"
    },
    "id": "e404463d",
    "outputId": "2bf81310-c1d8-4da7-89a4-f78f41bf3475"
   },
   "outputs": [],
   "source": [
    "DT = DecisionTreeClassifier()\n",
    "DT.fit(X_train, y_train)\n",
    "prediction=DT.predict(X_test)\n",
    "print('Accuracy DEcision Tree: ', accuracy_score(y_test, prediction))  \n",
    "\n",
    "\n"
   ]
  },
  {
   "cell_type": "markdown",
   "id": "36d6087d",
   "metadata": {
    "colab": {
     "base_uri": "https://localhost:8080/",
     "height": 417
    },
    "id": "DjCgU6-J2UD_",
    "outputId": "20c41301-6e7c-4a1a-a3fd-3b9356132029"
   },
   "source": [
    "# KNN"
   ]
  },
  {
   "cell_type": "code",
   "execution_count": null,
   "id": "d2049218",
   "metadata": {
    "colab": {
     "base_uri": "https://localhost:8080/"
    },
    "id": "d2049218",
    "outputId": "b6867690-7011-4988-d99b-d8418d9309eb"
   },
   "outputs": [],
   "source": [
    "knn1 = KNeighborsClassifier(n_neighbors=1)\n",
    "knn1.fit(X_train, y_train)\n",
    "prediction=knn1.predict(X_test)\n",
    "print('Accuracy From KNN: ', accuracy_score(y_test, prediction))\n",
    "\n"
   ]
  },
  {
   "cell_type": "markdown",
   "id": "7e51a4b5",
   "metadata": {},
   "source": [
    "# SVM"
   ]
  },
  {
   "cell_type": "code",
   "execution_count": null,
   "id": "e8823d33",
   "metadata": {
    "id": "e8823d33"
   },
   "outputs": [],
   "source": [
    "svm_m=SVC()\n",
    "svm_m.fit(X_train,y_train)\n",
    "prediction=svm_m.predict(X_test)\n",
    "print('Accuracy: ', accuracy_score(y_test, prediction), '\\n')\n",
    "\n"
   ]
  },
  {
   "cell_type": "markdown",
   "id": "201ddee1",
   "metadata": {
    "colab": {
     "base_uri": "https://localhost:8080/"
    },
    "id": "53d45077",
    "outputId": "23f4afad-893d-49ff-a631-5a6bf2156c77",
    "scrolled": true
   },
   "source": [
    "\n",
    "Here checking for  second chunk \n"
   ]
  },
  {
   "cell_type": "markdown",
   "id": "b48b3c22",
   "metadata": {
    "id": "a74a98ab"
   },
   "source": [
    "# SECOND CHUNK"
   ]
  },
  {
   "cell_type": "code",
   "execution_count": null,
   "id": "ecd1ce51",
   "metadata": {
    "id": "ecd1ce51"
   },
   "outputs": [],
   "source": [
    "res2=list_df[1]\n",
    "res2"
   ]
  },
  {
   "cell_type": "code",
   "execution_count": null,
   "id": "7054eb39",
   "metadata": {
    "id": "7054eb39"
   },
   "outputs": [],
   "source": [
    "X = res2.iloc[:, :3].values\n",
    "X"
   ]
  },
  {
   "cell_type": "code",
   "execution_count": null,
   "id": "86354d85",
   "metadata": {
    "id": "86354d85"
   },
   "outputs": [],
   "source": [
    "y = res2.iloc[:,2].values\n",
    "y"
   ]
  },
  {
   "cell_type": "code",
   "execution_count": null,
   "id": "3dce403b",
   "metadata": {
    "id": "3dce403b"
   },
   "outputs": [],
   "source": [
    "res2.shape"
   ]
  },
  {
   "cell_type": "markdown",
   "id": "164fe0f4",
   "metadata": {
    "id": "3fd0d488"
   },
   "source": [
    "# RANDOM FOREST"
   ]
  },
  {
   "cell_type": "code",
   "execution_count": null,
   "id": "1a9ac108",
   "metadata": {
    "id": "1a9ac108"
   },
   "outputs": [],
   "source": [
    "from sklearn import metrics\n",
    "model2= RandomForestClassifier()\n",
    "model2.fit(X_train,y_train)\n",
    "prediction=model2.predict(X_test)\n",
    "print('Accuracy From Random Forest: ', accuracy_score(y_test, prediction), '\\n')\n",
    "\n"
   ]
  },
  {
   "cell_type": "markdown",
   "id": "b70ef2eb",
   "metadata": {
    "id": "afe9056c"
   },
   "source": [
    "# KNN"
   ]
  },
  {
   "cell_type": "code",
   "execution_count": 33,
   "id": "7e5dc3e3",
   "metadata": {
    "id": "7e5dc3e3"
   },
   "outputs": [
    {
     "name": "stdout",
     "output_type": "stream",
     "text": [
      "Accuracy From KNN:  0.8053333333333333\n"
     ]
    }
   ],
   "source": [
    "knn2 = KNeighborsClassifier(n_neighbors=1)\n",
    "knn2.fit(X_train, y_train)\n",
    "\n",
    "prediction=knn2.predict(X_test)\n",
    "\n",
    "print('Accuracy From KNN: ', accuracy_score(y_test, prediction))\n",
    "\n"
   ]
  },
  {
   "cell_type": "markdown",
   "id": "ee59059d",
   "metadata": {},
   "source": [
    "# DECISION TREE"
   ]
  },
  {
   "cell_type": "code",
   "execution_count": 34,
   "id": "d8caeb0e",
   "metadata": {},
   "outputs": [
    {
     "ename": "MemoryError",
     "evalue": "could not allocate 24264704 bytes",
     "output_type": "error",
     "traceback": [
      "\u001b[1;31m---------------------------------------------------------------------------\u001b[0m",
      "\u001b[1;31mMemoryError\u001b[0m                               Traceback (most recent call last)",
      "\u001b[1;32m<ipython-input-34-907f5070f03f>\u001b[0m in \u001b[0;36m<module>\u001b[1;34m\u001b[0m\n\u001b[0;32m      1\u001b[0m \u001b[0mDT\u001b[0m \u001b[1;33m=\u001b[0m \u001b[0mDecisionTreeClassifier\u001b[0m\u001b[1;33m(\u001b[0m\u001b[1;33m)\u001b[0m\u001b[1;33m\u001b[0m\u001b[1;33m\u001b[0m\u001b[0m\n\u001b[1;32m----> 2\u001b[1;33m \u001b[0mDT\u001b[0m\u001b[1;33m.\u001b[0m\u001b[0mfit\u001b[0m\u001b[1;33m(\u001b[0m\u001b[0mX_train\u001b[0m\u001b[1;33m,\u001b[0m \u001b[0my_train\u001b[0m\u001b[1;33m)\u001b[0m\u001b[1;33m\u001b[0m\u001b[1;33m\u001b[0m\u001b[0m\n\u001b[0m\u001b[0;32m      3\u001b[0m \u001b[0mprediction\u001b[0m\u001b[1;33m=\u001b[0m\u001b[0mDT\u001b[0m\u001b[1;33m.\u001b[0m\u001b[0mpredict\u001b[0m\u001b[1;33m(\u001b[0m\u001b[0mX_test\u001b[0m\u001b[1;33m)\u001b[0m\u001b[1;33m\u001b[0m\u001b[1;33m\u001b[0m\u001b[0m\n\u001b[0;32m      4\u001b[0m \u001b[0mprint\u001b[0m\u001b[1;33m(\u001b[0m\u001b[1;34m'Accuracy DEcision Tree: '\u001b[0m\u001b[1;33m,\u001b[0m \u001b[0maccuracy_score\u001b[0m\u001b[1;33m(\u001b[0m\u001b[0my_test\u001b[0m\u001b[1;33m,\u001b[0m \u001b[0mprediction\u001b[0m\u001b[1;33m)\u001b[0m\u001b[1;33m)\u001b[0m\u001b[1;33m\u001b[0m\u001b[1;33m\u001b[0m\u001b[0m\n\u001b[0;32m      5\u001b[0m \u001b[1;33m\u001b[0m\u001b[0m\n",
      "\u001b[1;32mD:\\anacondaa\\lib\\site-packages\\sklearn\\tree\\_classes.py\u001b[0m in \u001b[0;36mfit\u001b[1;34m(self, X, y, sample_weight, check_input, X_idx_sorted)\u001b[0m\n\u001b[0;32m    896\u001b[0m         \"\"\"\n\u001b[0;32m    897\u001b[0m \u001b[1;33m\u001b[0m\u001b[0m\n\u001b[1;32m--> 898\u001b[1;33m         super().fit(\n\u001b[0m\u001b[0;32m    899\u001b[0m             \u001b[0mX\u001b[0m\u001b[1;33m,\u001b[0m \u001b[0my\u001b[0m\u001b[1;33m,\u001b[0m\u001b[1;33m\u001b[0m\u001b[1;33m\u001b[0m\u001b[0m\n\u001b[0;32m    900\u001b[0m             \u001b[0msample_weight\u001b[0m\u001b[1;33m=\u001b[0m\u001b[0msample_weight\u001b[0m\u001b[1;33m,\u001b[0m\u001b[1;33m\u001b[0m\u001b[1;33m\u001b[0m\u001b[0m\n",
      "\u001b[1;32mD:\\anacondaa\\lib\\site-packages\\sklearn\\tree\\_classes.py\u001b[0m in \u001b[0;36mfit\u001b[1;34m(self, X, y, sample_weight, check_input, X_idx_sorted)\u001b[0m\n\u001b[0;32m    387\u001b[0m                                            min_impurity_split)\n\u001b[0;32m    388\u001b[0m \u001b[1;33m\u001b[0m\u001b[0m\n\u001b[1;32m--> 389\u001b[1;33m         \u001b[0mbuilder\u001b[0m\u001b[1;33m.\u001b[0m\u001b[0mbuild\u001b[0m\u001b[1;33m(\u001b[0m\u001b[0mself\u001b[0m\u001b[1;33m.\u001b[0m\u001b[0mtree_\u001b[0m\u001b[1;33m,\u001b[0m \u001b[0mX\u001b[0m\u001b[1;33m,\u001b[0m \u001b[0my\u001b[0m\u001b[1;33m,\u001b[0m \u001b[0msample_weight\u001b[0m\u001b[1;33m)\u001b[0m\u001b[1;33m\u001b[0m\u001b[1;33m\u001b[0m\u001b[0m\n\u001b[0m\u001b[0;32m    390\u001b[0m \u001b[1;33m\u001b[0m\u001b[0m\n\u001b[0;32m    391\u001b[0m         \u001b[1;32mif\u001b[0m \u001b[0mself\u001b[0m\u001b[1;33m.\u001b[0m\u001b[0mn_outputs_\u001b[0m \u001b[1;33m==\u001b[0m \u001b[1;36m1\u001b[0m \u001b[1;32mand\u001b[0m \u001b[0mis_classifier\u001b[0m\u001b[1;33m(\u001b[0m\u001b[0mself\u001b[0m\u001b[1;33m)\u001b[0m\u001b[1;33m:\u001b[0m\u001b[1;33m\u001b[0m\u001b[1;33m\u001b[0m\u001b[0m\n",
      "\u001b[1;32msklearn\\tree\\_tree.pyx\u001b[0m in \u001b[0;36msklearn.tree._tree.DepthFirstTreeBuilder.build\u001b[1;34m()\u001b[0m\n",
      "\u001b[1;32msklearn\\tree\\_tree.pyx\u001b[0m in \u001b[0;36msklearn.tree._tree.DepthFirstTreeBuilder.build\u001b[1;34m()\u001b[0m\n",
      "\u001b[1;32msklearn\\tree\\_tree.pyx\u001b[0m in \u001b[0;36msklearn.tree._tree.Tree._add_node\u001b[1;34m()\u001b[0m\n",
      "\u001b[1;32msklearn\\tree\\_tree.pyx\u001b[0m in \u001b[0;36msklearn.tree._tree.Tree._resize_c\u001b[1;34m()\u001b[0m\n",
      "\u001b[1;32msklearn\\tree\\_utils.pyx\u001b[0m in \u001b[0;36msklearn.tree._utils.safe_realloc\u001b[1;34m()\u001b[0m\n",
      "\u001b[1;31mMemoryError\u001b[0m: could not allocate 24264704 bytes"
     ]
    }
   ],
   "source": [
    "DT = DecisionTreeClassifier()\n",
    "DT.fit(X_train, y_train)\n",
    "prediction=DT.predict(X_test)\n",
    "print('Accuracy DEcision Tree: ', accuracy_score(y_test, prediction))\n",
    "\n",
    "\n"
   ]
  },
  {
   "cell_type": "markdown",
   "id": "b79139ae",
   "metadata": {},
   "source": [
    "# SVM"
   ]
  },
  {
   "cell_type": "code",
   "execution_count": null,
   "id": "5588cb4c",
   "metadata": {
    "id": "5588cb4c"
   },
   "outputs": [],
   "source": [
    "svm_m2=SVC()\n",
    "svm_m2.fit(X_train,y_train)\n",
    "prediction=svm_m2.predict(X_test)\n",
    "print('Accuracy: ', accuracy_score(y_test, prediction), '\\n')\n"
   ]
  },
  {
   "cell_type": "code",
   "execution_count": 38,
   "id": "1d684677",
   "metadata": {},
   "outputs": [
    {
     "data": {
      "text/plain": [
       "(17500, 3)"
      ]
     },
     "execution_count": 38,
     "metadata": {},
     "output_type": "execute_result"
    }
   ],
   "source": [
    "res=list_df[0]\n",
    "res.shape"
   ]
  },
  {
   "cell_type": "markdown",
   "id": "7509d082",
   "metadata": {
    "id": "3af9b23a"
   },
   "source": [
    "# THIRD CHUNK"
   ]
  },
  {
   "cell_type": "code",
   "execution_count": 39,
   "id": "b0c08add",
   "metadata": {},
   "outputs": [
    {
     "data": {
      "text/plain": [
       "(14342, 3)"
      ]
     },
     "execution_count": 39,
     "metadata": {},
     "output_type": "execute_result"
    }
   ],
   "source": [
    "res3=list_df[2]\n",
    "res3.shape"
   ]
  },
  {
   "cell_type": "code",
   "execution_count": 40,
   "id": "26e85f05",
   "metadata": {
    "id": "26e85f05"
   },
   "outputs": [
    {
     "data": {
      "text/plain": [
       "array([['1000000014.364543', 167, 74607980113321482],\n",
       "       ['1000000014.366693', 1760, 0],\n",
       "       ['1000000014.368139', 1255, 5640712192],\n",
       "       ...,\n",
       "       ['1000000020.338947', 640, 112027208234565632],\n",
       "       ['1000000020.338948', 1176, 612485150465851392],\n",
       "       ['1000000020.338949', 560, 1103381909490106688]], dtype=object)"
      ]
     },
     "execution_count": 40,
     "metadata": {},
     "output_type": "execute_result"
    }
   ],
   "source": [
    "X = res3.iloc[:, :3].values\n",
    "X"
   ]
  },
  {
   "cell_type": "code",
   "execution_count": 41,
   "id": "5f90df89",
   "metadata": {},
   "outputs": [
    {
     "data": {
      "text/plain": [
       "array([  74607980113321482,                   0,          5640712192, ...,\n",
       "        112027208234565632,  612485150465851392, 1103381909490106688],\n",
       "      dtype=int64)"
      ]
     },
     "execution_count": 41,
     "metadata": {},
     "output_type": "execute_result"
    }
   ],
   "source": [
    "y = res3.iloc[:, 2].values\n",
    "y"
   ]
  },
  {
   "cell_type": "markdown",
   "id": "fa7d1eb1",
   "metadata": {},
   "source": [
    "# RANDOM FOREST"
   ]
  },
  {
   "cell_type": "code",
   "execution_count": 42,
   "id": "0e254d09",
   "metadata": {
    "id": "0e254d09"
   },
   "outputs": [
    {
     "name": "stdout",
     "output_type": "stream",
     "text": [
      "Accuracy From Random Forest:  0.6125714285714285 \n",
      "\n"
     ]
    }
   ],
   "source": [
    "from sklearn import metrics\n",
    "model3= RandomForestClassifier()\n",
    "model3.fit(X_train,y_train)\n",
    "prediction=model3.predict(X_test)\n",
    "print('Accuracy From Random Forest: ', accuracy_score(y_test, prediction), '\\n')\n",
    "\n"
   ]
  },
  {
   "cell_type": "markdown",
   "id": "4cc0ce67",
   "metadata": {},
   "source": [
    "# KNN"
   ]
  },
  {
   "cell_type": "code",
   "execution_count": 61,
   "id": "673b0101",
   "metadata": {},
   "outputs": [
    {
     "name": "stdout",
     "output_type": "stream",
     "text": [
      "Accuracy From KNN:  0.8053333333333333\n"
     ]
    }
   ],
   "source": [
    "knn3 = KNeighborsClassifier(n_neighbors=1)\n",
    "knn3.fit(X_train, y_train)\n",
    "\n",
    "prediction=knn3.predict(X_test)\n",
    "\n",
    "print('Accuracy From KNN: ', accuracy_score(y_test, prediction))\n",
    "\n"
   ]
  },
  {
   "cell_type": "markdown",
   "id": "f6d02436",
   "metadata": {},
   "source": [
    "# DECISION TREE"
   ]
  },
  {
   "cell_type": "code",
   "execution_count": 62,
   "id": "34a20084",
   "metadata": {},
   "outputs": [
    {
     "name": "stdout",
     "output_type": "stream",
     "text": [
      "Accuracy DEcision Tree:  0.6131428571428571\n"
     ]
    }
   ],
   "source": [
    "DT3 = DecisionTreeClassifier()\n",
    "DT3.fit(X_train, y_train)\n",
    "prediction=DT3.predict(X_test)\n",
    "print('Accuracy DEcision Tree: ', accuracy_score(y_test, prediction))\n",
    "\n",
    "\n"
   ]
  },
  {
   "cell_type": "markdown",
   "id": "c9844d81",
   "metadata": {},
   "source": [
    "# SVM"
   ]
  },
  {
   "cell_type": "code",
   "execution_count": 65,
   "id": "0048a508",
   "metadata": {},
   "outputs": [
    {
     "name": "stdout",
     "output_type": "stream",
     "text": [
      "Accuracy:  0.20895238095238095 \n",
      "\n"
     ]
    }
   ],
   "source": [
    "svm_m2=SVC()\n",
    "svm_m2.fit(X_train,y_train)\n",
    "prediction=svm_m2.predict(X_test)\n",
    "print('Accuracy: ', accuracy_score(y_test, prediction), '\\n')\n"
   ]
  },
  {
   "cell_type": "markdown",
   "id": "6d25b1e2",
   "metadata": {},
   "source": [
    "# Hyperperameter tunning"
   ]
  },
  {
   "cell_type": "code",
   "execution_count": 63,
   "id": "6a67099d",
   "metadata": {},
   "outputs": [],
   "source": [
    "import warnings\n",
    "warnings.filterwarnings('ignore')\n",
    "from sklearn.preprocessing import StandardScaler\n",
    "from sklearn.model_selection import cross_val_score"
   ]
  },
  {
   "cell_type": "code",
   "execution_count": 64,
   "id": "a97085ee",
   "metadata": {},
   "outputs": [
    {
     "name": "stdout",
     "output_type": "stream",
     "text": [
      "All Accuracies:  [0.79428571 0.80342857 0.82171429 0.81942857 0.80914286 0.80228571\n",
      " 0.816      0.81485714 0.81942857 0.80914286 0.81142857 0.81828571\n",
      " 0.81257143 0.81485714 0.808      0.81371429 0.79428571 0.80457143\n",
      " 0.792      0.78971429] \n",
      "\n",
      "Mean of all Accuracies:  0.8084571428571428 \n",
      "\n",
      "Standard Deviation:  0.009509780142955296\n"
     ]
    },
    {
     "data": {
      "text/plain": [
       "Text(0, 0.5, 'Cross-Validated Accuracy')"
      ]
     },
     "execution_count": 64,
     "metadata": {},
     "output_type": "execute_result"
    },
    {
     "data": {
      "image/png": "[encoded data removed]",
      "text/plain": [
       "<Figure size 432x288 with 1 Axes>"
      ]
     },
     "metadata": {
      "needs_background": "light"
     },
     "output_type": "display_data"
    }
   ],
   "source": [
    "knn = KNeighborsClassifier(n_neighbors=1)\n",
    "\n",
    "scores = cross_val_score(knn, X, y, cv=20, scoring='accuracy')\n",
    "print('All Accuracies: ', scores, '\\n')\n",
    "\n",
    "print('Mean of all Accuracies: ', scores.mean(), '\\n')\n",
    "print('Standard Deviation: ', scores.std())\n",
    "\n",
    "plt.plot(scores)\n",
    "plt.xlabel('Value of K for KNN for Fuzzing Attack 1')\n",
    "plt.ylabel('Cross-Validated Accuracy')\n"
   ]
  },
  {
   "cell_type": "code",
   "execution_count": 66,
   "id": "919d7580",
   "metadata": {},
   "outputs": [
    {
     "name": "stdout",
     "output_type": "stream",
     "text": [
      "All Accuracies:  [0.70742857 0.72342857 0.72685714 0.73142857 0.73714286 0.73371429\n",
      " 0.73485714 0.72228571 0.73257143 0.72457143 0.72228571 0.73257143\n",
      " 0.72685714 0.72       0.72457143 0.72       0.70742857 0.70742857\n",
      " 0.69257143 0.69142857] \n",
      "\n",
      "Mean of all Accuracies:  0.7209714285714286 \n",
      "\n",
      "Standard Deviation:  0.012906065651942304\n"
     ]
    },
    {
     "data": {
      "text/plain": [
       "Text(0, 0.5, 'Cross-Validated Accuracy')"
      ]
     },
     "execution_count": 66,
     "metadata": {},
     "output_type": "execute_result"
    },
    {
     "data": {
      "image/png": "[encoded data removed]",
      "text/plain": [
       "<Figure size 432x288 with 1 Axes>"
      ]
     },
     "metadata": {
      "needs_background": "light"
     },
     "output_type": "display_data"
    }
   ],
   "source": [
    "knn = KNeighborsClassifier(n_neighbors=10)\n",
    "\n",
    "scores = cross_val_score(knn, X, y, cv=20, scoring='accuracy')\n",
    "print('All Accuracies: ', scores, '\\n')\n",
    "\n",
    "print('Mean of all Accuracies: ', scores.mean(), '\\n')\n",
    "print('Standard Deviation: ', scores.std())\n",
    "\n",
    "plt.plot(scores)\n",
    "plt.xlabel('Value of K for KNN in Fuzzing Attack 1')\n",
    "plt.ylabel('Cross-Validated Accuracy')\n"
   ]
  },
  {
   "cell_type": "markdown",
   "id": "fde4c1bf",
   "metadata": {},
   "source": [
    "As we can see that by increasing neighour values accuaracy is decreasing."
   ]
  },
  {
   "cell_type": "code",
   "execution_count": 69,
   "id": "f7057073",
   "metadata": {},
   "outputs": [
    {
     "name": "stdout",
     "output_type": "stream",
     "text": [
      "All Accuracies:  [0.62040816 0.6155102  0.63102041 0.60244898 0.60734694 0.60816327\n",
      " 0.62612245 0.60734694 0.62285714 0.63265306] \n",
      "\n",
      "Mean of all Accuracies:  0.6173877551020409 \n",
      "\n",
      "Standard Deviation:  0.010235380569878487\n"
     ]
    },
    {
     "data": {
      "text/plain": [
       "Text(0, 0.5, 'Cross-Validated Accuracy')"
      ]
     },
     "execution_count": 69,
     "metadata": {},
     "output_type": "execute_result"
    },
    {
     "data": {
      "image/png": "[encoded data removed]",
      "text/plain": [
       "<Figure size 432x288 with 1 Axes>"
      ]
     },
     "metadata": {
      "needs_background": "light"
     },
     "output_type": "display_data"
    }
   ],
   "source": [
    "feature_scaler = StandardScaler()\n",
    "X_train = feature_scaler.fit_transform(X_train)\n",
    "X_test = feature_scaler.transform(X_test)\n",
    "\n",
    "classifier = DecisionTreeClassifier(criterion =\"entropy\", splitter =\"random\", max_depth =5,  min_samples_split =5,\n",
    "                              min_samples_leaf =2, max_features =2)\n",
    "\n",
    "all_accuracies = cross_val_score(estimator=DT, X=X_train, y=y_train, cv=10)\n",
    "\n",
    "print('All Accuracies: ', all_accuracies, '\\n')\n",
    "\n",
    "print('Mean of all Accuracies: ', all_accuracies.mean(), '\\n')\n",
    "print('Standard Deviation: ', all_accuracies.std())\n",
    "\n",
    "plt.plot(all_accuracies)\n",
    "plt.xlabel('Values Of DT For Fuzzing Attack 1')\n",
    "plt.ylabel('Cross-Validated Accuracy')\n"
   ]
  },
  {
   "cell_type": "code",
   "execution_count": 75,
   "id": "266155f6",
   "metadata": {},
   "outputs": [
    {
     "name": "stdout",
     "output_type": "stream",
     "text": [
      "All Accuracies:  [0.45469388 0.43346939 0.40326531 0.39673469 0.43673469 0.46204082\n",
      " 0.39918367 0.43183673 0.42938776 0.47346939] \n",
      "\n",
      "Mean of all Accuracies:  0.4320816326530612\n",
      "Standard Deviation:  0.025129203820085582\n"
     ]
    },
    {
     "data": {
      "text/plain": [
       "Text(0, 0.5, 'Cross- Validated Accuracy')"
      ]
     },
     "execution_count": 75,
     "metadata": {},
     "output_type": "execute_result"
    },
    {
     "data": {
      "image/png": "[encoded data removed]",
      "text/plain": [
       "<Figure size 432x288 with 1 Axes>"
      ]
     },
     "metadata": {
      "needs_background": "light"
     },
     "output_type": "display_data"
    }
   ],
   "source": [
    "feature_scaler = StandardScaler()\n",
    "X_train = feature_scaler.fit_transform(X_train)\n",
    "X_test = feature_scaler.transform(X_test)\n",
    "\n",
    "classifier = RandomForestClassifier(n_estimators=1, random_state=0)\n",
    "\n",
    "all_accuracies = cross_val_score(estimator=classifier, X=X_train, y=y_train, cv=10)\n",
    "\n",
    "print('All Accuracies: ', all_accuracies, '\\n')\n",
    "\n",
    "print('Mean of all Accuracies: ', all_accuracies.mean())\n",
    "print('Standard Deviation: ', all_accuracies.std())\n",
    "\n",
    "plt.plot(all_accuracies)\n",
    "plt.xlabel('Values Of Rf in Fuzzing Attack 1')\n",
    "plt.ylabel('Cross- Validated Accuracy')\n"
   ]
  },
  {
   "cell_type": "code",
   "execution_count": null,
   "id": "78fefe0c",
   "metadata": {},
   "outputs": [],
   "source": []
  }
 ],
 "metadata": {
  "colab": {
   "collapsed_sections": [],
   "name": "fuzzing_attack_ALL_ALGO.ipynb",
   "provenance": []
  },
  "kernelspec": {
   "display_name": "Python 3",
   "language": "python",
   "name": "python3"
  },
  "language_info": {
   "codemirror_mode": {
    "name": "ipython",
    "version": 3
   },
   "file_extension": ".py",
   "mimetype": "text/x-python",
   "name": "python",
   "nbconvert_exporter": "python",
   "pygments_lexer": "ipython3",
   "version": "3.8.8"
  }
 },
 "nbformat": 4,
 "nbformat_minor": 5
}
