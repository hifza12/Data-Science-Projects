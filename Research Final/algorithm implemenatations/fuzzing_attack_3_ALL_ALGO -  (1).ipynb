{
 "cells": [
  {
   "cell_type": "markdown",
   "id": "88b86a26",
   "metadata": {
    "id": "88b86a26"
   },
   "source": [
    "# importing libraries"
   ]
  },
  {
   "cell_type": "code",
   "execution_count": 1,
   "id": "59a7ca8b",
   "metadata": {
    "id": "59a7ca8b"
   },
   "outputs": [],
   "source": [
    "import numpy as np\n",
    "import pandas as pd"
   ]
  },
  {
   "cell_type": "markdown",
   "id": "626d7150",
   "metadata": {
    "id": "626d7150"
   },
   "source": [
    "# Loading dataset"
   ]
  },
  {
   "cell_type": "code",
   "execution_count": 2,
   "id": "6342631b",
   "metadata": {
    "colab": {
     "base_uri": "https://localhost:8080/",
     "height": 203
    },
    "id": "6342631b",
    "outputId": "4064c8e6-6133-41d4-8132-d1bbc4e22035"
   },
   "outputs": [
    {
     "data": {
      "text/html": [
       "<div>\n",
       "<style scoped>\n",
       "    .dataframe tbody tr th:only-of-type {\n",
       "        vertical-align: middle;\n",
       "    }\n",
       "\n",
       "    .dataframe tbody tr th {\n",
       "        vertical-align: top;\n",
       "    }\n",
       "\n",
       "    .dataframe thead th {\n",
       "        text-align: right;\n",
       "    }\n",
       "</style>\n",
       "<table border=\"1\" class=\"dataframe\">\n",
       "  <thead>\n",
       "    <tr style=\"text-align: right;\">\n",
       "      <th></th>\n",
       "      <th>(1020000000.000000) can0 0D0#3A4E04644102B200</th>\n",
       "    </tr>\n",
       "  </thead>\n",
       "  <tbody>\n",
       "    <tr>\n",
       "      <th>0</th>\n",
       "      <td>(1020000000.001013) can0 033#123F19256DC127D0</td>\n",
       "    </tr>\n",
       "    <tr>\n",
       "      <th>1</th>\n",
       "      <td>(1020000000.001014) can0 00E#2054160208097380</td>\n",
       "    </tr>\n",
       "    <tr>\n",
       "      <th>2</th>\n",
       "      <td>(1020000000.002047) can0 193#00080803E8080000</td>\n",
       "    </tr>\n",
       "    <tr>\n",
       "      <th>3</th>\n",
       "      <td>(1020000000.002048) can0 107#0000000000000000</td>\n",
       "    </tr>\n",
       "    <tr>\n",
       "      <th>4</th>\n",
       "      <td>(1020000000.002049) can0 FFF#0000000000000000</td>\n",
       "    </tr>\n",
       "  </tbody>\n",
       "</table>\n",
       "</div>"
      ],
      "text/plain": [
       "   (1020000000.000000) can0 0D0#3A4E04644102B200\n",
       "0  (1020000000.001013) can0 033#123F19256DC127D0\n",
       "1  (1020000000.001014) can0 00E#2054160208097380\n",
       "2  (1020000000.002047) can0 193#00080803E8080000\n",
       "3  (1020000000.002048) can0 107#0000000000000000\n",
       "4  (1020000000.002049) can0 FFF#0000000000000000"
      ]
     },
     "execution_count": 2,
     "metadata": {},
     "output_type": "execute_result"
    }
   ],
   "source": [
    "df=pd.read_csv('D:/Research Work/road/attacks/fuzzing_attack_3.log')\n",
    "df.head()"
   ]
  },
  {
   "cell_type": "markdown",
   "id": "ce0af795",
   "metadata": {
    "id": "ce0af795"
   },
   "source": [
    "# Spliting the data in different columns"
   ]
  },
  {
   "cell_type": "code",
   "execution_count": null,
   "id": "9hTVBZWqzjcU",
   "metadata": {
    "colab": {
     "base_uri": "https://localhost:8080/"
    },
    "id": "9hTVBZWqzjcU",
    "outputId": "2e01867d-3368-4874-b71f-8eb858193107"
   },
   "outputs": [],
   "source": []
  },
  {
   "cell_type": "code",
   "execution_count": 3,
   "id": "7762d979",
   "metadata": {
    "colab": {
     "base_uri": "https://localhost:8080/",
     "height": 417
    },
    "id": "7762d979",
    "outputId": "1cd12522-167d-418f-ea54-b9f34f8725c1"
   },
   "outputs": [
    {
     "data": {
      "text/html": [
       "<div>\n",
       "<style scoped>\n",
       "    .dataframe tbody tr th:only-of-type {\n",
       "        vertical-align: middle;\n",
       "    }\n",
       "\n",
       "    .dataframe tbody tr th {\n",
       "        vertical-align: top;\n",
       "    }\n",
       "\n",
       "    .dataframe thead th {\n",
       "        text-align: right;\n",
       "    }\n",
       "</style>\n",
       "<table border=\"1\" class=\"dataframe\">\n",
       "  <thead>\n",
       "    <tr style=\"text-align: right;\">\n",
       "      <th></th>\n",
       "      <th>Unix Timestamp</th>\n",
       "      <th>Channel</th>\n",
       "      <th>IDHexandDataFeild</th>\n",
       "    </tr>\n",
       "  </thead>\n",
       "  <tbody>\n",
       "    <tr>\n",
       "      <th>0</th>\n",
       "      <td>1020000000.000000</td>\n",
       "      <td>can0</td>\n",
       "      <td>0D0#3A4E04644102B200\\n</td>\n",
       "    </tr>\n",
       "    <tr>\n",
       "      <th>1</th>\n",
       "      <td>1020000000.001013</td>\n",
       "      <td>can0</td>\n",
       "      <td>033#123F19256DC127D0\\n</td>\n",
       "    </tr>\n",
       "    <tr>\n",
       "      <th>2</th>\n",
       "      <td>1020000000.001014</td>\n",
       "      <td>can0</td>\n",
       "      <td>00E#2054160208097380\\n</td>\n",
       "    </tr>\n",
       "    <tr>\n",
       "      <th>3</th>\n",
       "      <td>1020000000.002047</td>\n",
       "      <td>can0</td>\n",
       "      <td>193#00080803E8080000\\n</td>\n",
       "    </tr>\n",
       "    <tr>\n",
       "      <th>4</th>\n",
       "      <td>1020000000.002048</td>\n",
       "      <td>can0</td>\n",
       "      <td>107#0000000000000000\\n</td>\n",
       "    </tr>\n",
       "    <tr>\n",
       "      <th>...</th>\n",
       "      <td>...</td>\n",
       "      <td>...</td>\n",
       "      <td>...</td>\n",
       "    </tr>\n",
       "    <tr>\n",
       "      <th>13233</th>\n",
       "      <td>1020000005.479809</td>\n",
       "      <td>can0</td>\n",
       "      <td>00E#20541602080973C4\\n</td>\n",
       "    </tr>\n",
       "    <tr>\n",
       "      <th>13234</th>\n",
       "      <td>1020000005.480804</td>\n",
       "      <td>can0</td>\n",
       "      <td>193#00080803E8080000\\n</td>\n",
       "    </tr>\n",
       "    <tr>\n",
       "      <th>13235</th>\n",
       "      <td>1020000005.481829</td>\n",
       "      <td>can0</td>\n",
       "      <td>107#0000000000000000\\n</td>\n",
       "    </tr>\n",
       "    <tr>\n",
       "      <th>13236</th>\n",
       "      <td>1020000005.481830</td>\n",
       "      <td>can0</td>\n",
       "      <td>FFF#0000000000000000\\n</td>\n",
       "    </tr>\n",
       "    <tr>\n",
       "      <th>13237</th>\n",
       "      <td>1020000005.482837</td>\n",
       "      <td>can0</td>\n",
       "      <td>5AF#20C0000000200800\\n</td>\n",
       "    </tr>\n",
       "  </tbody>\n",
       "</table>\n",
       "<p>13238 rows × 3 columns</p>\n",
       "</div>"
      ],
      "text/plain": [
       "          Unix Timestamp Channel       IDHexandDataFeild\n",
       "0      1020000000.000000    can0  0D0#3A4E04644102B200\\n\n",
       "1      1020000000.001013    can0  033#123F19256DC127D0\\n\n",
       "2      1020000000.001014    can0  00E#2054160208097380\\n\n",
       "3      1020000000.002047    can0  193#00080803E8080000\\n\n",
       "4      1020000000.002048    can0  107#0000000000000000\\n\n",
       "...                  ...     ...                     ...\n",
       "13233  1020000005.479809    can0  00E#20541602080973C4\\n\n",
       "13234  1020000005.480804    can0  193#00080803E8080000\\n\n",
       "13235  1020000005.481829    can0  107#0000000000000000\\n\n",
       "13236  1020000005.481830    can0  FFF#0000000000000000\\n\n",
       "13237  1020000005.482837    can0  5AF#20C0000000200800\\n\n",
       "\n",
       "[13238 rows x 3 columns]"
      ]
     },
     "execution_count": 3,
     "metadata": {},
     "output_type": "execute_result"
    }
   ],
   "source": [
    "log_data  = open('D:/Research Work/road/attacks/fuzzing_attack_3.log', 'r')\n",
    "split_list = []\n",
    "\n",
    "for line in log_data:\n",
    "    thing1 = line.split(' ')\n",
    "    time = thing1[0][1:18]\n",
    "    idd = thing1[1][:4]\n",
    "    message = thing1[2]\n",
    "    \n",
    "\n",
    "    split_list.append([time, idd, message])\n",
    "\n",
    "df1 = pd.DataFrame(split_list, columns=['Unix Timestamp', 'Channel', 'IDHexandDataFeild'])\n",
    "#df1['Message'].map(str.strip)\n",
    "df1"
   ]
  },
  {
   "cell_type": "markdown",
   "id": "820e6a9e",
   "metadata": {
    "id": "820e6a9e"
   },
   "source": [
    "# Seprating id and dataframe"
   ]
  },
  {
   "cell_type": "code",
   "execution_count": 4,
   "id": "c78c70fb",
   "metadata": {
    "colab": {
     "base_uri": "https://localhost:8080/",
     "height": 203
    },
    "id": "c78c70fb",
    "outputId": "baf1541e-c036-4851-b214-cd87be028efa"
   },
   "outputs": [
    {
     "data": {
      "text/html": [
       "<div>\n",
       "<style scoped>\n",
       "    .dataframe tbody tr th:only-of-type {\n",
       "        vertical-align: middle;\n",
       "    }\n",
       "\n",
       "    .dataframe tbody tr th {\n",
       "        vertical-align: top;\n",
       "    }\n",
       "\n",
       "    .dataframe thead th {\n",
       "        text-align: right;\n",
       "    }\n",
       "</style>\n",
       "<table border=\"1\" class=\"dataframe\">\n",
       "  <thead>\n",
       "    <tr style=\"text-align: right;\">\n",
       "      <th></th>\n",
       "      <th>IDhex</th>\n",
       "      <th>DataFrame</th>\n",
       "    </tr>\n",
       "  </thead>\n",
       "  <tbody>\n",
       "    <tr>\n",
       "      <th>0</th>\n",
       "      <td>0D0</td>\n",
       "      <td>3A4E04644102B200\\n</td>\n",
       "    </tr>\n",
       "    <tr>\n",
       "      <th>1</th>\n",
       "      <td>033</td>\n",
       "      <td>123F19256DC127D0\\n</td>\n",
       "    </tr>\n",
       "    <tr>\n",
       "      <th>2</th>\n",
       "      <td>00E</td>\n",
       "      <td>2054160208097380\\n</td>\n",
       "    </tr>\n",
       "    <tr>\n",
       "      <th>3</th>\n",
       "      <td>193</td>\n",
       "      <td>00080803E8080000\\n</td>\n",
       "    </tr>\n",
       "    <tr>\n",
       "      <th>4</th>\n",
       "      <td>107</td>\n",
       "      <td>0000000000000000\\n</td>\n",
       "    </tr>\n",
       "  </tbody>\n",
       "</table>\n",
       "</div>"
      ],
      "text/plain": [
       "  IDhex           DataFrame\n",
       "0   0D0  3A4E04644102B200\\n\n",
       "1   033  123F19256DC127D0\\n\n",
       "2   00E  2054160208097380\\n\n",
       "3   193  00080803E8080000\\n\n",
       "4   107  0000000000000000\\n"
      ]
     },
     "execution_count": 4,
     "metadata": {},
     "output_type": "execute_result"
    }
   ],
   "source": [
    "out = pd.DataFrame(df1.IDHexandDataFeild.str.split('#',1).tolist(),columns=['IDhex','DataFrame'])\n",
    "out.head()"
   ]
  },
  {
   "cell_type": "markdown",
   "id": "3b354b8d",
   "metadata": {
    "id": "3b354b8d"
   },
   "source": [
    "# choosing these two columns from the original dataset"
   ]
  },
  {
   "cell_type": "code",
   "execution_count": 5,
   "id": "a6f299ad",
   "metadata": {
    "colab": {
     "base_uri": "https://localhost:8080/",
     "height": 203
    },
    "id": "a6f299ad",
    "outputId": "8e7af511-84a3-4009-c15d-c85528538a5f"
   },
   "outputs": [
    {
     "data": {
      "text/html": [
       "<div>\n",
       "<style scoped>\n",
       "    .dataframe tbody tr th:only-of-type {\n",
       "        vertical-align: middle;\n",
       "    }\n",
       "\n",
       "    .dataframe tbody tr th {\n",
       "        vertical-align: top;\n",
       "    }\n",
       "\n",
       "    .dataframe thead th {\n",
       "        text-align: right;\n",
       "    }\n",
       "</style>\n",
       "<table border=\"1\" class=\"dataframe\">\n",
       "  <thead>\n",
       "    <tr style=\"text-align: right;\">\n",
       "      <th></th>\n",
       "      <th>Unix Timestamp</th>\n",
       "      <th>Channel</th>\n",
       "    </tr>\n",
       "  </thead>\n",
       "  <tbody>\n",
       "    <tr>\n",
       "      <th>0</th>\n",
       "      <td>1020000000.000000</td>\n",
       "      <td>can0</td>\n",
       "    </tr>\n",
       "    <tr>\n",
       "      <th>1</th>\n",
       "      <td>1020000000.001013</td>\n",
       "      <td>can0</td>\n",
       "    </tr>\n",
       "    <tr>\n",
       "      <th>2</th>\n",
       "      <td>1020000000.001014</td>\n",
       "      <td>can0</td>\n",
       "    </tr>\n",
       "    <tr>\n",
       "      <th>3</th>\n",
       "      <td>1020000000.002047</td>\n",
       "      <td>can0</td>\n",
       "    </tr>\n",
       "    <tr>\n",
       "      <th>4</th>\n",
       "      <td>1020000000.002048</td>\n",
       "      <td>can0</td>\n",
       "    </tr>\n",
       "  </tbody>\n",
       "</table>\n",
       "</div>"
      ],
      "text/plain": [
       "      Unix Timestamp Channel\n",
       "0  1020000000.000000    can0\n",
       "1  1020000000.001013    can0\n",
       "2  1020000000.001014    can0\n",
       "3  1020000000.002047    can0\n",
       "4  1020000000.002048    can0"
      ]
     },
     "execution_count": 5,
     "metadata": {},
     "output_type": "execute_result"
    }
   ],
   "source": [
    "df2=df1[['Unix Timestamp', 'Channel']] \n",
    "df2.head()"
   ]
  },
  {
   "cell_type": "markdown",
   "id": "b1a4a849",
   "metadata": {
    "id": "b1a4a849"
   },
   "source": [
    "# Converting the data of IDhex column which is in hexadecimal to decimal "
   ]
  },
  {
   "cell_type": "code",
   "execution_count": 6,
   "id": "284ef72a",
   "metadata": {
    "colab": {
     "base_uri": "https://localhost:8080/",
     "height": 417
    },
    "id": "284ef72a",
    "outputId": "09f204d7-6ed4-4b1b-ab41-ecca7ac50f8f"
   },
   "outputs": [
    {
     "data": {
      "text/html": [
       "<div>\n",
       "<style scoped>\n",
       "    .dataframe tbody tr th:only-of-type {\n",
       "        vertical-align: middle;\n",
       "    }\n",
       "\n",
       "    .dataframe tbody tr th {\n",
       "        vertical-align: top;\n",
       "    }\n",
       "\n",
       "    .dataframe thead th {\n",
       "        text-align: right;\n",
       "    }\n",
       "</style>\n",
       "<table border=\"1\" class=\"dataframe\">\n",
       "  <thead>\n",
       "    <tr style=\"text-align: right;\">\n",
       "      <th></th>\n",
       "      <th>IDhex</th>\n",
       "      <th>DataFrame</th>\n",
       "    </tr>\n",
       "  </thead>\n",
       "  <tbody>\n",
       "    <tr>\n",
       "      <th>0</th>\n",
       "      <td>208</td>\n",
       "      <td>3A4E04644102B200\\n</td>\n",
       "    </tr>\n",
       "    <tr>\n",
       "      <th>1</th>\n",
       "      <td>51</td>\n",
       "      <td>123F19256DC127D0\\n</td>\n",
       "    </tr>\n",
       "    <tr>\n",
       "      <th>2</th>\n",
       "      <td>14</td>\n",
       "      <td>2054160208097380\\n</td>\n",
       "    </tr>\n",
       "    <tr>\n",
       "      <th>3</th>\n",
       "      <td>403</td>\n",
       "      <td>00080803E8080000\\n</td>\n",
       "    </tr>\n",
       "    <tr>\n",
       "      <th>4</th>\n",
       "      <td>263</td>\n",
       "      <td>0000000000000000\\n</td>\n",
       "    </tr>\n",
       "    <tr>\n",
       "      <th>...</th>\n",
       "      <td>...</td>\n",
       "      <td>...</td>\n",
       "    </tr>\n",
       "    <tr>\n",
       "      <th>13233</th>\n",
       "      <td>14</td>\n",
       "      <td>20541602080973C4\\n</td>\n",
       "    </tr>\n",
       "    <tr>\n",
       "      <th>13234</th>\n",
       "      <td>403</td>\n",
       "      <td>00080803E8080000\\n</td>\n",
       "    </tr>\n",
       "    <tr>\n",
       "      <th>13235</th>\n",
       "      <td>263</td>\n",
       "      <td>0000000000000000\\n</td>\n",
       "    </tr>\n",
       "    <tr>\n",
       "      <th>13236</th>\n",
       "      <td>4095</td>\n",
       "      <td>0000000000000000\\n</td>\n",
       "    </tr>\n",
       "    <tr>\n",
       "      <th>13237</th>\n",
       "      <td>1455</td>\n",
       "      <td>20C0000000200800\\n</td>\n",
       "    </tr>\n",
       "  </tbody>\n",
       "</table>\n",
       "<p>13238 rows × 2 columns</p>\n",
       "</div>"
      ],
      "text/plain": [
       "       IDhex           DataFrame\n",
       "0        208  3A4E04644102B200\\n\n",
       "1         51  123F19256DC127D0\\n\n",
       "2         14  2054160208097380\\n\n",
       "3        403  00080803E8080000\\n\n",
       "4        263  0000000000000000\\n\n",
       "...      ...                 ...\n",
       "13233     14  20541602080973C4\\n\n",
       "13234    403  00080803E8080000\\n\n",
       "13235    263  0000000000000000\\n\n",
       "13236   4095  0000000000000000\\n\n",
       "13237   1455  20C0000000200800\\n\n",
       "\n",
       "[13238 rows x 2 columns]"
      ]
     },
     "execution_count": 6,
     "metadata": {},
     "output_type": "execute_result"
    }
   ],
   "source": [
    "out['IDhex'] = out['IDhex'].apply(lambda x: int(x,16))\n",
    "out"
   ]
  },
  {
   "cell_type": "markdown",
   "id": "6a33dd6d",
   "metadata": {
    "id": "6a33dd6d"
   },
   "source": [
    "# here converting the DataFrame column's hex data in decimal"
   ]
  },
  {
   "cell_type": "code",
   "execution_count": 7,
   "id": "b641a856",
   "metadata": {
    "colab": {
     "base_uri": "https://localhost:8080/",
     "height": 417
    },
    "id": "b641a856",
    "outputId": "5c94bcfa-ccf9-44b1-acd0-a3cc8250acdc"
   },
   "outputs": [
    {
     "data": {
      "text/html": [
       "<div>\n",
       "<style scoped>\n",
       "    .dataframe tbody tr th:only-of-type {\n",
       "        vertical-align: middle;\n",
       "    }\n",
       "\n",
       "    .dataframe tbody tr th {\n",
       "        vertical-align: top;\n",
       "    }\n",
       "\n",
       "    .dataframe thead th {\n",
       "        text-align: right;\n",
       "    }\n",
       "</style>\n",
       "<table border=\"1\" class=\"dataframe\">\n",
       "  <thead>\n",
       "    <tr style=\"text-align: right;\">\n",
       "      <th></th>\n",
       "      <th>IDhex</th>\n",
       "      <th>DataFrame</th>\n",
       "    </tr>\n",
       "  </thead>\n",
       "  <tbody>\n",
       "    <tr>\n",
       "      <th>0</th>\n",
       "      <td>208</td>\n",
       "      <td>4201300331017187840</td>\n",
       "    </tr>\n",
       "    <tr>\n",
       "      <th>1</th>\n",
       "      <td>51</td>\n",
       "      <td>1314797264761333712</td>\n",
       "    </tr>\n",
       "    <tr>\n",
       "      <th>2</th>\n",
       "      <td>14</td>\n",
       "      <td>2329511105237971840</td>\n",
       "    </tr>\n",
       "    <tr>\n",
       "      <th>3</th>\n",
       "      <td>403</td>\n",
       "      <td>2260612684447744</td>\n",
       "    </tr>\n",
       "    <tr>\n",
       "      <th>4</th>\n",
       "      <td>263</td>\n",
       "      <td>0</td>\n",
       "    </tr>\n",
       "    <tr>\n",
       "      <th>...</th>\n",
       "      <td>...</td>\n",
       "      <td>...</td>\n",
       "    </tr>\n",
       "    <tr>\n",
       "      <th>13233</th>\n",
       "      <td>14</td>\n",
       "      <td>2329511105237971908</td>\n",
       "    </tr>\n",
       "    <tr>\n",
       "      <th>13234</th>\n",
       "      <td>403</td>\n",
       "      <td>2260612684447744</td>\n",
       "    </tr>\n",
       "    <tr>\n",
       "      <th>13235</th>\n",
       "      <td>263</td>\n",
       "      <td>0</td>\n",
       "    </tr>\n",
       "    <tr>\n",
       "      <th>13236</th>\n",
       "      <td>4095</td>\n",
       "      <td>0</td>\n",
       "    </tr>\n",
       "    <tr>\n",
       "      <th>13237</th>\n",
       "      <td>1455</td>\n",
       "      <td>2359886204744239104</td>\n",
       "    </tr>\n",
       "  </tbody>\n",
       "</table>\n",
       "<p>13238 rows × 2 columns</p>\n",
       "</div>"
      ],
      "text/plain": [
       "       IDhex            DataFrame\n",
       "0        208  4201300331017187840\n",
       "1         51  1314797264761333712\n",
       "2         14  2329511105237971840\n",
       "3        403     2260612684447744\n",
       "4        263                    0\n",
       "...      ...                  ...\n",
       "13233     14  2329511105237971908\n",
       "13234    403     2260612684447744\n",
       "13235    263                    0\n",
       "13236   4095                    0\n",
       "13237   1455  2359886204744239104\n",
       "\n",
       "[13238 rows x 2 columns]"
      ]
     },
     "execution_count": 7,
     "metadata": {},
     "output_type": "execute_result"
    }
   ],
   "source": [
    "out['DataFrame'].str.strip('\\n')\n",
    "out['DataFrame'] = out['DataFrame'].apply(lambda x: int(x,16))\n",
    "out"
   ]
  },
  {
   "cell_type": "code",
   "execution_count": 8,
   "id": "75325036",
   "metadata": {
    "colab": {
     "base_uri": "https://localhost:8080/",
     "height": 203
    },
    "id": "75325036",
    "outputId": "629c7eee-017d-4fe1-a950-1fce8087df1b"
   },
   "outputs": [
    {
     "data": {
      "text/html": [
       "<div>\n",
       "<style scoped>\n",
       "    .dataframe tbody tr th:only-of-type {\n",
       "        vertical-align: middle;\n",
       "    }\n",
       "\n",
       "    .dataframe tbody tr th {\n",
       "        vertical-align: top;\n",
       "    }\n",
       "\n",
       "    .dataframe thead th {\n",
       "        text-align: right;\n",
       "    }\n",
       "</style>\n",
       "<table border=\"1\" class=\"dataframe\">\n",
       "  <thead>\n",
       "    <tr style=\"text-align: right;\">\n",
       "      <th></th>\n",
       "      <th>IDhex</th>\n",
       "      <th>DataFrame</th>\n",
       "    </tr>\n",
       "  </thead>\n",
       "  <tbody>\n",
       "    <tr>\n",
       "      <th>0</th>\n",
       "      <td>208</td>\n",
       "      <td>4201300331017187840</td>\n",
       "    </tr>\n",
       "    <tr>\n",
       "      <th>1</th>\n",
       "      <td>51</td>\n",
       "      <td>1314797264761333712</td>\n",
       "    </tr>\n",
       "    <tr>\n",
       "      <th>2</th>\n",
       "      <td>14</td>\n",
       "      <td>2329511105237971840</td>\n",
       "    </tr>\n",
       "    <tr>\n",
       "      <th>3</th>\n",
       "      <td>403</td>\n",
       "      <td>2260612684447744</td>\n",
       "    </tr>\n",
       "    <tr>\n",
       "      <th>4</th>\n",
       "      <td>263</td>\n",
       "      <td>0</td>\n",
       "    </tr>\n",
       "  </tbody>\n",
       "</table>\n",
       "</div>"
      ],
      "text/plain": [
       "   IDhex            DataFrame\n",
       "0    208  4201300331017187840\n",
       "1     51  1314797264761333712\n",
       "2     14  2329511105237971840\n",
       "3    403     2260612684447744\n",
       "4    263                    0"
      ]
     },
     "execution_count": 8,
     "metadata": {},
     "output_type": "execute_result"
    }
   ],
   "source": [
    "#checking the out data which i have converted in decimal which was in hexadecimal\n",
    "out.head()"
   ]
  },
  {
   "cell_type": "code",
   "execution_count": 9,
   "id": "f92f5155",
   "metadata": {
    "id": "f92f5155"
   },
   "outputs": [],
   "source": [
    "#now here i'm collecting the two data which i have above splitted from the original data.\n",
    "#df2 ==here i have collected the data which i don't need to convert in decimaml \n",
    "#in out data i have collected the data which i have to convert into decimal.\n",
    "frames=[df2,out]"
   ]
  },
  {
   "cell_type": "code",
   "execution_count": 10,
   "id": "56d782f6",
   "metadata": {
    "colab": {
     "base_uri": "https://localhost:8080/",
     "height": 203
    },
    "id": "56d782f6",
    "outputId": "178c99b4-b6ee-47e6-ffc3-2d225bf5794e"
   },
   "outputs": [
    {
     "data": {
      "text/html": [
       "<div>\n",
       "<style scoped>\n",
       "    .dataframe tbody tr th:only-of-type {\n",
       "        vertical-align: middle;\n",
       "    }\n",
       "\n",
       "    .dataframe tbody tr th {\n",
       "        vertical-align: top;\n",
       "    }\n",
       "\n",
       "    .dataframe thead th {\n",
       "        text-align: right;\n",
       "    }\n",
       "</style>\n",
       "<table border=\"1\" class=\"dataframe\">\n",
       "  <thead>\n",
       "    <tr style=\"text-align: right;\">\n",
       "      <th></th>\n",
       "      <th>Unix Timestamp</th>\n",
       "      <th>Channel</th>\n",
       "      <th>IDhex</th>\n",
       "      <th>DataFrame</th>\n",
       "    </tr>\n",
       "  </thead>\n",
       "  <tbody>\n",
       "    <tr>\n",
       "      <th>0</th>\n",
       "      <td>1020000000.000000</td>\n",
       "      <td>can0</td>\n",
       "      <td>208</td>\n",
       "      <td>4201300331017187840</td>\n",
       "    </tr>\n",
       "    <tr>\n",
       "      <th>1</th>\n",
       "      <td>1020000000.001013</td>\n",
       "      <td>can0</td>\n",
       "      <td>51</td>\n",
       "      <td>1314797264761333712</td>\n",
       "    </tr>\n",
       "    <tr>\n",
       "      <th>2</th>\n",
       "      <td>1020000000.001014</td>\n",
       "      <td>can0</td>\n",
       "      <td>14</td>\n",
       "      <td>2329511105237971840</td>\n",
       "    </tr>\n",
       "    <tr>\n",
       "      <th>3</th>\n",
       "      <td>1020000000.002047</td>\n",
       "      <td>can0</td>\n",
       "      <td>403</td>\n",
       "      <td>2260612684447744</td>\n",
       "    </tr>\n",
       "    <tr>\n",
       "      <th>4</th>\n",
       "      <td>1020000000.002048</td>\n",
       "      <td>can0</td>\n",
       "      <td>263</td>\n",
       "      <td>0</td>\n",
       "    </tr>\n",
       "  </tbody>\n",
       "</table>\n",
       "</div>"
      ],
      "text/plain": [
       "      Unix Timestamp Channel  IDhex            DataFrame\n",
       "0  1020000000.000000    can0    208  4201300331017187840\n",
       "1  1020000000.001013    can0     51  1314797264761333712\n",
       "2  1020000000.001014    can0     14  2329511105237971840\n",
       "3  1020000000.002047    can0    403     2260612684447744\n",
       "4  1020000000.002048    can0    263                    0"
      ]
     },
     "execution_count": 10,
     "metadata": {},
     "output_type": "execute_result"
    }
   ],
   "source": [
    "# here i concate the two datas, because it need to be togather\n",
    "result=pd.concat(frames ,axis=1)\n",
    "result.head()"
   ]
  },
  {
   "cell_type": "code",
   "execution_count": 11,
   "id": "98ad113d",
   "metadata": {
    "id": "98ad113d"
   },
   "outputs": [],
   "source": [
    "#here i have save my data which i have splitted and  converted in decimal \n",
    "save=result.to_csv(\"D:/Research Work/road/extractedfrompython/fuzzing_attack3.csv\")"
   ]
  },
  {
   "cell_type": "code",
   "execution_count": 12,
   "id": "b63fb82b",
   "metadata": {
    "colab": {
     "base_uri": "https://localhost:8080/",
     "height": 417
    },
    "id": "b63fb82b",
    "outputId": "44680731-a234-4128-bb52-15a55c4ac8be"
   },
   "outputs": [
    {
     "data": {
      "text/html": [
       "<div>\n",
       "<style scoped>\n",
       "    .dataframe tbody tr th:only-of-type {\n",
       "        vertical-align: middle;\n",
       "    }\n",
       "\n",
       "    .dataframe tbody tr th {\n",
       "        vertical-align: top;\n",
       "    }\n",
       "\n",
       "    .dataframe thead th {\n",
       "        text-align: right;\n",
       "    }\n",
       "</style>\n",
       "<table border=\"1\" class=\"dataframe\">\n",
       "  <thead>\n",
       "    <tr style=\"text-align: right;\">\n",
       "      <th></th>\n",
       "      <th>Unix Timestamp</th>\n",
       "      <th>Channel</th>\n",
       "      <th>IDhex</th>\n",
       "      <th>DataFrame</th>\n",
       "    </tr>\n",
       "  </thead>\n",
       "  <tbody>\n",
       "    <tr>\n",
       "      <th>0</th>\n",
       "      <td>1020000000.000000</td>\n",
       "      <td>can0</td>\n",
       "      <td>208</td>\n",
       "      <td>4201300331017187840</td>\n",
       "    </tr>\n",
       "    <tr>\n",
       "      <th>1</th>\n",
       "      <td>1020000000.001013</td>\n",
       "      <td>can0</td>\n",
       "      <td>51</td>\n",
       "      <td>1314797264761333712</td>\n",
       "    </tr>\n",
       "    <tr>\n",
       "      <th>2</th>\n",
       "      <td>1020000000.001014</td>\n",
       "      <td>can0</td>\n",
       "      <td>14</td>\n",
       "      <td>2329511105237971840</td>\n",
       "    </tr>\n",
       "    <tr>\n",
       "      <th>3</th>\n",
       "      <td>1020000000.002047</td>\n",
       "      <td>can0</td>\n",
       "      <td>403</td>\n",
       "      <td>2260612684447744</td>\n",
       "    </tr>\n",
       "    <tr>\n",
       "      <th>4</th>\n",
       "      <td>1020000000.002048</td>\n",
       "      <td>can0</td>\n",
       "      <td>263</td>\n",
       "      <td>0</td>\n",
       "    </tr>\n",
       "    <tr>\n",
       "      <th>...</th>\n",
       "      <td>...</td>\n",
       "      <td>...</td>\n",
       "      <td>...</td>\n",
       "      <td>...</td>\n",
       "    </tr>\n",
       "    <tr>\n",
       "      <th>13233</th>\n",
       "      <td>1020000005.479809</td>\n",
       "      <td>can0</td>\n",
       "      <td>14</td>\n",
       "      <td>2329511105237971908</td>\n",
       "    </tr>\n",
       "    <tr>\n",
       "      <th>13234</th>\n",
       "      <td>1020000005.480804</td>\n",
       "      <td>can0</td>\n",
       "      <td>403</td>\n",
       "      <td>2260612684447744</td>\n",
       "    </tr>\n",
       "    <tr>\n",
       "      <th>13235</th>\n",
       "      <td>1020000005.481829</td>\n",
       "      <td>can0</td>\n",
       "      <td>263</td>\n",
       "      <td>0</td>\n",
       "    </tr>\n",
       "    <tr>\n",
       "      <th>13236</th>\n",
       "      <td>1020000005.481830</td>\n",
       "      <td>can0</td>\n",
       "      <td>4095</td>\n",
       "      <td>0</td>\n",
       "    </tr>\n",
       "    <tr>\n",
       "      <th>13237</th>\n",
       "      <td>1020000005.482837</td>\n",
       "      <td>can0</td>\n",
       "      <td>1455</td>\n",
       "      <td>2359886204744239104</td>\n",
       "    </tr>\n",
       "  </tbody>\n",
       "</table>\n",
       "<p>13238 rows × 4 columns</p>\n",
       "</div>"
      ],
      "text/plain": [
       "          Unix Timestamp Channel  IDhex            DataFrame\n",
       "0      1020000000.000000    can0    208  4201300331017187840\n",
       "1      1020000000.001013    can0     51  1314797264761333712\n",
       "2      1020000000.001014    can0     14  2329511105237971840\n",
       "3      1020000000.002047    can0    403     2260612684447744\n",
       "4      1020000000.002048    can0    263                    0\n",
       "...                  ...     ...    ...                  ...\n",
       "13233  1020000005.479809    can0     14  2329511105237971908\n",
       "13234  1020000005.480804    can0    403     2260612684447744\n",
       "13235  1020000005.481829    can0    263                    0\n",
       "13236  1020000005.481830    can0   4095                    0\n",
       "13237  1020000005.482837    can0   1455  2359886204744239104\n",
       "\n",
       "[13238 rows x 4 columns]"
      ]
     },
     "execution_count": 12,
     "metadata": {},
     "output_type": "execute_result"
    }
   ],
   "source": [
    "result"
   ]
  },
  {
   "cell_type": "code",
   "execution_count": 13,
   "id": "fc714303",
   "metadata": {
    "colab": {
     "base_uri": "https://localhost:8080/"
    },
    "id": "fc714303",
    "outputId": "7de72b9e-8b5c-4a40-e155-539e6ce1a1b8"
   },
   "outputs": [
    {
     "data": {
      "text/plain": [
       "0"
      ]
     },
     "execution_count": 13,
     "metadata": {},
     "output_type": "execute_result"
    }
   ],
   "source": [
    "#checking is there any null values in dataframe column\n",
    "result['DataFrame'].isnull().sum()\n",
    "#Unix Timestamp\tChannel\tIDhex\tDataFrame"
   ]
  },
  {
   "cell_type": "code",
   "execution_count": 14,
   "id": "ea892421",
   "metadata": {
    "id": "ea892421"
   },
   "outputs": [
    {
     "data": {
      "text/plain": [
       "(13238, 4)"
      ]
     },
     "execution_count": 14,
     "metadata": {},
     "output_type": "execute_result"
    }
   ],
   "source": [
    "#checking the shape of data ,we have 2991272 rows and 4 columns\n",
    "result.shape"
   ]
  },
  {
   "cell_type": "code",
   "execution_count": 15,
   "id": "572407e9",
   "metadata": {
    "id": "572407e9"
   },
   "outputs": [
    {
     "data": {
      "text/plain": [
       "52952"
      ]
     },
     "execution_count": 15,
     "metadata": {},
     "output_type": "execute_result"
    }
   ],
   "source": [
    "#here we have acknowledge that \n",
    "result.size"
   ]
  },
  {
   "cell_type": "markdown",
   "id": "6f8b516d",
   "metadata": {
    "id": "6ad3fc72"
   },
   "source": [
    "# Checking unique values"
   ]
  },
  {
   "cell_type": "code",
   "execution_count": 16,
   "id": "9021dcf5",
   "metadata": {
    "colab": {
     "base_uri": "https://localhost:8080/"
    },
    "id": "9021dcf5",
    "outputId": "508fb6ee-b5f2-4a60-b849-28d6ce29e8b3"
   },
   "outputs": [
    {
     "name": "stdout",
     "output_type": "stream",
     "text": [
      "['1020000000.000000' '1020000000.001013' '1020000000.001014' ...\n",
      " '1020000005.481829' '1020000005.481830' '1020000005.482837']\n",
      "13096\n"
     ]
    }
   ],
   "source": [
    "print(result['Unix Timestamp'].unique())\n",
    "print(result['Unix Timestamp'].nunique())"
   ]
  },
  {
   "cell_type": "code",
   "execution_count": 17,
   "id": "102a640d",
   "metadata": {
    "colab": {
     "base_uri": "https://localhost:8080/"
    },
    "id": "102a640d",
    "outputId": "c12d7c28-dffe-4bee-f77e-7cf22e2a52ba"
   },
   "outputs": [
    {
     "data": {
      "text/plain": [
       "array(['can0'], dtype=object)"
      ]
     },
     "execution_count": 17,
     "metadata": {},
     "output_type": "execute_result"
    }
   ],
   "source": [
    "result['Channel'].unique()"
   ]
  },
  {
   "cell_type": "code",
   "execution_count": 18,
   "id": "6fccc946",
   "metadata": {
    "id": "6fccc946"
   },
   "outputs": [
    {
     "data": {
      "text/html": [
       "<div>\n",
       "<style scoped>\n",
       "    .dataframe tbody tr th:only-of-type {\n",
       "        vertical-align: middle;\n",
       "    }\n",
       "\n",
       "    .dataframe tbody tr th {\n",
       "        vertical-align: top;\n",
       "    }\n",
       "\n",
       "    .dataframe thead th {\n",
       "        text-align: right;\n",
       "    }\n",
       "</style>\n",
       "<table border=\"1\" class=\"dataframe\">\n",
       "  <thead>\n",
       "    <tr style=\"text-align: right;\">\n",
       "      <th></th>\n",
       "      <th>Unix Timestamp</th>\n",
       "      <th>IDhex</th>\n",
       "      <th>DataFrame</th>\n",
       "    </tr>\n",
       "  </thead>\n",
       "  <tbody>\n",
       "    <tr>\n",
       "      <th>0</th>\n",
       "      <td>1020000000.000000</td>\n",
       "      <td>208</td>\n",
       "      <td>4201300331017187840</td>\n",
       "    </tr>\n",
       "    <tr>\n",
       "      <th>1</th>\n",
       "      <td>1020000000.001013</td>\n",
       "      <td>51</td>\n",
       "      <td>1314797264761333712</td>\n",
       "    </tr>\n",
       "    <tr>\n",
       "      <th>2</th>\n",
       "      <td>1020000000.001014</td>\n",
       "      <td>14</td>\n",
       "      <td>2329511105237971840</td>\n",
       "    </tr>\n",
       "    <tr>\n",
       "      <th>3</th>\n",
       "      <td>1020000000.002047</td>\n",
       "      <td>403</td>\n",
       "      <td>2260612684447744</td>\n",
       "    </tr>\n",
       "    <tr>\n",
       "      <th>4</th>\n",
       "      <td>1020000000.002048</td>\n",
       "      <td>263</td>\n",
       "      <td>0</td>\n",
       "    </tr>\n",
       "    <tr>\n",
       "      <th>...</th>\n",
       "      <td>...</td>\n",
       "      <td>...</td>\n",
       "      <td>...</td>\n",
       "    </tr>\n",
       "    <tr>\n",
       "      <th>13233</th>\n",
       "      <td>1020000005.479809</td>\n",
       "      <td>14</td>\n",
       "      <td>2329511105237971908</td>\n",
       "    </tr>\n",
       "    <tr>\n",
       "      <th>13234</th>\n",
       "      <td>1020000005.480804</td>\n",
       "      <td>403</td>\n",
       "      <td>2260612684447744</td>\n",
       "    </tr>\n",
       "    <tr>\n",
       "      <th>13235</th>\n",
       "      <td>1020000005.481829</td>\n",
       "      <td>263</td>\n",
       "      <td>0</td>\n",
       "    </tr>\n",
       "    <tr>\n",
       "      <th>13236</th>\n",
       "      <td>1020000005.481830</td>\n",
       "      <td>4095</td>\n",
       "      <td>0</td>\n",
       "    </tr>\n",
       "    <tr>\n",
       "      <th>13237</th>\n",
       "      <td>1020000005.482837</td>\n",
       "      <td>1455</td>\n",
       "      <td>2359886204744239104</td>\n",
       "    </tr>\n",
       "  </tbody>\n",
       "</table>\n",
       "<p>13238 rows × 3 columns</p>\n",
       "</div>"
      ],
      "text/plain": [
       "          Unix Timestamp  IDhex            DataFrame\n",
       "0      1020000000.000000    208  4201300331017187840\n",
       "1      1020000000.001013     51  1314797264761333712\n",
       "2      1020000000.001014     14  2329511105237971840\n",
       "3      1020000000.002047    403     2260612684447744\n",
       "4      1020000000.002048    263                    0\n",
       "...                  ...    ...                  ...\n",
       "13233  1020000005.479809     14  2329511105237971908\n",
       "13234  1020000005.480804    403     2260612684447744\n",
       "13235  1020000005.481829    263                    0\n",
       "13236  1020000005.481830   4095                    0\n",
       "13237  1020000005.482837   1455  2359886204744239104\n",
       "\n",
       "[13238 rows x 3 columns]"
      ]
     },
     "execution_count": 18,
     "metadata": {},
     "output_type": "execute_result"
    }
   ],
   "source": [
    "result = result.loc[:, ~result.columns.str.contains('^Channel')]\n",
    "\n",
    "result"
   ]
  },
  {
   "cell_type": "code",
   "execution_count": 19,
   "id": "c3a0ded5",
   "metadata": {
    "id": "11555ebe"
   },
   "outputs": [],
   "source": [
    "import matplotlib.pyplot as plt\n",
    "import pandas as pd"
   ]
  },
  {
   "cell_type": "code",
   "execution_count": 20,
   "id": "60038e10",
   "metadata": {
    "id": "60038e10"
   },
   "outputs": [],
   "source": [
    "#n =17500  #chunk row size\n",
    "#list_df = [result[i:i+n]\n",
    "#for i in range(0,result.shape[0],n)]"
   ]
  },
  {
   "cell_type": "markdown",
   "id": "62af21f8",
   "metadata": {
    "colab": {
     "base_uri": "https://localhost:8080/"
    },
    "id": "69d6e185",
    "outputId": "9f21e1d3-1439-4196-b74a-1a67d48d8ad9"
   },
   "source": [
    "Here data is not large that's why i didn't divide into chunks just simply implement algorithm"
   ]
  },
  {
   "cell_type": "code",
   "execution_count": 21,
   "id": "037bc615",
   "metadata": {
    "colab": {
     "base_uri": "https://localhost:8080/"
    },
    "id": "037bc615",
    "outputId": "c87cd1a4-31dd-4beb-c929-3924e1d063f5"
   },
   "outputs": [
    {
     "data": {
      "text/plain": [
       "(13238, 3)"
      ]
     },
     "execution_count": 21,
     "metadata": {},
     "output_type": "execute_result"
    }
   ],
   "source": [
    "\n",
    "result.shape"
   ]
  },
  {
   "cell_type": "code",
   "execution_count": 22,
   "id": "4c93c47f",
   "metadata": {
    "colab": {
     "base_uri": "https://localhost:8080/"
    },
    "id": "4c93c47f",
    "outputId": "12422f39-385f-4436-9814-8921a8c205d4"
   },
   "outputs": [
    {
     "data": {
      "text/plain": [
       "array([['1020000000.000000', 208, 4201300331017187840],\n",
       "       ['1020000000.001013', 51, 1314797264761333712],\n",
       "       ['1020000000.001014', 14, 2329511105237971840],\n",
       "       ...,\n",
       "       ['1020000005.481829', 263, 0],\n",
       "       ['1020000005.481830', 4095, 0],\n",
       "       ['1020000005.482837', 1455, 2359886204744239104]], dtype=object)"
      ]
     },
     "execution_count": 22,
     "metadata": {},
     "output_type": "execute_result"
    }
   ],
   "source": [
    "X = result.iloc[:, :3].values\n",
    "X"
   ]
  },
  {
   "cell_type": "code",
   "execution_count": 23,
   "id": "77a4576d",
   "metadata": {
    "colab": {
     "base_uri": "https://localhost:8080/",
     "height": 417
    },
    "id": "77a4576d",
    "outputId": "8bb08573-e5e7-4c7b-e359-652a7aa02891"
   },
   "outputs": [
    {
     "data": {
      "text/plain": [
       "array([4201300331017187840, 1314797264761333712, 2329511105237971840, ...,\n",
       "                         0,                   0, 2359886204744239104],\n",
       "      dtype=uint64)"
      ]
     },
     "execution_count": 23,
     "metadata": {},
     "output_type": "execute_result"
    }
   ],
   "source": [
    "y = result.iloc[:, 2].values\n",
    "y"
   ]
  },
  {
   "cell_type": "markdown",
   "id": "48b977dc",
   "metadata": {
    "id": "48b977dc"
   },
   "source": [
    "\n"
   ]
  },
  {
   "cell_type": "code",
   "execution_count": 24,
   "id": "db934255",
   "metadata": {
    "id": "7e361055"
   },
   "outputs": [
    {
     "name": "stdout",
     "output_type": "stream",
     "text": [
      "[['1020000000.000000' 208 4201300331017187840]\n",
      " ['1020000000.001013' 51 1314797264761333712]\n",
      " ['1020000000.001014' 14 2329511105237971840]\n",
      " ...\n",
      " ['1020000005.481829' 263 0]\n",
      " ['1020000005.481830' 4095 0]\n",
      " ['1020000005.482837' 1455 2359886204744239104]]\n",
      "[4201300331017187840 1314797264761333712 2329511105237971840 ...\n",
      "                   0                   0 2359886204744239104]\n"
     ]
    }
   ],
   "source": [
    "print(X)\n",
    "print(y)"
   ]
  },
  {
   "cell_type": "code",
   "execution_count": 25,
   "id": "079738bf",
   "metadata": {
    "id": "079738bf"
   },
   "outputs": [],
   "source": [
    "from sklearn import metrics\n",
    "from sklearn.metrics import accuracy_score\n",
    "from sklearn.ensemble import RandomForestClassifier\n",
    "from sklearn.ensemble import RandomForestClassifier\n",
    "from sklearn.neighbors import KNeighborsClassifier\n",
    "from sklearn.tree import DecisionTreeClassifier\n",
    "from sklearn.model_selection import GridSearchCV\n",
    "from sklearn.metrics import confusion_matrix, classification_report\n",
    "from sklearn.model_selection import train_test_split\n",
    "X_train, X_test, y_train, y_test = train_test_split(X, y, test_size = 0.3, random_state = 0)"
   ]
  },
  {
   "cell_type": "markdown",
   "id": "09e7845f",
   "metadata": {
    "id": "P0Jv09Ee15od"
   },
   "source": [
    "# RANDOM FOREST"
   ]
  },
  {
   "cell_type": "code",
   "execution_count": 26,
   "id": "xgFyQA602OXx",
   "metadata": {
    "colab": {
     "base_uri": "https://localhost:8080/",
     "height": 417
    },
    "id": "xgFyQA602OXx",
    "outputId": "a09d769e-eb54-4611-bb1e-38ef02b9e78c"
   },
   "outputs": [
    {
     "name": "stdout",
     "output_type": "stream",
     "text": [
      "Accuracy From Random Forest:  0.4949647532729104\n"
     ]
    }
   ],
   "source": [
    "from sklearn import metrics\n",
    "model= RandomForestClassifier()\n",
    "model.fit(X_train,y_train)\n",
    "prediction=model.predict(X_test)\n",
    "print('Accuracy From Random Forest: ', accuracy_score(y_test, prediction))\n"
   ]
  },
  {
   "cell_type": "markdown",
   "id": "36d6087d",
   "metadata": {
    "colab": {
     "base_uri": "https://localhost:8080/",
     "height": 417
    },
    "id": "DjCgU6-J2UD_",
    "outputId": "20c41301-6e7c-4a1a-a3fd-3b9356132029"
   },
   "source": [
    "# KNN"
   ]
  },
  {
   "cell_type": "code",
   "execution_count": 27,
   "id": "d2049218",
   "metadata": {
    "colab": {
     "base_uri": "https://localhost:8080/"
    },
    "id": "d2049218",
    "outputId": "b6867690-7011-4988-d99b-d8418d9309eb"
   },
   "outputs": [
    {
     "name": "stdout",
     "output_type": "stream",
     "text": [
      "Accuracy From KNN:  0.6865558912386707\n"
     ]
    }
   ],
   "source": [
    "knn1 = KNeighborsClassifier(n_neighbors=1)\n",
    "knn1.fit(X_train, y_train)\n",
    "\n",
    "prediction=knn1.predict(X_test)\n",
    "\n",
    "print('Accuracy From KNN: ', accuracy_score(y_test, prediction))\n",
    "\n"
   ]
  },
  {
   "cell_type": "code",
   "execution_count": 28,
   "id": "e404463d",
   "metadata": {
    "colab": {
     "base_uri": "https://localhost:8080/"
    },
    "id": "e404463d",
    "outputId": "2bf81310-c1d8-4da7-89a4-f78f41bf3475"
   },
   "outputs": [
    {
     "name": "stdout",
     "output_type": "stream",
     "text": [
      "Accuracy DEcision Tree:  0.49370594159113795\n"
     ]
    }
   ],
   "source": [
    "DT = DecisionTreeClassifier()\n",
    "DT.fit(X_train, y_train)\n",
    "prediction=DT.predict(X_test)\n",
    "print('Accuracy DEcision Tree: ', accuracy_score(y_test, prediction))  \n",
    "\n",
    "\n"
   ]
  },
  {
   "cell_type": "markdown",
   "id": "7e51a4b5",
   "metadata": {},
   "source": [
    "# SVM"
   ]
  },
  {
   "cell_type": "code",
   "execution_count": null,
   "id": "53d45077",
   "metadata": {
    "colab": {
     "base_uri": "https://localhost:8080/"
    },
    "id": "53d45077",
    "outputId": "23f4afad-893d-49ff-a631-5a6bf2156c77",
    "scrolled": true
   },
   "outputs": [],
   "source": [
    "from sklearn import metrics\n",
    "from sklearn import svm\n",
    "from sklearn.svm import SVC\n",
    "from sklearn.metrics import accuracy_score\n",
    "\n",
    "\n",
    "\n"
   ]
  },
  {
   "cell_type": "code",
   "execution_count": 36,
   "id": "e8823d33",
   "metadata": {
    "id": "e8823d33"
   },
   "outputs": [
    {
     "name": "stdout",
     "output_type": "stream",
     "text": [
      "Accuracy:  0.2094662638469285 \n",
      "\n"
     ]
    }
   ],
   "source": [
    "svm_m=SVC()\n",
    "svm_m.fit(X_train,y_train)\n",
    "prediction=svm_m.predict(X_test)\n",
    "print('Accuracy: ', accuracy_score(y_test, prediction), '\\n')\n",
    "\n"
   ]
  },
  {
   "cell_type": "code",
   "execution_count": 29,
   "id": "369e77e9",
   "metadata": {},
   "outputs": [],
   "source": [
    "import warnings\n",
    "warnings.filterwarnings('ignore')\n",
    "from sklearn.preprocessing import StandardScaler\n",
    "from sklearn.model_selection import cross_val_score"
   ]
  },
  {
   "cell_type": "code",
   "execution_count": 30,
   "id": "dd52aaa5",
   "metadata": {},
   "outputs": [
    {
     "name": "stdout",
     "output_type": "stream",
     "text": [
      "All Accuracies:  [0.6858006  0.6978852  0.70694864 0.71601208 0.6978852  0.68882175\n",
      " 0.6978852  0.70543807 0.70543807 0.70090634 0.69939577 0.69486405\n",
      " 0.69939577 0.68882175 0.68126888 0.69335347 0.6978852  0.69637462\n",
      " 0.69591528 0.68683812] \n",
      "\n",
      "Mean of all Accuracies:  0.6968567034293002 \n",
      "\n",
      "Standard Deviation:  0.007942456144810626\n"
     ]
    },
    {
     "data": {
      "text/plain": [
       "Text(0, 0.5, 'Accuracies')"
      ]
     },
     "execution_count": 30,
     "metadata": {},
     "output_type": "execute_result"
    },
    {
     "data": {
      "image/png": "[encoded data removed]",
      "text/plain": [
       "<Figure size 432x288 with 1 Axes>"
      ]
     },
     "metadata": {
      "needs_background": "light"
     },
     "output_type": "display_data"
    }
   ],
   "source": [
    "knn = KNeighborsClassifier(n_neighbors=1)\n",
    "\n",
    "scores = cross_val_score(knn, X, y, cv=20, scoring='accuracy')\n",
    "print('All Accuracies: ', scores, '\\n')\n",
    "\n",
    "print('Mean of all Accuracies: ', scores.mean(), '\\n')\n",
    "print('Standard Deviation: ', scores.std())\n",
    "\n",
    "plt.plot(scores)\n",
    "plt.xlabel('Value of K in KNN for Fuzzing attack 3 algorithm ')\n",
    "plt.ylabel('Accuracies')\n"
   ]
  },
  {
   "cell_type": "markdown",
   "id": "a151d4ce",
   "metadata": {
    "id": "7054eb39"
   },
   "source": [
    "# By keeping neighbour value 10"
   ]
  },
  {
   "cell_type": "code",
   "execution_count": 32,
   "id": "9f5b4568",
   "metadata": {},
   "outputs": [
    {
     "name": "stdout",
     "output_type": "stream",
     "text": [
      "All Accuracies:  [0.57703927 0.58006042 0.58308157 0.59516616 0.58912387 0.59214502\n",
      " 0.60271903 0.61480363 0.6102719  0.60271903 0.59667674 0.59214502\n",
      " 0.58761329 0.58761329 0.58006042 0.5755287  0.58459215 0.59063444\n",
      " 0.57639939 0.57337368] \n",
      "\n",
      "Mean of all Accuracies:  0.5895883514404157 \n",
      "\n",
      "Standard Deviation:  0.011297945511568923\n"
     ]
    },
    {
     "data": {
      "text/plain": [
       "Text(0, 0.5, ' Accuracies')"
      ]
     },
     "execution_count": 32,
     "metadata": {},
     "output_type": "execute_result"
    },
    {
     "data": {
      "image/png": "[encoded data removed]",
      "text/plain": [
       "<Figure size 432x288 with 1 Axes>"
      ]
     },
     "metadata": {
      "needs_background": "light"
     },
     "output_type": "display_data"
    }
   ],
   "source": [
    "knn = KNeighborsClassifier(n_neighbors=10)\n",
    "\n",
    "scores = cross_val_score(knn, X, y, cv=20, scoring='accuracy')\n",
    "print('All Accuracies: ', scores, '\\n')\n",
    "\n",
    "print('Mean of all Accuracies: ', scores.mean(), '\\n')\n",
    "print('Standard Deviation: ', scores.std())\n",
    "\n",
    "plt.plot(scores)\n",
    "plt.xlabel('Value of K in KNN for Fuzzing attack 3 algorithm')\n",
    "plt.ylabel(' Accuracies')\n"
   ]
  },
  {
   "cell_type": "markdown",
   "id": "599f4fb0",
   "metadata": {
    "id": "6_3dWPLI139K"
   },
   "source": [
    "# DECISION TREE"
   ]
  },
  {
   "cell_type": "code",
   "execution_count": 33,
   "id": "10ca485a",
   "metadata": {},
   "outputs": [
    {
     "name": "stdout",
     "output_type": "stream",
     "text": [
      "All Accuracies:  [0.5387931  0.53232759 0.54741379 0.5387931  0.53448276 0.52801724\n",
      " 0.52699784 0.56155508 0.55507559 0.50323974 0.51403888 0.49676026\n",
      " 0.50539957 0.51403888 0.48812095 0.50539957 0.52483801 0.5075594\n",
      " 0.5075594  0.50971922] \n",
      "\n",
      "Mean of all Accuracies:  0.5220064981008417 \n",
      "\n",
      "Standard Deviation:  0.019471470080192597\n"
     ]
    },
    {
     "data": {
      "text/plain": [
       "Text(0, 0.5, 'Cross-Validated Accuracy')"
      ]
     },
     "execution_count": 33,
     "metadata": {},
     "output_type": "execute_result"
    },
    {
     "data": {
      "image/png": "[encoded data removed]",
      "text/plain": [
       "<Figure size 432x288 with 1 Axes>"
      ]
     },
     "metadata": {
      "needs_background": "light"
     },
     "output_type": "display_data"
    }
   ],
   "source": [
    "feature_scaler = StandardScaler()\n",
    "X_train = feature_scaler.fit_transform(X_train)\n",
    "X_test = feature_scaler.transform(X_test)\n",
    "\n",
    "classifier = DecisionTreeClassifier(criterion =\"entropy\", splitter =\"random\", max_depth =5,  min_samples_split =5,\n",
    "                              min_samples_leaf =2, max_features =2)\n",
    "\n",
    "all_accuracies = cross_val_score(estimator=DT, X=X_train, y=y_train, cv=20)\n",
    "\n",
    "print('All Accuracies: ', all_accuracies, '\\n')\n",
    "\n",
    "print('Mean of all Accuracies: ', all_accuracies.mean(), '\\n')\n",
    "print('Standard Deviation: ', all_accuracies.std())\n",
    "\n",
    "plt.plot(all_accuracies)\n",
    "plt.xlabel('Values Of Desion Tree for Fuzzing Attack 3')\n",
    "plt.ylabel('Cross-Validated Accuracy')\n"
   ]
  },
  {
   "cell_type": "markdown",
   "id": "4bc41f02",
   "metadata": {
    "id": "86354d85"
   },
   "source": [
    "# Decision Tree"
   ]
  },
  {
   "cell_type": "code",
   "execution_count": 34,
   "id": "2b99aab2",
   "metadata": {},
   "outputs": [
    {
     "name": "stdout",
     "output_type": "stream",
     "text": [
      "All Accuracies:  [0.5387931  0.53448276 0.54525862 0.54310345 0.53232759 0.5237069\n",
      " 0.52915767 0.56155508 0.55291577 0.50323974 0.51403888 0.49676026\n",
      " 0.50539957 0.50971922 0.48596112 0.50539957 0.51835853 0.50971922\n",
      " 0.5075594  0.51187905] \n",
      "\n",
      "Mean of all Accuracies:  0.5214667740373873 \n",
      "\n",
      "Standard Deviation:  0.019529252377356515\n"
     ]
    },
    {
     "data": {
      "text/plain": [
       "Text(0, 0.5, 'Cross-Validated Accuracy')"
      ]
     },
     "execution_count": 34,
     "metadata": {},
     "output_type": "execute_result"
    },
    {
     "data": {
      "image/png": "[encoded data removed]",
      "text/plain": [
       "<Figure size 432x288 with 1 Axes>"
      ]
     },
     "metadata": {
      "needs_background": "light"
     },
     "output_type": "display_data"
    }
   ],
   "source": [
    "feature_scaler = StandardScaler()\n",
    "X_train = feature_scaler.fit_transform(X_train)\n",
    "X_test = feature_scaler.transform(X_test)\n",
    "\n",
    "classifier = DecisionTreeClassifier(criterion =\"entropy\", splitter =\"random\", max_depth =70,  min_samples_split =6,\n",
    "                              min_samples_leaf =3, max_features =3)\n",
    "\n",
    "all_accuracies = cross_val_score(estimator=DT, X=X_train, y=y_train, cv=20)\n",
    "\n",
    "print('All Accuracies: ', all_accuracies, '\\n')\n",
    "\n",
    "print('Mean of all Accuracies: ', all_accuracies.mean(), '\\n')\n",
    "print('Standard Deviation: ', all_accuracies.std())\n",
    "\n",
    "plt.plot(all_accuracies)\n",
    "plt.xlabel('Values Of DT')\n",
    "plt.ylabel('Cross-Validated Accuracy')\n"
   ]
  },
  {
   "cell_type": "markdown",
   "id": "64410ce1",
   "metadata": {
    "id": "a74a98ab"
   },
   "source": [
    "# Random Forest:"
   ]
  },
  {
   "cell_type": "code",
   "execution_count": 37,
   "id": "ecd1ce51",
   "metadata": {
    "id": "ecd1ce51"
   },
   "outputs": [
    {
     "name": "stdout",
     "output_type": "stream",
     "text": [
      "All Accuracies:  [0.42071197 0.38942826 0.40560949 0.43473571 0.41423948 0.39590076\n",
      " 0.39308855 0.42332613 0.40172786 0.41036717] \n",
      "\n",
      "Mean of all Accuracies:  0.40891353934403696\n",
      "Standard Deviation:  0.013806441960116435\n"
     ]
    },
    {
     "data": {
      "text/plain": [
       "Text(0, 0.5, 'Cross- Validated Accuracy')"
      ]
     },
     "execution_count": 37,
     "metadata": {},
     "output_type": "execute_result"
    },
    {
     "data": {
      "image/png": "[encoded data removed]",
      "text/plain": [
       "<Figure size 432x288 with 1 Axes>"
      ]
     },
     "metadata": {
      "needs_background": "light"
     },
     "output_type": "display_data"
    }
   ],
   "source": [
    "feature_scaler = StandardScaler()\n",
    "X_train = feature_scaler.fit_transform(X_train)\n",
    "X_test = feature_scaler.transform(X_test)\n",
    "\n",
    "classifier = RandomForestClassifier(n_estimators=2, random_state=0)\n",
    "\n",
    "all_accuracies = cross_val_score(estimator=classifier, X=X_train, y=y_train, cv=10)\n",
    "\n",
    "print('All Accuracies: ', all_accuracies, '\\n')\n",
    "\n",
    "print('Mean of all Accuracies: ', all_accuracies.mean())\n",
    "print('Standard Deviation: ', all_accuracies.std())\n",
    "\n",
    "plt.plot(all_accuracies)\n",
    "plt.xlabel('Values Of Rf in Fuzzing Attack 3')\n",
    "plt.ylabel('Cross- Validated Accuracy')\n"
   ]
  },
  {
   "cell_type": "code",
   "execution_count": null,
   "id": "3dce403b",
   "metadata": {
    "id": "3dce403b"
   },
   "outputs": [],
   "source": []
  },
  {
   "cell_type": "code",
   "execution_count": null,
   "id": "1b8745aa",
   "metadata": {
    "id": "3fd0d488"
   },
   "outputs": [],
   "source": []
  },
  {
   "cell_type": "code",
   "execution_count": null,
   "id": "1a9ac108",
   "metadata": {
    "id": "1a9ac108"
   },
   "outputs": [],
   "source": [
    "\n"
   ]
  },
  {
   "cell_type": "code",
   "execution_count": null,
   "id": "f381b99b",
   "metadata": {
    "id": "afe9056c"
   },
   "outputs": [],
   "source": []
  },
  {
   "cell_type": "code",
   "execution_count": null,
   "id": "7e5dc3e3",
   "metadata": {
    "id": "7e5dc3e3"
   },
   "outputs": [],
   "source": []
  },
  {
   "cell_type": "code",
   "execution_count": null,
   "id": "d858563a",
   "metadata": {},
   "outputs": [],
   "source": []
  },
  {
   "cell_type": "code",
   "execution_count": null,
   "id": "d8caeb0e",
   "metadata": {},
   "outputs": [],
   "source": [
    "\n",
    "\n"
   ]
  },
  {
   "cell_type": "code",
   "execution_count": null,
   "id": "2cdbb34e",
   "metadata": {},
   "outputs": [],
   "source": []
  },
  {
   "cell_type": "code",
   "execution_count": null,
   "id": "5588cb4c",
   "metadata": {
    "id": "5588cb4c"
   },
   "outputs": [],
   "source": []
  },
  {
   "cell_type": "code",
   "execution_count": null,
   "id": "1d684677",
   "metadata": {},
   "outputs": [],
   "source": []
  },
  {
   "cell_type": "code",
   "execution_count": null,
   "id": "3add9761",
   "metadata": {
    "id": "3af9b23a"
   },
   "outputs": [],
   "source": []
  },
  {
   "cell_type": "code",
   "execution_count": null,
   "id": "b0c08add",
   "metadata": {},
   "outputs": [],
   "source": []
  },
  {
   "cell_type": "code",
   "execution_count": null,
   "id": "26e85f05",
   "metadata": {
    "id": "26e85f05"
   },
   "outputs": [],
   "source": []
  },
  {
   "cell_type": "code",
   "execution_count": null,
   "id": "5f90df89",
   "metadata": {},
   "outputs": [],
   "source": []
  },
  {
   "cell_type": "code",
   "execution_count": null,
   "id": "5a67a869",
   "metadata": {},
   "outputs": [],
   "source": []
  },
  {
   "cell_type": "code",
   "execution_count": null,
   "id": "0e254d09",
   "metadata": {
    "id": "0e254d09"
   },
   "outputs": [],
   "source": []
  },
  {
   "cell_type": "code",
   "execution_count": null,
   "id": "e18527e7",
   "metadata": {},
   "outputs": [],
   "source": []
  },
  {
   "cell_type": "code",
   "execution_count": null,
   "id": "673b0101",
   "metadata": {},
   "outputs": [],
   "source": []
  },
  {
   "cell_type": "code",
   "execution_count": null,
   "id": "687f0f16",
   "metadata": {},
   "outputs": [],
   "source": []
  },
  {
   "cell_type": "code",
   "execution_count": null,
   "id": "34a20084",
   "metadata": {},
   "outputs": [],
   "source": []
  },
  {
   "cell_type": "code",
   "execution_count": null,
   "id": "6925ec9b",
   "metadata": {},
   "outputs": [],
   "source": []
  },
  {
   "cell_type": "code",
   "execution_count": null,
   "id": "0048a508",
   "metadata": {},
   "outputs": [],
   "source": []
  },
  {
   "cell_type": "code",
   "execution_count": null,
   "id": "62e8ed60",
   "metadata": {},
   "outputs": [],
   "source": []
  }
 ],
 "metadata": {
  "colab": {
   "collapsed_sections": [],
   "name": "fuzzing_attack_ALL_ALGO.ipynb",
   "provenance": []
  },
  "kernelspec": {
   "display_name": "Python 3",
   "language": "python",
   "name": "python3"
  },
  "language_info": {
   "codemirror_mode": {
    "name": "ipython",
    "version": 3
   },
   "file_extension": ".py",
   "mimetype": "text/x-python",
   "name": "python",
   "nbconvert_exporter": "python",
   "pygments_lexer": "ipython3",
   "version": "3.8.8"
  }
 },
 "nbformat": 4,
 "nbformat_minor": 5
}
