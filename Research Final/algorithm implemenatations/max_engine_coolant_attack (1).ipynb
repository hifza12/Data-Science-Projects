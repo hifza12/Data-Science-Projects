{
 "cells": [
  {
   "cell_type": "code",
   "execution_count": 1,
   "id": "2b2e7194",
   "metadata": {},
   "outputs": [],
   "source": [
    "import numpy as np\n",
    "import pandas as pd"
   ]
  },
  {
   "cell_type": "markdown",
   "id": "46ec46df",
   "metadata": {},
   "source": [
    "importing data"
   ]
  },
  {
   "cell_type": "code",
   "execution_count": 2,
   "id": "73882076",
   "metadata": {},
   "outputs": [
    {
     "data": {
      "text/html": [
       "<div>\n",
       "<style scoped>\n",
       "    .dataframe tbody tr th:only-of-type {\n",
       "        vertical-align: middle;\n",
       "    }\n",
       "\n",
       "    .dataframe tbody tr th {\n",
       "        vertical-align: top;\n",
       "    }\n",
       "\n",
       "    .dataframe thead th {\n",
       "        text-align: right;\n",
       "    }\n",
       "</style>\n",
       "<table border=\"1\" class=\"dataframe\">\n",
       "  <thead>\n",
       "    <tr style=\"text-align: right;\">\n",
       "      <th></th>\n",
       "      <th>(1090000000.000000) can0 033#000780000F0007D0</th>\n",
       "    </tr>\n",
       "  </thead>\n",
       "  <tbody>\n",
       "    <tr>\n",
       "      <th>0</th>\n",
       "      <td>(1090000000.000001) can0 162#00080003EA11F4CE</td>\n",
       "    </tr>\n",
       "    <tr>\n",
       "      <th>1</th>\n",
       "      <td>(1090000000.000002) can0 0A7#2010FA24D125C0A0</td>\n",
       "    </tr>\n",
       "    <tr>\n",
       "      <th>2</th>\n",
       "      <td>(1090000000.000997) can0 32D#00000424CC010000</td>\n",
       "    </tr>\n",
       "    <tr>\n",
       "      <th>3</th>\n",
       "      <td>(1090000000.002018) can0 576#7FF800003FFC1FC0</td>\n",
       "    </tr>\n",
       "    <tr>\n",
       "      <th>4</th>\n",
       "      <td>(1090000000.005084) can0 193#00080803E6E80000</td>\n",
       "    </tr>\n",
       "  </tbody>\n",
       "</table>\n",
       "</div>"
      ],
      "text/plain": [
       "   (1090000000.000000) can0 033#000780000F0007D0\n",
       "0  (1090000000.000001) can0 162#00080003EA11F4CE\n",
       "1  (1090000000.000002) can0 0A7#2010FA24D125C0A0\n",
       "2  (1090000000.000997) can0 32D#00000424CC010000\n",
       "3  (1090000000.002018) can0 576#7FF800003FFC1FC0\n",
       "4  (1090000000.005084) can0 193#00080803E6E80000"
      ]
     },
     "execution_count": 2,
     "metadata": {},
     "output_type": "execute_result"
    }
   ],
   "source": [
    "df=pd.read_csv('D:/Research Work/road/attacks/max_engine_coolant_temp_attack.log')\n",
    "df.head()"
   ]
  },
  {
   "cell_type": "markdown",
   "id": "64da24e8",
   "metadata": {},
   "source": [
    "sliting the data into different columns"
   ]
  },
  {
   "cell_type": "code",
   "execution_count": 3,
   "id": "43adfb37",
   "metadata": {},
   "outputs": [
    {
     "data": {
      "text/html": [
       "<div>\n",
       "<style scoped>\n",
       "    .dataframe tbody tr th:only-of-type {\n",
       "        vertical-align: middle;\n",
       "    }\n",
       "\n",
       "    .dataframe tbody tr th {\n",
       "        vertical-align: top;\n",
       "    }\n",
       "\n",
       "    .dataframe thead th {\n",
       "        text-align: right;\n",
       "    }\n",
       "</style>\n",
       "<table border=\"1\" class=\"dataframe\">\n",
       "  <thead>\n",
       "    <tr style=\"text-align: right;\">\n",
       "      <th></th>\n",
       "      <th>Unix Timestamp</th>\n",
       "      <th>Channel</th>\n",
       "      <th>IDHexandDataFeild</th>\n",
       "    </tr>\n",
       "  </thead>\n",
       "  <tbody>\n",
       "    <tr>\n",
       "      <th>0</th>\n",
       "      <td>1090000000.000000</td>\n",
       "      <td>can0</td>\n",
       "      <td>033#000780000F0007D0</td>\n",
       "    </tr>\n",
       "    <tr>\n",
       "      <th>1</th>\n",
       "      <td>1090000000.000001</td>\n",
       "      <td>can0</td>\n",
       "      <td>162#00080003EA11F4CE</td>\n",
       "    </tr>\n",
       "    <tr>\n",
       "      <th>2</th>\n",
       "      <td>1090000000.000002</td>\n",
       "      <td>can0</td>\n",
       "      <td>0A7#2010FA24D125C0A0</td>\n",
       "    </tr>\n",
       "    <tr>\n",
       "      <th>3</th>\n",
       "      <td>1090000000.000997</td>\n",
       "      <td>can0</td>\n",
       "      <td>32D#00000424CC010000</td>\n",
       "    </tr>\n",
       "    <tr>\n",
       "      <th>4</th>\n",
       "      <td>1090000000.002018</td>\n",
       "      <td>can0</td>\n",
       "      <td>576#7FF800003FFC1FC0</td>\n",
       "    </tr>\n",
       "    <tr>\n",
       "      <th>...</th>\n",
       "      <td>...</td>\n",
       "      <td>...</td>\n",
       "      <td>...</td>\n",
       "    </tr>\n",
       "    <tr>\n",
       "      <th>61918</th>\n",
       "      <td>1090000025.873534</td>\n",
       "      <td>can0</td>\n",
       "      <td>FFF#0000000000000000</td>\n",
       "    </tr>\n",
       "    <tr>\n",
       "      <th>61919</th>\n",
       "      <td>1090000025.873535</td>\n",
       "      <td>can0</td>\n",
       "      <td>3E4#0134000005000000</td>\n",
       "    </tr>\n",
       "    <tr>\n",
       "      <th>61920</th>\n",
       "      <td>1090000025.873536</td>\n",
       "      <td>can0</td>\n",
       "      <td>65C#4011D26750000000</td>\n",
       "    </tr>\n",
       "    <tr>\n",
       "      <th>61921</th>\n",
       "      <td>1090000025.874552</td>\n",
       "      <td>can0</td>\n",
       "      <td>577#0000080000000146</td>\n",
       "    </tr>\n",
       "    <tr>\n",
       "      <th>61922</th>\n",
       "      <td>1090000025.875548</td>\n",
       "      <td>can0</td>\n",
       "      <td>6E0#01BE01BC01C001C0</td>\n",
       "    </tr>\n",
       "  </tbody>\n",
       "</table>\n",
       "<p>61923 rows × 3 columns</p>\n",
       "</div>"
      ],
      "text/plain": [
       "          Unix Timestamp Channel     IDHexandDataFeild\n",
       "0      1090000000.000000    can0  033#000780000F0007D0\n",
       "1      1090000000.000001    can0  162#00080003EA11F4CE\n",
       "2      1090000000.000002    can0  0A7#2010FA24D125C0A0\n",
       "3      1090000000.000997    can0  32D#00000424CC010000\n",
       "4      1090000000.002018    can0  576#7FF800003FFC1FC0\n",
       "...                  ...     ...                   ...\n",
       "61918  1090000025.873534    can0  FFF#0000000000000000\n",
       "61919  1090000025.873535    can0  3E4#0134000005000000\n",
       "61920  1090000025.873536    can0  65C#4011D26750000000\n",
       "61921  1090000025.874552    can0  577#0000080000000146\n",
       "61922  1090000025.875548    can0  6E0#01BE01BC01C001C0\n",
       "\n",
       "[61923 rows x 3 columns]"
      ]
     },
     "execution_count": 3,
     "metadata": {},
     "output_type": "execute_result"
    }
   ],
   "source": [
    "log_data  = open('D:/Research Work/road/attacks/max_engine_coolant_temp_attack.log', 'r')\n",
    "split_list = []\n",
    "\n",
    "for line in log_data:\n",
    "    thing1 = line.split(' ')\n",
    "    time = thing1[0][1:18]\n",
    "    idd = thing1[1][:4]\n",
    "    message = thing1[2][:20]\n",
    "    \n",
    "\n",
    "    split_list.append([time, idd, message])\n",
    "\n",
    "df1 = pd.DataFrame(split_list, columns=['Unix Timestamp', 'Channel', 'IDHexandDataFeild'])\n",
    "#df1['Message'].map(str.strip)\n",
    "df1"
   ]
  },
  {
   "cell_type": "markdown",
   "id": "728639ce",
   "metadata": {},
   "source": [
    "spliting idhex and dataframe in out variable"
   ]
  },
  {
   "cell_type": "code",
   "execution_count": 4,
   "id": "e7dd2630",
   "metadata": {},
   "outputs": [
    {
     "data": {
      "text/html": [
       "<div>\n",
       "<style scoped>\n",
       "    .dataframe tbody tr th:only-of-type {\n",
       "        vertical-align: middle;\n",
       "    }\n",
       "\n",
       "    .dataframe tbody tr th {\n",
       "        vertical-align: top;\n",
       "    }\n",
       "\n",
       "    .dataframe thead th {\n",
       "        text-align: right;\n",
       "    }\n",
       "</style>\n",
       "<table border=\"1\" class=\"dataframe\">\n",
       "  <thead>\n",
       "    <tr style=\"text-align: right;\">\n",
       "      <th></th>\n",
       "      <th>IDhex</th>\n",
       "      <th>DataFrame</th>\n",
       "    </tr>\n",
       "  </thead>\n",
       "  <tbody>\n",
       "    <tr>\n",
       "      <th>0</th>\n",
       "      <td>033</td>\n",
       "      <td>000780000F0007D0</td>\n",
       "    </tr>\n",
       "    <tr>\n",
       "      <th>1</th>\n",
       "      <td>162</td>\n",
       "      <td>00080003EA11F4CE</td>\n",
       "    </tr>\n",
       "    <tr>\n",
       "      <th>2</th>\n",
       "      <td>0A7</td>\n",
       "      <td>2010FA24D125C0A0</td>\n",
       "    </tr>\n",
       "    <tr>\n",
       "      <th>3</th>\n",
       "      <td>32D</td>\n",
       "      <td>00000424CC010000</td>\n",
       "    </tr>\n",
       "    <tr>\n",
       "      <th>4</th>\n",
       "      <td>576</td>\n",
       "      <td>7FF800003FFC1FC0</td>\n",
       "    </tr>\n",
       "  </tbody>\n",
       "</table>\n",
       "</div>"
      ],
      "text/plain": [
       "  IDhex         DataFrame\n",
       "0   033  000780000F0007D0\n",
       "1   162  00080003EA11F4CE\n",
       "2   0A7  2010FA24D125C0A0\n",
       "3   32D  00000424CC010000\n",
       "4   576  7FF800003FFC1FC0"
      ]
     },
     "execution_count": 4,
     "metadata": {},
     "output_type": "execute_result"
    }
   ],
   "source": [
    "out = pd.DataFrame(df1.IDHexandDataFeild.str.split('#',1).tolist(),columns=['IDhex','DataFrame'])\n",
    "out.head()"
   ]
  },
  {
   "cell_type": "markdown",
   "id": "8050314f",
   "metadata": {},
   "source": [
    "get unixtimestamp and Channel column"
   ]
  },
  {
   "cell_type": "code",
   "execution_count": 5,
   "id": "136186b0",
   "metadata": {},
   "outputs": [
    {
     "data": {
      "text/html": [
       "<div>\n",
       "<style scoped>\n",
       "    .dataframe tbody tr th:only-of-type {\n",
       "        vertical-align: middle;\n",
       "    }\n",
       "\n",
       "    .dataframe tbody tr th {\n",
       "        vertical-align: top;\n",
       "    }\n",
       "\n",
       "    .dataframe thead th {\n",
       "        text-align: right;\n",
       "    }\n",
       "</style>\n",
       "<table border=\"1\" class=\"dataframe\">\n",
       "  <thead>\n",
       "    <tr style=\"text-align: right;\">\n",
       "      <th></th>\n",
       "      <th>Unix Timestamp</th>\n",
       "      <th>Channel</th>\n",
       "    </tr>\n",
       "  </thead>\n",
       "  <tbody>\n",
       "    <tr>\n",
       "      <th>0</th>\n",
       "      <td>1090000000.000000</td>\n",
       "      <td>can0</td>\n",
       "    </tr>\n",
       "    <tr>\n",
       "      <th>1</th>\n",
       "      <td>1090000000.000001</td>\n",
       "      <td>can0</td>\n",
       "    </tr>\n",
       "    <tr>\n",
       "      <th>2</th>\n",
       "      <td>1090000000.000002</td>\n",
       "      <td>can0</td>\n",
       "    </tr>\n",
       "    <tr>\n",
       "      <th>3</th>\n",
       "      <td>1090000000.000997</td>\n",
       "      <td>can0</td>\n",
       "    </tr>\n",
       "    <tr>\n",
       "      <th>4</th>\n",
       "      <td>1090000000.002018</td>\n",
       "      <td>can0</td>\n",
       "    </tr>\n",
       "  </tbody>\n",
       "</table>\n",
       "</div>"
      ],
      "text/plain": [
       "      Unix Timestamp Channel\n",
       "0  1090000000.000000    can0\n",
       "1  1090000000.000001    can0\n",
       "2  1090000000.000002    can0\n",
       "3  1090000000.000997    can0\n",
       "4  1090000000.002018    can0"
      ]
     },
     "execution_count": 5,
     "metadata": {},
     "output_type": "execute_result"
    }
   ],
   "source": [
    "df2=df1[['Unix Timestamp', 'Channel']] \n",
    "df2.head()"
   ]
  },
  {
   "cell_type": "code",
   "execution_count": 6,
   "id": "10f96ce9",
   "metadata": {},
   "outputs": [
    {
     "data": {
      "text/html": [
       "<div>\n",
       "<style scoped>\n",
       "    .dataframe tbody tr th:only-of-type {\n",
       "        vertical-align: middle;\n",
       "    }\n",
       "\n",
       "    .dataframe tbody tr th {\n",
       "        vertical-align: top;\n",
       "    }\n",
       "\n",
       "    .dataframe thead th {\n",
       "        text-align: right;\n",
       "    }\n",
       "</style>\n",
       "<table border=\"1\" class=\"dataframe\">\n",
       "  <thead>\n",
       "    <tr style=\"text-align: right;\">\n",
       "      <th></th>\n",
       "      <th>IDhex</th>\n",
       "      <th>DataFrame</th>\n",
       "    </tr>\n",
       "  </thead>\n",
       "  <tbody>\n",
       "    <tr>\n",
       "      <th>0</th>\n",
       "      <td>51</td>\n",
       "      <td>000780000F0007D0</td>\n",
       "    </tr>\n",
       "    <tr>\n",
       "      <th>1</th>\n",
       "      <td>354</td>\n",
       "      <td>00080003EA11F4CE</td>\n",
       "    </tr>\n",
       "    <tr>\n",
       "      <th>2</th>\n",
       "      <td>167</td>\n",
       "      <td>2010FA24D125C0A0</td>\n",
       "    </tr>\n",
       "    <tr>\n",
       "      <th>3</th>\n",
       "      <td>813</td>\n",
       "      <td>00000424CC010000</td>\n",
       "    </tr>\n",
       "    <tr>\n",
       "      <th>4</th>\n",
       "      <td>1398</td>\n",
       "      <td>7FF800003FFC1FC0</td>\n",
       "    </tr>\n",
       "    <tr>\n",
       "      <th>...</th>\n",
       "      <td>...</td>\n",
       "      <td>...</td>\n",
       "    </tr>\n",
       "    <tr>\n",
       "      <th>61918</th>\n",
       "      <td>4095</td>\n",
       "      <td>0000000000000000</td>\n",
       "    </tr>\n",
       "    <tr>\n",
       "      <th>61919</th>\n",
       "      <td>996</td>\n",
       "      <td>0134000005000000</td>\n",
       "    </tr>\n",
       "    <tr>\n",
       "      <th>61920</th>\n",
       "      <td>1628</td>\n",
       "      <td>4011D26750000000</td>\n",
       "    </tr>\n",
       "    <tr>\n",
       "      <th>61921</th>\n",
       "      <td>1399</td>\n",
       "      <td>0000080000000146</td>\n",
       "    </tr>\n",
       "    <tr>\n",
       "      <th>61922</th>\n",
       "      <td>1760</td>\n",
       "      <td>01BE01BC01C001C0</td>\n",
       "    </tr>\n",
       "  </tbody>\n",
       "</table>\n",
       "<p>61923 rows × 2 columns</p>\n",
       "</div>"
      ],
      "text/plain": [
       "       IDhex         DataFrame\n",
       "0         51  000780000F0007D0\n",
       "1        354  00080003EA11F4CE\n",
       "2        167  2010FA24D125C0A0\n",
       "3        813  00000424CC010000\n",
       "4       1398  7FF800003FFC1FC0\n",
       "...      ...               ...\n",
       "61918   4095  0000000000000000\n",
       "61919    996  0134000005000000\n",
       "61920   1628  4011D26750000000\n",
       "61921   1399  0000080000000146\n",
       "61922   1760  01BE01BC01C001C0\n",
       "\n",
       "[61923 rows x 2 columns]"
      ]
     },
     "execution_count": 6,
     "metadata": {},
     "output_type": "execute_result"
    }
   ],
   "source": [
    "out['IDhex'] = out['IDhex'].apply(lambda x: int(x,16))\n",
    "out"
   ]
  },
  {
   "cell_type": "code",
   "execution_count": 7,
   "id": "9495af60",
   "metadata": {},
   "outputs": [
    {
     "data": {
      "text/html": [
       "<div>\n",
       "<style scoped>\n",
       "    .dataframe tbody tr th:only-of-type {\n",
       "        vertical-align: middle;\n",
       "    }\n",
       "\n",
       "    .dataframe tbody tr th {\n",
       "        vertical-align: top;\n",
       "    }\n",
       "\n",
       "    .dataframe thead th {\n",
       "        text-align: right;\n",
       "    }\n",
       "</style>\n",
       "<table border=\"1\" class=\"dataframe\">\n",
       "  <thead>\n",
       "    <tr style=\"text-align: right;\">\n",
       "      <th></th>\n",
       "      <th>IDhex</th>\n",
       "      <th>DataFrame</th>\n",
       "    </tr>\n",
       "  </thead>\n",
       "  <tbody>\n",
       "    <tr>\n",
       "      <th>0</th>\n",
       "      <td>51</td>\n",
       "      <td>2111062576990160</td>\n",
       "    </tr>\n",
       "    <tr>\n",
       "      <th>1</th>\n",
       "      <td>354</td>\n",
       "      <td>2251816625632462</td>\n",
       "    </tr>\n",
       "    <tr>\n",
       "      <th>2</th>\n",
       "      <td>167</td>\n",
       "      <td>2310621644875743392</td>\n",
       "    </tr>\n",
       "    <tr>\n",
       "      <th>3</th>\n",
       "      <td>813</td>\n",
       "      <td>4556087951360</td>\n",
       "    </tr>\n",
       "    <tr>\n",
       "      <th>4</th>\n",
       "      <td>1398</td>\n",
       "      <td>9221120238114578368</td>\n",
       "    </tr>\n",
       "    <tr>\n",
       "      <th>...</th>\n",
       "      <td>...</td>\n",
       "      <td>...</td>\n",
       "    </tr>\n",
       "    <tr>\n",
       "      <th>61918</th>\n",
       "      <td>4095</td>\n",
       "      <td>0</td>\n",
       "    </tr>\n",
       "    <tr>\n",
       "      <th>61919</th>\n",
       "      <td>996</td>\n",
       "      <td>86694292910768128</td>\n",
       "    </tr>\n",
       "    <tr>\n",
       "      <th>61920</th>\n",
       "      <td>1628</td>\n",
       "      <td>4616702434197110784</td>\n",
       "    </tr>\n",
       "    <tr>\n",
       "      <th>61921</th>\n",
       "      <td>1399</td>\n",
       "      <td>8796093022534</td>\n",
       "    </tr>\n",
       "    <tr>\n",
       "      <th>61922</th>\n",
       "      <td>1760</td>\n",
       "      <td>125539746607792576</td>\n",
       "    </tr>\n",
       "  </tbody>\n",
       "</table>\n",
       "<p>61923 rows × 2 columns</p>\n",
       "</div>"
      ],
      "text/plain": [
       "       IDhex            DataFrame\n",
       "0         51     2111062576990160\n",
       "1        354     2251816625632462\n",
       "2        167  2310621644875743392\n",
       "3        813        4556087951360\n",
       "4       1398  9221120238114578368\n",
       "...      ...                  ...\n",
       "61918   4095                    0\n",
       "61919    996    86694292910768128\n",
       "61920   1628  4616702434197110784\n",
       "61921   1399        8796093022534\n",
       "61922   1760   125539746607792576\n",
       "\n",
       "[61923 rows x 2 columns]"
      ]
     },
     "execution_count": 7,
     "metadata": {},
     "output_type": "execute_result"
    }
   ],
   "source": [
    "out['DataFrame'] = out['DataFrame'].apply(lambda x: int(x,16))\n",
    "out"
   ]
  },
  {
   "cell_type": "code",
   "execution_count": 8,
   "id": "b947133d",
   "metadata": {},
   "outputs": [
    {
     "data": {
      "text/html": [
       "<div>\n",
       "<style scoped>\n",
       "    .dataframe tbody tr th:only-of-type {\n",
       "        vertical-align: middle;\n",
       "    }\n",
       "\n",
       "    .dataframe tbody tr th {\n",
       "        vertical-align: top;\n",
       "    }\n",
       "\n",
       "    .dataframe thead th {\n",
       "        text-align: right;\n",
       "    }\n",
       "</style>\n",
       "<table border=\"1\" class=\"dataframe\">\n",
       "  <thead>\n",
       "    <tr style=\"text-align: right;\">\n",
       "      <th></th>\n",
       "      <th>Unix Timestamp</th>\n",
       "      <th>Channel</th>\n",
       "      <th>IDhex</th>\n",
       "      <th>DataFrame</th>\n",
       "    </tr>\n",
       "  </thead>\n",
       "  <tbody>\n",
       "    <tr>\n",
       "      <th>0</th>\n",
       "      <td>1090000000.000000</td>\n",
       "      <td>can0</td>\n",
       "      <td>51</td>\n",
       "      <td>2111062576990160</td>\n",
       "    </tr>\n",
       "    <tr>\n",
       "      <th>1</th>\n",
       "      <td>1090000000.000001</td>\n",
       "      <td>can0</td>\n",
       "      <td>354</td>\n",
       "      <td>2251816625632462</td>\n",
       "    </tr>\n",
       "    <tr>\n",
       "      <th>2</th>\n",
       "      <td>1090000000.000002</td>\n",
       "      <td>can0</td>\n",
       "      <td>167</td>\n",
       "      <td>2310621644875743392</td>\n",
       "    </tr>\n",
       "    <tr>\n",
       "      <th>3</th>\n",
       "      <td>1090000000.000997</td>\n",
       "      <td>can0</td>\n",
       "      <td>813</td>\n",
       "      <td>4556087951360</td>\n",
       "    </tr>\n",
       "    <tr>\n",
       "      <th>4</th>\n",
       "      <td>1090000000.002018</td>\n",
       "      <td>can0</td>\n",
       "      <td>1398</td>\n",
       "      <td>9221120238114578368</td>\n",
       "    </tr>\n",
       "  </tbody>\n",
       "</table>\n",
       "</div>"
      ],
      "text/plain": [
       "      Unix Timestamp Channel  IDhex            DataFrame\n",
       "0  1090000000.000000    can0     51     2111062576990160\n",
       "1  1090000000.000001    can0    354     2251816625632462\n",
       "2  1090000000.000002    can0    167  2310621644875743392\n",
       "3  1090000000.000997    can0    813        4556087951360\n",
       "4  1090000000.002018    can0   1398  9221120238114578368"
      ]
     },
     "execution_count": 8,
     "metadata": {},
     "output_type": "execute_result"
    }
   ],
   "source": [
    "frames=[df2,out]\n",
    "result=pd.concat(frames ,axis=1)\n",
    "result.head()"
   ]
  },
  {
   "cell_type": "code",
   "execution_count": 9,
   "id": "1f02ccca",
   "metadata": {},
   "outputs": [],
   "source": [
    "#here i have saved my data which i have splitted and  converted in decimal \n",
    "save=result.to_csv(\"D:/Research Work/road/extractedfrompython/speedometer.csv\")"
   ]
  },
  {
   "cell_type": "code",
   "execution_count": 10,
   "id": "aea130e9",
   "metadata": {},
   "outputs": [
    {
     "data": {
      "text/plain": [
       "(61923, 4)"
      ]
     },
     "execution_count": 10,
     "metadata": {},
     "output_type": "execute_result"
    }
   ],
   "source": [
    "result.shape"
   ]
  },
  {
   "cell_type": "code",
   "execution_count": 11,
   "id": "f80883ae",
   "metadata": {},
   "outputs": [
    {
     "data": {
      "text/html": [
       "<div>\n",
       "<style scoped>\n",
       "    .dataframe tbody tr th:only-of-type {\n",
       "        vertical-align: middle;\n",
       "    }\n",
       "\n",
       "    .dataframe tbody tr th {\n",
       "        vertical-align: top;\n",
       "    }\n",
       "\n",
       "    .dataframe thead th {\n",
       "        text-align: right;\n",
       "    }\n",
       "</style>\n",
       "<table border=\"1\" class=\"dataframe\">\n",
       "  <thead>\n",
       "    <tr style=\"text-align: right;\">\n",
       "      <th></th>\n",
       "      <th>Unix Timestamp</th>\n",
       "      <th>IDhex</th>\n",
       "      <th>DataFrame</th>\n",
       "    </tr>\n",
       "  </thead>\n",
       "  <tbody>\n",
       "    <tr>\n",
       "      <th>0</th>\n",
       "      <td>1090000000.000000</td>\n",
       "      <td>51</td>\n",
       "      <td>2111062576990160</td>\n",
       "    </tr>\n",
       "    <tr>\n",
       "      <th>1</th>\n",
       "      <td>1090000000.000001</td>\n",
       "      <td>354</td>\n",
       "      <td>2251816625632462</td>\n",
       "    </tr>\n",
       "    <tr>\n",
       "      <th>2</th>\n",
       "      <td>1090000000.000002</td>\n",
       "      <td>167</td>\n",
       "      <td>2310621644875743392</td>\n",
       "    </tr>\n",
       "    <tr>\n",
       "      <th>3</th>\n",
       "      <td>1090000000.000997</td>\n",
       "      <td>813</td>\n",
       "      <td>4556087951360</td>\n",
       "    </tr>\n",
       "    <tr>\n",
       "      <th>4</th>\n",
       "      <td>1090000000.002018</td>\n",
       "      <td>1398</td>\n",
       "      <td>9221120238114578368</td>\n",
       "    </tr>\n",
       "    <tr>\n",
       "      <th>...</th>\n",
       "      <td>...</td>\n",
       "      <td>...</td>\n",
       "      <td>...</td>\n",
       "    </tr>\n",
       "    <tr>\n",
       "      <th>61918</th>\n",
       "      <td>1090000025.873534</td>\n",
       "      <td>4095</td>\n",
       "      <td>0</td>\n",
       "    </tr>\n",
       "    <tr>\n",
       "      <th>61919</th>\n",
       "      <td>1090000025.873535</td>\n",
       "      <td>996</td>\n",
       "      <td>86694292910768128</td>\n",
       "    </tr>\n",
       "    <tr>\n",
       "      <th>61920</th>\n",
       "      <td>1090000025.873536</td>\n",
       "      <td>1628</td>\n",
       "      <td>4616702434197110784</td>\n",
       "    </tr>\n",
       "    <tr>\n",
       "      <th>61921</th>\n",
       "      <td>1090000025.874552</td>\n",
       "      <td>1399</td>\n",
       "      <td>8796093022534</td>\n",
       "    </tr>\n",
       "    <tr>\n",
       "      <th>61922</th>\n",
       "      <td>1090000025.875548</td>\n",
       "      <td>1760</td>\n",
       "      <td>125539746607792576</td>\n",
       "    </tr>\n",
       "  </tbody>\n",
       "</table>\n",
       "<p>61923 rows × 3 columns</p>\n",
       "</div>"
      ],
      "text/plain": [
       "          Unix Timestamp  IDhex            DataFrame\n",
       "0      1090000000.000000     51     2111062576990160\n",
       "1      1090000000.000001    354     2251816625632462\n",
       "2      1090000000.000002    167  2310621644875743392\n",
       "3      1090000000.000997    813        4556087951360\n",
       "4      1090000000.002018   1398  9221120238114578368\n",
       "...                  ...    ...                  ...\n",
       "61918  1090000025.873534   4095                    0\n",
       "61919  1090000025.873535    996    86694292910768128\n",
       "61920  1090000025.873536   1628  4616702434197110784\n",
       "61921  1090000025.874552   1399        8796093022534\n",
       "61922  1090000025.875548   1760   125539746607792576\n",
       "\n",
       "[61923 rows x 3 columns]"
      ]
     },
     "execution_count": 11,
     "metadata": {},
     "output_type": "execute_result"
    }
   ],
   "source": [
    "result = result.loc[:, ~result.columns.str.contains('^Channel')]\n",
    "\n",
    "result"
   ]
  },
  {
   "cell_type": "code",
   "execution_count": 12,
   "id": "5c8d74dd",
   "metadata": {},
   "outputs": [],
   "source": [
    "import matplotlib.pyplot as plt\n",
    "import pandas as pd"
   ]
  },
  {
   "cell_type": "markdown",
   "id": "70a87198",
   "metadata": {},
   "source": [
    "Split data into 2 chunks"
   ]
  },
  {
   "cell_type": "code",
   "execution_count": 13,
   "id": "3b1d4914",
   "metadata": {},
   "outputs": [],
   "source": [
    "n =21000  #chunk row size\n",
    "list_df = [result[i:i+n]\n",
    "for i in range(0,result.shape[0],n)]\n"
   ]
  },
  {
   "cell_type": "markdown",
   "id": "89ee8628",
   "metadata": {},
   "source": [
    "selcting first chunk and spliting it into dependent and independent variable"
   ]
  },
  {
   "cell_type": "code",
   "execution_count": 14,
   "id": "3a0a76e3",
   "metadata": {},
   "outputs": [
    {
     "data": {
      "text/html": [
       "<div>\n",
       "<style scoped>\n",
       "    .dataframe tbody tr th:only-of-type {\n",
       "        vertical-align: middle;\n",
       "    }\n",
       "\n",
       "    .dataframe tbody tr th {\n",
       "        vertical-align: top;\n",
       "    }\n",
       "\n",
       "    .dataframe thead th {\n",
       "        text-align: right;\n",
       "    }\n",
       "</style>\n",
       "<table border=\"1\" class=\"dataframe\">\n",
       "  <thead>\n",
       "    <tr style=\"text-align: right;\">\n",
       "      <th></th>\n",
       "      <th>Unix Timestamp</th>\n",
       "      <th>IDhex</th>\n",
       "      <th>DataFrame</th>\n",
       "    </tr>\n",
       "  </thead>\n",
       "  <tbody>\n",
       "    <tr>\n",
       "      <th>42000</th>\n",
       "      <td>1090000017.566274</td>\n",
       "      <td>526</td>\n",
       "      <td>5629503522824245239</td>\n",
       "    </tr>\n",
       "    <tr>\n",
       "      <th>42001</th>\n",
       "      <td>1090000017.566275</td>\n",
       "      <td>1314</td>\n",
       "      <td>16104819493026398236</td>\n",
       "    </tr>\n",
       "    <tr>\n",
       "      <th>42002</th>\n",
       "      <td>1090000017.567268</td>\n",
       "      <td>870</td>\n",
       "      <td>9321826714663767608</td>\n",
       "    </tr>\n",
       "    <tr>\n",
       "      <th>42003</th>\n",
       "      <td>1090000017.567270</td>\n",
       "      <td>1408</td>\n",
       "      <td>16542859264</td>\n",
       "    </tr>\n",
       "    <tr>\n",
       "      <th>42004</th>\n",
       "      <td>1090000017.567271</td>\n",
       "      <td>1076</td>\n",
       "      <td>65021430800414160</td>\n",
       "    </tr>\n",
       "    <tr>\n",
       "      <th>...</th>\n",
       "      <td>...</td>\n",
       "      <td>...</td>\n",
       "      <td>...</td>\n",
       "    </tr>\n",
       "    <tr>\n",
       "      <th>61918</th>\n",
       "      <td>1090000025.873534</td>\n",
       "      <td>4095</td>\n",
       "      <td>0</td>\n",
       "    </tr>\n",
       "    <tr>\n",
       "      <th>61919</th>\n",
       "      <td>1090000025.873535</td>\n",
       "      <td>996</td>\n",
       "      <td>86694292910768128</td>\n",
       "    </tr>\n",
       "    <tr>\n",
       "      <th>61920</th>\n",
       "      <td>1090000025.873536</td>\n",
       "      <td>1628</td>\n",
       "      <td>4616702434197110784</td>\n",
       "    </tr>\n",
       "    <tr>\n",
       "      <th>61921</th>\n",
       "      <td>1090000025.874552</td>\n",
       "      <td>1399</td>\n",
       "      <td>8796093022534</td>\n",
       "    </tr>\n",
       "    <tr>\n",
       "      <th>61922</th>\n",
       "      <td>1090000025.875548</td>\n",
       "      <td>1760</td>\n",
       "      <td>125539746607792576</td>\n",
       "    </tr>\n",
       "  </tbody>\n",
       "</table>\n",
       "<p>19923 rows × 3 columns</p>\n",
       "</div>"
      ],
      "text/plain": [
       "          Unix Timestamp  IDhex             DataFrame\n",
       "42000  1090000017.566274    526   5629503522824245239\n",
       "42001  1090000017.566275   1314  16104819493026398236\n",
       "42002  1090000017.567268    870   9321826714663767608\n",
       "42003  1090000017.567270   1408           16542859264\n",
       "42004  1090000017.567271   1076     65021430800414160\n",
       "...                  ...    ...                   ...\n",
       "61918  1090000025.873534   4095                     0\n",
       "61919  1090000025.873535    996     86694292910768128\n",
       "61920  1090000025.873536   1628   4616702434197110784\n",
       "61921  1090000025.874552   1399         8796093022534\n",
       "61922  1090000025.875548   1760    125539746607792576\n",
       "\n",
       "[19923 rows x 3 columns]"
      ]
     },
     "execution_count": 14,
     "metadata": {},
     "output_type": "execute_result"
    }
   ],
   "source": [
    "res=list_df[0]\n",
    "res1=list_df[1]\n",
    "res1=list_df[2]\n",
    "res1\n"
   ]
  },
  {
   "cell_type": "code",
   "execution_count": 15,
   "id": "d028221b",
   "metadata": {},
   "outputs": [
    {
     "name": "stdout",
     "output_type": "stream",
     "text": [
      "[['1090000000.000000' 51 2111062576990160]\n",
      " ['1090000000.000001' 354 2251816625632462]\n",
      " ['1090000000.000002' 167 2310621644875743392]\n",
      " ...\n",
      " ['1090000008.781181' 167 2310621369997979808]\n",
      " ['1090000008.781182' 1459 288230376151738368]\n",
      " ['1090000008.784827' 692 306541642801461248]] [   2111062576990160    2251816625632462 2310621644875743392 ...\n",
      " 2310621369997979808  288230376151738368  306541642801461248]\n"
     ]
    }
   ],
   "source": [
    "X = res.iloc[:, :3].values\n",
    "y = res.iloc[:, 2].values\n",
    "print(X,y)"
   ]
  },
  {
   "cell_type": "code",
   "execution_count": 16,
   "id": "08503ec8",
   "metadata": {},
   "outputs": [],
   "source": [
    "from sklearn import metrics\n",
    "from sklearn.metrics import accuracy_score\n",
    "from sklearn.ensemble import RandomForestClassifier\n",
    "from sklearn.ensemble import RandomForestClassifier\n",
    "from sklearn.neighbors import KNeighborsClassifier\n",
    "from sklearn.tree import DecisionTreeClassifier\n",
    "from sklearn.model_selection import GridSearchCV\n",
    "from sklearn.metrics import confusion_matrix, classification_report\n",
    "from sklearn.model_selection import train_test_split\n",
    "X_train, X_test, y_train, y_test = train_test_split(X, y, test_size = 0.3, random_state = 0)"
   ]
  },
  {
   "cell_type": "markdown",
   "id": "fb8ded57",
   "metadata": {},
   "source": [
    "# Without hyperperameter tunning"
   ]
  },
  {
   "cell_type": "code",
   "execution_count": 17,
   "id": "cbec1d66",
   "metadata": {},
   "outputs": [
    {
     "name": "stdout",
     "output_type": "stream",
     "text": [
      "Accuracy From Random Forest:  0.5763492063492064\n"
     ]
    }
   ],
   "source": [
    "from sklearn import metrics\n",
    "model= RandomForestClassifier()\n",
    "model.fit(X_train,y_train)\n",
    "prediction=model.predict(X_test)\n",
    "print('Accuracy From Random Forest: ', accuracy_score(y_test, prediction))\n"
   ]
  },
  {
   "cell_type": "code",
   "execution_count": 18,
   "id": "26a98d30",
   "metadata": {},
   "outputs": [
    {
     "name": "stdout",
     "output_type": "stream",
     "text": [
      "Accuracy From KNN:  0.7677777777777778\n"
     ]
    }
   ],
   "source": [
    "knn1 = KNeighborsClassifier(n_neighbors=1)\n",
    "knn1.fit(X_train, y_train)\n",
    "\n",
    "prediction=knn1.predict(X_test)\n",
    "\n",
    "print('Accuracy From KNN: ', accuracy_score(y_test, prediction))\n",
    "\n"
   ]
  },
  {
   "cell_type": "code",
   "execution_count": 22,
   "id": "6d1f851d",
   "metadata": {},
   "outputs": [
    {
     "name": "stdout",
     "output_type": "stream",
     "text": [
      "Accuracy DEcision Tree:  0.5774603174603175\n"
     ]
    }
   ],
   "source": [
    "DT = DecisionTreeClassifier()\n",
    "DT.fit(X_train, y_train)\n",
    "prediction=DT.predict(X_test)\n",
    "print('Accuracy DEcision Tree: ', accuracy_score(y_test, prediction))  \n",
    "\n",
    "\n"
   ]
  },
  {
   "cell_type": "code",
   "execution_count": 19,
   "id": "5ae6dcfb",
   "metadata": {},
   "outputs": [],
   "source": [
    "import warnings\n",
    "warnings.filterwarnings('ignore')\n",
    "from sklearn.preprocessing import StandardScaler\n",
    "from sklearn.model_selection import cross_val_score"
   ]
  },
  {
   "cell_type": "markdown",
   "id": "285488bf",
   "metadata": {},
   "source": [
    "# Hyperperameter tunning"
   ]
  },
  {
   "cell_type": "code",
   "execution_count": 20,
   "id": "25779496",
   "metadata": {},
   "outputs": [
    {
     "name": "stdout",
     "output_type": "stream",
     "text": [
      "All Accuracies:  [0.77428571 0.78285714 0.79428571 0.77714286 0.79047619 0.7752381\n",
      " 0.7847619  0.80380952 0.80666667 0.79428571 0.79047619 0.77142857\n",
      " 0.78571429 0.79142857 0.79428571 0.78666667 0.78666667 0.77142857\n",
      " 0.77809524 0.75714286] \n",
      "\n",
      "Mean of all Accuracies:  0.7848571428571429 \n",
      "\n",
      "Standard Deviation:  0.011526957460636337\n"
     ]
    },
    {
     "data": {
      "text/plain": [
       "Text(0, 0.5, 'Cross-Validated Accuracy')"
      ]
     },
     "execution_count": 20,
     "metadata": {},
     "output_type": "execute_result"
    },
    {
     "data": {
      "image/png": "[encoded data removed]",
      "text/plain": [
       "<Figure size 432x288 with 1 Axes>"
      ]
     },
     "metadata": {
      "needs_background": "light"
     },
     "output_type": "display_data"
    }
   ],
   "source": [
    "knn = KNeighborsClassifier(n_neighbors=1)\n",
    "\n",
    "scores = cross_val_score(knn, X, y, cv=20, scoring='accuracy')\n",
    "print('All Accuracies: ', scores, '\\n')\n",
    "\n",
    "print('Mean of all Accuracies: ', scores.mean(), '\\n')\n",
    "print('Standard Deviation: ', scores.std())\n",
    "\n",
    "plt.plot(scores)\n",
    "plt.xlabel('Value of K for KNN For Max Engine Coolant Attack')\n",
    "plt.ylabel('Cross-Validated Accuracy')\n"
   ]
  },
  {
   "cell_type": "code",
   "execution_count": 21,
   "id": "eceb3ed6",
   "metadata": {},
   "outputs": [
    {
     "name": "stdout",
     "output_type": "stream",
     "text": [
      "All Accuracies:  [0.67619048 0.68666667 0.6952381  0.69619048 0.72       0.70761905\n",
      " 0.70761905 0.70571429 0.69904762 0.70095238 0.69142857 0.69809524\n",
      " 0.6847619  0.67904762 0.68380952 0.6847619  0.68952381 0.66857143\n",
      " 0.68095238 0.66761905] \n",
      "\n",
      "Mean of all Accuracies:  0.6911904761904761 \n",
      "\n",
      "Standard Deviation:  0.013288615487976965\n"
     ]
    },
    {
     "data": {
      "text/plain": [
       "Text(0, 0.5, 'Cross-Validated Accuracy')"
      ]
     },
     "execution_count": 21,
     "metadata": {},
     "output_type": "execute_result"
    },
    {
     "data": {
      "image/png": "[encoded data removed]",
      "text/plain": [
       "<Figure size 432x288 with 1 Axes>"
      ]
     },
     "metadata": {
      "needs_background": "light"
     },
     "output_type": "display_data"
    }
   ],
   "source": [
    "knn = KNeighborsClassifier(n_neighbors=10)\n",
    "\n",
    "scores = cross_val_score(knn, X, y, cv=20, scoring='accuracy')\n",
    "print('All Accuracies: ', scores, '\\n')\n",
    "\n",
    "print('Mean of all Accuracies: ', scores.mean(), '\\n')\n",
    "print('Standard Deviation: ', scores.std())\n",
    "\n",
    "plt.plot(scores)\n",
    "plt.xlabel('Value of K for KNN For Max Engine Coolant Attack')\n",
    "plt.ylabel('Cross-Validated Accuracy')\n"
   ]
  },
  {
   "cell_type": "markdown",
   "id": "f2b4ced6",
   "metadata": {},
   "source": [
    "# Decision Tree"
   ]
  },
  {
   "cell_type": "code",
   "execution_count": 23,
   "id": "a9f8aabd",
   "metadata": {},
   "outputs": [
    {
     "name": "stdout",
     "output_type": "stream",
     "text": [
      "All Accuracies:  [0.58231293 0.59863946 0.6        0.59047619 0.59863946 0.59047619\n",
      " 0.59591837 0.6        0.58095238 0.59591837 0.59047619 0.58231293\n",
      " 0.60544218 0.61904762 0.58367347 0.57687075 0.59727891 0.58911565\n",
      " 0.58231293 0.58639456] \n",
      "\n",
      "Mean of all Accuracies:  0.5923129251700681 \n",
      "\n",
      "Standard Deviation:  0.009832462071115974\n"
     ]
    },
    {
     "data": {
      "text/plain": [
       "Text(0, 0.5, 'Cross-Validated Accuracy')"
      ]
     },
     "execution_count": 23,
     "metadata": {},
     "output_type": "execute_result"
    },
    {
     "data": {
      "image/png": "[encoded data removed]",
      "text/plain": [
       "<Figure size 432x288 with 1 Axes>"
      ]
     },
     "metadata": {
      "needs_background": "light"
     },
     "output_type": "display_data"
    }
   ],
   "source": [
    "feature_scaler = StandardScaler()\n",
    "X_train = feature_scaler.fit_transform(X_train)\n",
    "X_test = feature_scaler.transform(X_test)\n",
    "\n",
    "classifier = DecisionTreeClassifier(criterion =\"entropy\", splitter =\"random\", max_depth =5,  min_samples_split =5,\n",
    "                              min_samples_leaf =2, max_features =2)\n",
    "\n",
    "all_accuracies = cross_val_score(estimator=DT, X=X_train, y=y_train, cv=20)\n",
    "\n",
    "print('All Accuracies: ', all_accuracies, '\\n')\n",
    "\n",
    "print('Mean of all Accuracies: ', all_accuracies.mean(), '\\n')\n",
    "print('Standard Deviation: ', all_accuracies.std())\n",
    "\n",
    "plt.plot(all_accuracies)\n",
    "plt.xlabel('Values Of DT For Max Engine Coolant Attack')\n",
    "plt.ylabel('Cross-Validated Accuracy')\n"
   ]
  },
  {
   "cell_type": "markdown",
   "id": "45966caf",
   "metadata": {},
   "source": [
    "# Random Forest"
   ]
  },
  {
   "cell_type": "code",
   "execution_count": 24,
   "id": "8ca4f716",
   "metadata": {},
   "outputs": [
    {
     "name": "stdout",
     "output_type": "stream",
     "text": [
      "All Accuracies:  [0.41632653 0.40952381 0.45034014 0.37823129 0.42993197 0.41360544\n",
      " 0.46394558 0.39863946 0.42585034 0.44353741 0.40816327 0.40680272\n",
      " 0.41632653 0.44761905 0.37959184 0.40408163 0.39863946 0.42040816\n",
      " 0.45306122 0.38231293] \n",
      "\n",
      "Mean of all Accuracies:  0.41734693877551016 \n",
      "\n",
      "Standard Deviation:  0.02419656267407437\n"
     ]
    },
    {
     "data": {
      "text/plain": [
       "Text(0, 0.5, 'Cross-Validated Accuracy')"
      ]
     },
     "execution_count": 24,
     "metadata": {},
     "output_type": "execute_result"
    },
    {
     "data": {
      "image/png": "[encoded data removed]",
      "text/plain": [
       "<Figure size 432x288 with 1 Axes>"
      ]
     },
     "metadata": {
      "needs_background": "light"
     },
     "output_type": "display_data"
    }
   ],
   "source": [
    "feature_scaler = StandardScaler()\n",
    "X_train = feature_scaler.fit_transform(X_train)\n",
    "X_test = feature_scaler.transform(X_test)\n",
    "\n",
    "classifier = RandomForestClassifier(n_estimators=2, random_state=0)\n",
    "\n",
    "all_accuracies = cross_val_score(estimator=classifier, X=X_train, y=y_train, cv=20)\n",
    "\n",
    "print('All Accuracies: ', all_accuracies, '\\n')\n",
    "\n",
    "print('Mean of all Accuracies: ', all_accuracies.mean(), '\\n')\n",
    "print('Standard Deviation: ', all_accuracies.std())\n",
    "\n",
    "plt.plot(all_accuracies)\n",
    "plt.xlabel('Values Of Rf For Max Engine Coolant Attack')\n",
    "plt.ylabel('Cross-Validated Accuracy')\n"
   ]
  },
  {
   "cell_type": "code",
   "execution_count": 1,
   "id": "6aa78df4",
   "metadata": {},
   "outputs": [],
   "source": [
    "from sklearn import metrics\n",
    "from sklearn import svm\n",
    "from sklearn.svm import SVC\n",
    "from sklearn.metrics import accuracy_score\n",
    "\n",
    "\n",
    "\n"
   ]
  },
  {
   "cell_type": "code",
   "execution_count": null,
   "id": "9d69e1cb",
   "metadata": {},
   "outputs": [],
   "source": [
    "#svm_m=SVC()\n",
    "#svm_m.fit(X_train,y_train)\n",
    "#prediction=svm_m.predict(X_test)\n",
    "#print('Accuracy: ', accuracy_score(y_test, prediction), '\\n')\n",
    "\n"
   ]
  },
  {
   "cell_type": "code",
   "execution_count": null,
   "id": "6928f3f3",
   "metadata": {},
   "outputs": [],
   "source": []
  }
 ],
 "metadata": {
  "kernelspec": {
   "display_name": "Python 3",
   "language": "python",
   "name": "python3"
  },
  "language_info": {
   "codemirror_mode": {
    "name": "ipython",
    "version": 3
   },
   "file_extension": ".py",
   "mimetype": "text/x-python",
   "name": "python",
   "nbconvert_exporter": "python",
   "pygments_lexer": "ipython3",
   "version": "3.8.8"
  }
 },
 "nbformat": 4,
 "nbformat_minor": 5
}
