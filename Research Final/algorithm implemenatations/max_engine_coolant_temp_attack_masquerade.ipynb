{
 "cells": [
  {
   "cell_type": "code",
   "execution_count": 1,
   "id": "2b2e7194",
   "metadata": {},
   "outputs": [],
   "source": [
    "import numpy as np\n",
    "import pandas as pd"
   ]
  },
  {
   "cell_type": "markdown",
   "id": "f8296d7f",
   "metadata": {},
   "source": [
    "# Loading DataSet"
   ]
  },
  {
   "cell_type": "code",
   "execution_count": 2,
   "id": "73882076",
   "metadata": {},
   "outputs": [
    {
     "data": {
      "text/html": [
       "<div>\n",
       "<style scoped>\n",
       "    .dataframe tbody tr th:only-of-type {\n",
       "        vertical-align: middle;\n",
       "    }\n",
       "\n",
       "    .dataframe tbody tr th {\n",
       "        vertical-align: top;\n",
       "    }\n",
       "\n",
       "    .dataframe thead th {\n",
       "        text-align: right;\n",
       "    }\n",
       "</style>\n",
       "<table border=\"1\" class=\"dataframe\">\n",
       "  <thead>\n",
       "    <tr style=\"text-align: right;\">\n",
       "      <th></th>\n",
       "      <th>(1100000000.000000) can0 033#000780000F0007D0</th>\n",
       "    </tr>\n",
       "  </thead>\n",
       "  <tbody>\n",
       "    <tr>\n",
       "      <th>0</th>\n",
       "      <td>(1100000000.000001) can0 162#00080003EA11F4CE</td>\n",
       "    </tr>\n",
       "    <tr>\n",
       "      <th>1</th>\n",
       "      <td>(1100000000.000002) can0 0A7#2010FA24D125C0A0</td>\n",
       "    </tr>\n",
       "    <tr>\n",
       "      <th>2</th>\n",
       "      <td>(1100000000.000997) can0 32D#00000424CC010000</td>\n",
       "    </tr>\n",
       "    <tr>\n",
       "      <th>3</th>\n",
       "      <td>(1100000000.002018) can0 576#7FF800003FFC1FC0</td>\n",
       "    </tr>\n",
       "    <tr>\n",
       "      <th>4</th>\n",
       "      <td>(1100000000.005084) can0 193#00080803E6E80000</td>\n",
       "    </tr>\n",
       "  </tbody>\n",
       "</table>\n",
       "</div>"
      ],
      "text/plain": [
       "   (1100000000.000000) can0 033#000780000F0007D0\n",
       "0  (1100000000.000001) can0 162#00080003EA11F4CE\n",
       "1  (1100000000.000002) can0 0A7#2010FA24D125C0A0\n",
       "2  (1100000000.000997) can0 32D#00000424CC010000\n",
       "3  (1100000000.002018) can0 576#7FF800003FFC1FC0\n",
       "4  (1100000000.005084) can0 193#00080803E6E80000"
      ]
     },
     "execution_count": 2,
     "metadata": {},
     "output_type": "execute_result"
    }
   ],
   "source": [
    "df=pd.read_csv('D:/Research Work/road/attacks/max_engine_coolant_temp_attack_masquerade.log')\n",
    "df.head()"
   ]
  },
  {
   "cell_type": "markdown",
   "id": "3bbe1f58",
   "metadata": {},
   "source": [
    "# Converting the data into different column"
   ]
  },
  {
   "cell_type": "code",
   "execution_count": 3,
   "id": "43adfb37",
   "metadata": {},
   "outputs": [
    {
     "data": {
      "text/html": [
       "<div>\n",
       "<style scoped>\n",
       "    .dataframe tbody tr th:only-of-type {\n",
       "        vertical-align: middle;\n",
       "    }\n",
       "\n",
       "    .dataframe tbody tr th {\n",
       "        vertical-align: top;\n",
       "    }\n",
       "\n",
       "    .dataframe thead th {\n",
       "        text-align: right;\n",
       "    }\n",
       "</style>\n",
       "<table border=\"1\" class=\"dataframe\">\n",
       "  <thead>\n",
       "    <tr style=\"text-align: right;\">\n",
       "      <th></th>\n",
       "      <th>Unix Timestamp</th>\n",
       "      <th>Channel</th>\n",
       "      <th>IDHexandDataFeild</th>\n",
       "    </tr>\n",
       "  </thead>\n",
       "  <tbody>\n",
       "    <tr>\n",
       "      <th>0</th>\n",
       "      <td>1100000000.000000</td>\n",
       "      <td>can0</td>\n",
       "      <td>033#000780000F0007D0</td>\n",
       "    </tr>\n",
       "    <tr>\n",
       "      <th>1</th>\n",
       "      <td>1100000000.000001</td>\n",
       "      <td>can0</td>\n",
       "      <td>162#00080003EA11F4CE</td>\n",
       "    </tr>\n",
       "    <tr>\n",
       "      <th>2</th>\n",
       "      <td>1100000000.000002</td>\n",
       "      <td>can0</td>\n",
       "      <td>0A7#2010FA24D125C0A0</td>\n",
       "    </tr>\n",
       "    <tr>\n",
       "      <th>3</th>\n",
       "      <td>1100000000.000997</td>\n",
       "      <td>can0</td>\n",
       "      <td>32D#00000424CC010000</td>\n",
       "    </tr>\n",
       "    <tr>\n",
       "      <th>4</th>\n",
       "      <td>1100000000.002018</td>\n",
       "      <td>can0</td>\n",
       "      <td>576#7FF800003FFC1FC0</td>\n",
       "    </tr>\n",
       "    <tr>\n",
       "      <th>...</th>\n",
       "      <td>...</td>\n",
       "      <td>...</td>\n",
       "      <td>...</td>\n",
       "    </tr>\n",
       "    <tr>\n",
       "      <th>61876</th>\n",
       "      <td>1100000025.873534</td>\n",
       "      <td>can0</td>\n",
       "      <td>FFF#0000000000000000</td>\n",
       "    </tr>\n",
       "    <tr>\n",
       "      <th>61877</th>\n",
       "      <td>1100000025.873535</td>\n",
       "      <td>can0</td>\n",
       "      <td>3E4#0134000005000000</td>\n",
       "    </tr>\n",
       "    <tr>\n",
       "      <th>61878</th>\n",
       "      <td>1100000025.873536</td>\n",
       "      <td>can0</td>\n",
       "      <td>65C#4011D26750000000</td>\n",
       "    </tr>\n",
       "    <tr>\n",
       "      <th>61879</th>\n",
       "      <td>1100000025.874552</td>\n",
       "      <td>can0</td>\n",
       "      <td>577#0000080000000146</td>\n",
       "    </tr>\n",
       "    <tr>\n",
       "      <th>61880</th>\n",
       "      <td>1100000025.875548</td>\n",
       "      <td>can0</td>\n",
       "      <td>6E0#01BE01BC01C001C0</td>\n",
       "    </tr>\n",
       "  </tbody>\n",
       "</table>\n",
       "<p>61881 rows × 3 columns</p>\n",
       "</div>"
      ],
      "text/plain": [
       "          Unix Timestamp Channel     IDHexandDataFeild\n",
       "0      1100000000.000000    can0  033#000780000F0007D0\n",
       "1      1100000000.000001    can0  162#00080003EA11F4CE\n",
       "2      1100000000.000002    can0  0A7#2010FA24D125C0A0\n",
       "3      1100000000.000997    can0  32D#00000424CC010000\n",
       "4      1100000000.002018    can0  576#7FF800003FFC1FC0\n",
       "...                  ...     ...                   ...\n",
       "61876  1100000025.873534    can0  FFF#0000000000000000\n",
       "61877  1100000025.873535    can0  3E4#0134000005000000\n",
       "61878  1100000025.873536    can0  65C#4011D26750000000\n",
       "61879  1100000025.874552    can0  577#0000080000000146\n",
       "61880  1100000025.875548    can0  6E0#01BE01BC01C001C0\n",
       "\n",
       "[61881 rows x 3 columns]"
      ]
     },
     "execution_count": 3,
     "metadata": {},
     "output_type": "execute_result"
    }
   ],
   "source": [
    "log_data  = open('D:/Research Work/road/attacks/max_engine_coolant_temp_attack_masquerade.log', 'r')\n",
    "split_list = []\n",
    "\n",
    "for line in log_data:\n",
    "    thing1 = line.split(' ')\n",
    "    time = thing1[0][1:18]\n",
    "    idd = thing1[1][:4]\n",
    "    message = thing1[2][:20]\n",
    "    \n",
    "\n",
    "    split_list.append([time, idd, message])\n",
    "\n",
    "df1 = pd.DataFrame(split_list, columns=['Unix Timestamp', 'Channel', 'IDHexandDataFeild'])\n",
    "#df1['Message'].map(str.strip)\n",
    "df1"
   ]
  },
  {
   "cell_type": "markdown",
   "id": "d8d66844",
   "metadata": {},
   "source": [
    "# Spliting DataFrame and  Idhex"
   ]
  },
  {
   "cell_type": "code",
   "execution_count": 4,
   "id": "e7dd2630",
   "metadata": {},
   "outputs": [
    {
     "data": {
      "text/html": [
       "<div>\n",
       "<style scoped>\n",
       "    .dataframe tbody tr th:only-of-type {\n",
       "        vertical-align: middle;\n",
       "    }\n",
       "\n",
       "    .dataframe tbody tr th {\n",
       "        vertical-align: top;\n",
       "    }\n",
       "\n",
       "    .dataframe thead th {\n",
       "        text-align: right;\n",
       "    }\n",
       "</style>\n",
       "<table border=\"1\" class=\"dataframe\">\n",
       "  <thead>\n",
       "    <tr style=\"text-align: right;\">\n",
       "      <th></th>\n",
       "      <th>IDhex</th>\n",
       "      <th>DataFrame</th>\n",
       "    </tr>\n",
       "  </thead>\n",
       "  <tbody>\n",
       "    <tr>\n",
       "      <th>0</th>\n",
       "      <td>033</td>\n",
       "      <td>000780000F0007D0</td>\n",
       "    </tr>\n",
       "    <tr>\n",
       "      <th>1</th>\n",
       "      <td>162</td>\n",
       "      <td>00080003EA11F4CE</td>\n",
       "    </tr>\n",
       "    <tr>\n",
       "      <th>2</th>\n",
       "      <td>0A7</td>\n",
       "      <td>2010FA24D125C0A0</td>\n",
       "    </tr>\n",
       "    <tr>\n",
       "      <th>3</th>\n",
       "      <td>32D</td>\n",
       "      <td>00000424CC010000</td>\n",
       "    </tr>\n",
       "    <tr>\n",
       "      <th>4</th>\n",
       "      <td>576</td>\n",
       "      <td>7FF800003FFC1FC0</td>\n",
       "    </tr>\n",
       "  </tbody>\n",
       "</table>\n",
       "</div>"
      ],
      "text/plain": [
       "  IDhex         DataFrame\n",
       "0   033  000780000F0007D0\n",
       "1   162  00080003EA11F4CE\n",
       "2   0A7  2010FA24D125C0A0\n",
       "3   32D  00000424CC010000\n",
       "4   576  7FF800003FFC1FC0"
      ]
     },
     "execution_count": 4,
     "metadata": {},
     "output_type": "execute_result"
    }
   ],
   "source": [
    "out = pd.DataFrame(df1.IDHexandDataFeild.str.split('#',1).tolist(),columns=['IDhex','DataFrame'])\n",
    "out.head()"
   ]
  },
  {
   "cell_type": "markdown",
   "id": "f6244b25",
   "metadata": {},
   "source": [
    "# gather unixTimestamp and channel in other dataset"
   ]
  },
  {
   "cell_type": "code",
   "execution_count": 5,
   "id": "136186b0",
   "metadata": {},
   "outputs": [
    {
     "data": {
      "text/html": [
       "<div>\n",
       "<style scoped>\n",
       "    .dataframe tbody tr th:only-of-type {\n",
       "        vertical-align: middle;\n",
       "    }\n",
       "\n",
       "    .dataframe tbody tr th {\n",
       "        vertical-align: top;\n",
       "    }\n",
       "\n",
       "    .dataframe thead th {\n",
       "        text-align: right;\n",
       "    }\n",
       "</style>\n",
       "<table border=\"1\" class=\"dataframe\">\n",
       "  <thead>\n",
       "    <tr style=\"text-align: right;\">\n",
       "      <th></th>\n",
       "      <th>Unix Timestamp</th>\n",
       "      <th>Channel</th>\n",
       "    </tr>\n",
       "  </thead>\n",
       "  <tbody>\n",
       "    <tr>\n",
       "      <th>0</th>\n",
       "      <td>1100000000.000000</td>\n",
       "      <td>can0</td>\n",
       "    </tr>\n",
       "    <tr>\n",
       "      <th>1</th>\n",
       "      <td>1100000000.000001</td>\n",
       "      <td>can0</td>\n",
       "    </tr>\n",
       "    <tr>\n",
       "      <th>2</th>\n",
       "      <td>1100000000.000002</td>\n",
       "      <td>can0</td>\n",
       "    </tr>\n",
       "    <tr>\n",
       "      <th>3</th>\n",
       "      <td>1100000000.000997</td>\n",
       "      <td>can0</td>\n",
       "    </tr>\n",
       "    <tr>\n",
       "      <th>4</th>\n",
       "      <td>1100000000.002018</td>\n",
       "      <td>can0</td>\n",
       "    </tr>\n",
       "  </tbody>\n",
       "</table>\n",
       "</div>"
      ],
      "text/plain": [
       "      Unix Timestamp Channel\n",
       "0  1100000000.000000    can0\n",
       "1  1100000000.000001    can0\n",
       "2  1100000000.000002    can0\n",
       "3  1100000000.000997    can0\n",
       "4  1100000000.002018    can0"
      ]
     },
     "execution_count": 5,
     "metadata": {},
     "output_type": "execute_result"
    }
   ],
   "source": [
    "df2=df1[['Unix Timestamp', 'Channel']] \n",
    "df2.head()"
   ]
  },
  {
   "cell_type": "markdown",
   "id": "9bec16e5",
   "metadata": {},
   "source": [
    "# Converting the IDhex in hexadecimal"
   ]
  },
  {
   "cell_type": "code",
   "execution_count": 6,
   "id": "10f96ce9",
   "metadata": {},
   "outputs": [
    {
     "data": {
      "text/html": [
       "<div>\n",
       "<style scoped>\n",
       "    .dataframe tbody tr th:only-of-type {\n",
       "        vertical-align: middle;\n",
       "    }\n",
       "\n",
       "    .dataframe tbody tr th {\n",
       "        vertical-align: top;\n",
       "    }\n",
       "\n",
       "    .dataframe thead th {\n",
       "        text-align: right;\n",
       "    }\n",
       "</style>\n",
       "<table border=\"1\" class=\"dataframe\">\n",
       "  <thead>\n",
       "    <tr style=\"text-align: right;\">\n",
       "      <th></th>\n",
       "      <th>IDhex</th>\n",
       "      <th>DataFrame</th>\n",
       "    </tr>\n",
       "  </thead>\n",
       "  <tbody>\n",
       "    <tr>\n",
       "      <th>0</th>\n",
       "      <td>51</td>\n",
       "      <td>000780000F0007D0</td>\n",
       "    </tr>\n",
       "    <tr>\n",
       "      <th>1</th>\n",
       "      <td>354</td>\n",
       "      <td>00080003EA11F4CE</td>\n",
       "    </tr>\n",
       "    <tr>\n",
       "      <th>2</th>\n",
       "      <td>167</td>\n",
       "      <td>2010FA24D125C0A0</td>\n",
       "    </tr>\n",
       "    <tr>\n",
       "      <th>3</th>\n",
       "      <td>813</td>\n",
       "      <td>00000424CC010000</td>\n",
       "    </tr>\n",
       "    <tr>\n",
       "      <th>4</th>\n",
       "      <td>1398</td>\n",
       "      <td>7FF800003FFC1FC0</td>\n",
       "    </tr>\n",
       "    <tr>\n",
       "      <th>...</th>\n",
       "      <td>...</td>\n",
       "      <td>...</td>\n",
       "    </tr>\n",
       "    <tr>\n",
       "      <th>61876</th>\n",
       "      <td>4095</td>\n",
       "      <td>0000000000000000</td>\n",
       "    </tr>\n",
       "    <tr>\n",
       "      <th>61877</th>\n",
       "      <td>996</td>\n",
       "      <td>0134000005000000</td>\n",
       "    </tr>\n",
       "    <tr>\n",
       "      <th>61878</th>\n",
       "      <td>1628</td>\n",
       "      <td>4011D26750000000</td>\n",
       "    </tr>\n",
       "    <tr>\n",
       "      <th>61879</th>\n",
       "      <td>1399</td>\n",
       "      <td>0000080000000146</td>\n",
       "    </tr>\n",
       "    <tr>\n",
       "      <th>61880</th>\n",
       "      <td>1760</td>\n",
       "      <td>01BE01BC01C001C0</td>\n",
       "    </tr>\n",
       "  </tbody>\n",
       "</table>\n",
       "<p>61881 rows × 2 columns</p>\n",
       "</div>"
      ],
      "text/plain": [
       "       IDhex         DataFrame\n",
       "0         51  000780000F0007D0\n",
       "1        354  00080003EA11F4CE\n",
       "2        167  2010FA24D125C0A0\n",
       "3        813  00000424CC010000\n",
       "4       1398  7FF800003FFC1FC0\n",
       "...      ...               ...\n",
       "61876   4095  0000000000000000\n",
       "61877    996  0134000005000000\n",
       "61878   1628  4011D26750000000\n",
       "61879   1399  0000080000000146\n",
       "61880   1760  01BE01BC01C001C0\n",
       "\n",
       "[61881 rows x 2 columns]"
      ]
     },
     "execution_count": 6,
     "metadata": {},
     "output_type": "execute_result"
    }
   ],
   "source": [
    "out['IDhex'] = out['IDhex'].apply(lambda x: int(x,16))\n",
    "out"
   ]
  },
  {
   "cell_type": "markdown",
   "id": "359d00be",
   "metadata": {},
   "source": [
    "# COnverting DataFrame in decimal "
   ]
  },
  {
   "cell_type": "code",
   "execution_count": 7,
   "id": "9495af60",
   "metadata": {},
   "outputs": [
    {
     "data": {
      "text/html": [
       "<div>\n",
       "<style scoped>\n",
       "    .dataframe tbody tr th:only-of-type {\n",
       "        vertical-align: middle;\n",
       "    }\n",
       "\n",
       "    .dataframe tbody tr th {\n",
       "        vertical-align: top;\n",
       "    }\n",
       "\n",
       "    .dataframe thead th {\n",
       "        text-align: right;\n",
       "    }\n",
       "</style>\n",
       "<table border=\"1\" class=\"dataframe\">\n",
       "  <thead>\n",
       "    <tr style=\"text-align: right;\">\n",
       "      <th></th>\n",
       "      <th>IDhex</th>\n",
       "      <th>DataFrame</th>\n",
       "    </tr>\n",
       "  </thead>\n",
       "  <tbody>\n",
       "    <tr>\n",
       "      <th>0</th>\n",
       "      <td>51</td>\n",
       "      <td>2111062576990160</td>\n",
       "    </tr>\n",
       "    <tr>\n",
       "      <th>1</th>\n",
       "      <td>354</td>\n",
       "      <td>2251816625632462</td>\n",
       "    </tr>\n",
       "    <tr>\n",
       "      <th>2</th>\n",
       "      <td>167</td>\n",
       "      <td>2310621644875743392</td>\n",
       "    </tr>\n",
       "    <tr>\n",
       "      <th>3</th>\n",
       "      <td>813</td>\n",
       "      <td>4556087951360</td>\n",
       "    </tr>\n",
       "    <tr>\n",
       "      <th>4</th>\n",
       "      <td>1398</td>\n",
       "      <td>9221120238114578368</td>\n",
       "    </tr>\n",
       "    <tr>\n",
       "      <th>...</th>\n",
       "      <td>...</td>\n",
       "      <td>...</td>\n",
       "    </tr>\n",
       "    <tr>\n",
       "      <th>61876</th>\n",
       "      <td>4095</td>\n",
       "      <td>0</td>\n",
       "    </tr>\n",
       "    <tr>\n",
       "      <th>61877</th>\n",
       "      <td>996</td>\n",
       "      <td>86694292910768128</td>\n",
       "    </tr>\n",
       "    <tr>\n",
       "      <th>61878</th>\n",
       "      <td>1628</td>\n",
       "      <td>4616702434197110784</td>\n",
       "    </tr>\n",
       "    <tr>\n",
       "      <th>61879</th>\n",
       "      <td>1399</td>\n",
       "      <td>8796093022534</td>\n",
       "    </tr>\n",
       "    <tr>\n",
       "      <th>61880</th>\n",
       "      <td>1760</td>\n",
       "      <td>125539746607792576</td>\n",
       "    </tr>\n",
       "  </tbody>\n",
       "</table>\n",
       "<p>61881 rows × 2 columns</p>\n",
       "</div>"
      ],
      "text/plain": [
       "       IDhex            DataFrame\n",
       "0         51     2111062576990160\n",
       "1        354     2251816625632462\n",
       "2        167  2310621644875743392\n",
       "3        813        4556087951360\n",
       "4       1398  9221120238114578368\n",
       "...      ...                  ...\n",
       "61876   4095                    0\n",
       "61877    996    86694292910768128\n",
       "61878   1628  4616702434197110784\n",
       "61879   1399        8796093022534\n",
       "61880   1760   125539746607792576\n",
       "\n",
       "[61881 rows x 2 columns]"
      ]
     },
     "execution_count": 7,
     "metadata": {},
     "output_type": "execute_result"
    }
   ],
   "source": [
    "out['DataFrame'] = out['DataFrame'].apply(lambda x: int(x,16))\n",
    "out"
   ]
  },
  {
   "cell_type": "markdown",
   "id": "08004900",
   "metadata": {},
   "source": [
    "# Now gathering these two columns data which we convert in decimal"
   ]
  },
  {
   "cell_type": "code",
   "execution_count": 8,
   "id": "b947133d",
   "metadata": {},
   "outputs": [
    {
     "data": {
      "text/html": [
       "<div>\n",
       "<style scoped>\n",
       "    .dataframe tbody tr th:only-of-type {\n",
       "        vertical-align: middle;\n",
       "    }\n",
       "\n",
       "    .dataframe tbody tr th {\n",
       "        vertical-align: top;\n",
       "    }\n",
       "\n",
       "    .dataframe thead th {\n",
       "        text-align: right;\n",
       "    }\n",
       "</style>\n",
       "<table border=\"1\" class=\"dataframe\">\n",
       "  <thead>\n",
       "    <tr style=\"text-align: right;\">\n",
       "      <th></th>\n",
       "      <th>Unix Timestamp</th>\n",
       "      <th>Channel</th>\n",
       "      <th>IDhex</th>\n",
       "      <th>DataFrame</th>\n",
       "    </tr>\n",
       "  </thead>\n",
       "  <tbody>\n",
       "    <tr>\n",
       "      <th>0</th>\n",
       "      <td>1100000000.000000</td>\n",
       "      <td>can0</td>\n",
       "      <td>51</td>\n",
       "      <td>2111062576990160</td>\n",
       "    </tr>\n",
       "    <tr>\n",
       "      <th>1</th>\n",
       "      <td>1100000000.000001</td>\n",
       "      <td>can0</td>\n",
       "      <td>354</td>\n",
       "      <td>2251816625632462</td>\n",
       "    </tr>\n",
       "    <tr>\n",
       "      <th>2</th>\n",
       "      <td>1100000000.000002</td>\n",
       "      <td>can0</td>\n",
       "      <td>167</td>\n",
       "      <td>2310621644875743392</td>\n",
       "    </tr>\n",
       "    <tr>\n",
       "      <th>3</th>\n",
       "      <td>1100000000.000997</td>\n",
       "      <td>can0</td>\n",
       "      <td>813</td>\n",
       "      <td>4556087951360</td>\n",
       "    </tr>\n",
       "    <tr>\n",
       "      <th>4</th>\n",
       "      <td>1100000000.002018</td>\n",
       "      <td>can0</td>\n",
       "      <td>1398</td>\n",
       "      <td>9221120238114578368</td>\n",
       "    </tr>\n",
       "  </tbody>\n",
       "</table>\n",
       "</div>"
      ],
      "text/plain": [
       "      Unix Timestamp Channel  IDhex            DataFrame\n",
       "0  1100000000.000000    can0     51     2111062576990160\n",
       "1  1100000000.000001    can0    354     2251816625632462\n",
       "2  1100000000.000002    can0    167  2310621644875743392\n",
       "3  1100000000.000997    can0    813        4556087951360\n",
       "4  1100000000.002018    can0   1398  9221120238114578368"
      ]
     },
     "execution_count": 8,
     "metadata": {},
     "output_type": "execute_result"
    }
   ],
   "source": [
    "frames=[df2,out]\n",
    "result=pd.concat(frames ,axis=1)\n",
    "result.head()"
   ]
  },
  {
   "cell_type": "markdown",
   "id": "35a0366d",
   "metadata": {},
   "source": [
    "# saving the data into speedometer.csv "
   ]
  },
  {
   "cell_type": "code",
   "execution_count": 9,
   "id": "1f02ccca",
   "metadata": {},
   "outputs": [],
   "source": [
    "#here i have saved my data which i have splitted and  converted in decimal \n",
    "save=result.to_csv(\"D:/Research Work/road/extractedfrompython/speedometer.csv\")"
   ]
  },
  {
   "cell_type": "code",
   "execution_count": 10,
   "id": "aea130e9",
   "metadata": {},
   "outputs": [
    {
     "data": {
      "text/plain": [
       "(61881, 4)"
      ]
     },
     "execution_count": 10,
     "metadata": {},
     "output_type": "execute_result"
    }
   ],
   "source": [
    "result.shape"
   ]
  },
  {
   "cell_type": "markdown",
   "id": "ad57b284",
   "metadata": {},
   "source": [
    "# Droping channel column becasue we have same data in channel column"
   ]
  },
  {
   "cell_type": "code",
   "execution_count": 11,
   "id": "f80883ae",
   "metadata": {},
   "outputs": [
    {
     "data": {
      "text/html": [
       "<div>\n",
       "<style scoped>\n",
       "    .dataframe tbody tr th:only-of-type {\n",
       "        vertical-align: middle;\n",
       "    }\n",
       "\n",
       "    .dataframe tbody tr th {\n",
       "        vertical-align: top;\n",
       "    }\n",
       "\n",
       "    .dataframe thead th {\n",
       "        text-align: right;\n",
       "    }\n",
       "</style>\n",
       "<table border=\"1\" class=\"dataframe\">\n",
       "  <thead>\n",
       "    <tr style=\"text-align: right;\">\n",
       "      <th></th>\n",
       "      <th>Unix Timestamp</th>\n",
       "      <th>IDhex</th>\n",
       "      <th>DataFrame</th>\n",
       "    </tr>\n",
       "  </thead>\n",
       "  <tbody>\n",
       "    <tr>\n",
       "      <th>0</th>\n",
       "      <td>1100000000.000000</td>\n",
       "      <td>51</td>\n",
       "      <td>2111062576990160</td>\n",
       "    </tr>\n",
       "    <tr>\n",
       "      <th>1</th>\n",
       "      <td>1100000000.000001</td>\n",
       "      <td>354</td>\n",
       "      <td>2251816625632462</td>\n",
       "    </tr>\n",
       "    <tr>\n",
       "      <th>2</th>\n",
       "      <td>1100000000.000002</td>\n",
       "      <td>167</td>\n",
       "      <td>2310621644875743392</td>\n",
       "    </tr>\n",
       "    <tr>\n",
       "      <th>3</th>\n",
       "      <td>1100000000.000997</td>\n",
       "      <td>813</td>\n",
       "      <td>4556087951360</td>\n",
       "    </tr>\n",
       "    <tr>\n",
       "      <th>4</th>\n",
       "      <td>1100000000.002018</td>\n",
       "      <td>1398</td>\n",
       "      <td>9221120238114578368</td>\n",
       "    </tr>\n",
       "    <tr>\n",
       "      <th>...</th>\n",
       "      <td>...</td>\n",
       "      <td>...</td>\n",
       "      <td>...</td>\n",
       "    </tr>\n",
       "    <tr>\n",
       "      <th>61876</th>\n",
       "      <td>1100000025.873534</td>\n",
       "      <td>4095</td>\n",
       "      <td>0</td>\n",
       "    </tr>\n",
       "    <tr>\n",
       "      <th>61877</th>\n",
       "      <td>1100000025.873535</td>\n",
       "      <td>996</td>\n",
       "      <td>86694292910768128</td>\n",
       "    </tr>\n",
       "    <tr>\n",
       "      <th>61878</th>\n",
       "      <td>1100000025.873536</td>\n",
       "      <td>1628</td>\n",
       "      <td>4616702434197110784</td>\n",
       "    </tr>\n",
       "    <tr>\n",
       "      <th>61879</th>\n",
       "      <td>1100000025.874552</td>\n",
       "      <td>1399</td>\n",
       "      <td>8796093022534</td>\n",
       "    </tr>\n",
       "    <tr>\n",
       "      <th>61880</th>\n",
       "      <td>1100000025.875548</td>\n",
       "      <td>1760</td>\n",
       "      <td>125539746607792576</td>\n",
       "    </tr>\n",
       "  </tbody>\n",
       "</table>\n",
       "<p>61881 rows × 3 columns</p>\n",
       "</div>"
      ],
      "text/plain": [
       "          Unix Timestamp  IDhex            DataFrame\n",
       "0      1100000000.000000     51     2111062576990160\n",
       "1      1100000000.000001    354     2251816625632462\n",
       "2      1100000000.000002    167  2310621644875743392\n",
       "3      1100000000.000997    813        4556087951360\n",
       "4      1100000000.002018   1398  9221120238114578368\n",
       "...                  ...    ...                  ...\n",
       "61876  1100000025.873534   4095                    0\n",
       "61877  1100000025.873535    996    86694292910768128\n",
       "61878  1100000025.873536   1628  4616702434197110784\n",
       "61879  1100000025.874552   1399        8796093022534\n",
       "61880  1100000025.875548   1760   125539746607792576\n",
       "\n",
       "[61881 rows x 3 columns]"
      ]
     },
     "execution_count": 11,
     "metadata": {},
     "output_type": "execute_result"
    }
   ],
   "source": [
    "result = result.loc[:, ~result.columns.str.contains('^Channel')]\n",
    "\n",
    "result"
   ]
  },
  {
   "cell_type": "code",
   "execution_count": 12,
   "id": "5c8d74dd",
   "metadata": {},
   "outputs": [],
   "source": [
    "import matplotlib.pyplot as plt\n",
    "import pandas as pd"
   ]
  },
  {
   "cell_type": "markdown",
   "id": "228fe3cf",
   "metadata": {},
   "source": [
    "# dataset is big thats why i'm spliting it into 2 chunks"
   ]
  },
  {
   "cell_type": "code",
   "execution_count": 13,
   "id": "3b1d4914",
   "metadata": {},
   "outputs": [],
   "source": [
    "n =31000  #chunk row size\n",
    "list_df = [result[i:i+n]\n",
    "for i in range(0,result.shape[0],n)]\n"
   ]
  },
  {
   "cell_type": "code",
   "execution_count": 14,
   "id": "3a0a76e3",
   "metadata": {},
   "outputs": [
    {
     "data": {
      "text/html": [
       "<div>\n",
       "<style scoped>\n",
       "    .dataframe tbody tr th:only-of-type {\n",
       "        vertical-align: middle;\n",
       "    }\n",
       "\n",
       "    .dataframe tbody tr th {\n",
       "        vertical-align: top;\n",
       "    }\n",
       "\n",
       "    .dataframe thead th {\n",
       "        text-align: right;\n",
       "    }\n",
       "</style>\n",
       "<table border=\"1\" class=\"dataframe\">\n",
       "  <thead>\n",
       "    <tr style=\"text-align: right;\">\n",
       "      <th></th>\n",
       "      <th>Unix Timestamp</th>\n",
       "      <th>IDhex</th>\n",
       "      <th>DataFrame</th>\n",
       "    </tr>\n",
       "  </thead>\n",
       "  <tbody>\n",
       "    <tr>\n",
       "      <th>31000</th>\n",
       "      <td>1100000012.961368</td>\n",
       "      <td>304</td>\n",
       "      <td>369435906932736</td>\n",
       "    </tr>\n",
       "    <tr>\n",
       "      <th>31001</th>\n",
       "      <td>1100000012.961369</td>\n",
       "      <td>1175</td>\n",
       "      <td>0</td>\n",
       "    </tr>\n",
       "    <tr>\n",
       "      <th>31002</th>\n",
       "      <td>1100000012.965320</td>\n",
       "      <td>403</td>\n",
       "      <td>2260612665573376</td>\n",
       "    </tr>\n",
       "    <tr>\n",
       "      <th>31003</th>\n",
       "      <td>1100000012.966343</td>\n",
       "      <td>526</td>\n",
       "      <td>5629503519946952703</td>\n",
       "    </tr>\n",
       "    <tr>\n",
       "      <th>31004</th>\n",
       "      <td>1100000012.966345</td>\n",
       "      <td>1314</td>\n",
       "      <td>16104819771030119068</td>\n",
       "    </tr>\n",
       "    <tr>\n",
       "      <th>...</th>\n",
       "      <td>...</td>\n",
       "      <td>...</td>\n",
       "      <td>...</td>\n",
       "    </tr>\n",
       "    <tr>\n",
       "      <th>61876</th>\n",
       "      <td>1100000025.873534</td>\n",
       "      <td>4095</td>\n",
       "      <td>0</td>\n",
       "    </tr>\n",
       "    <tr>\n",
       "      <th>61877</th>\n",
       "      <td>1100000025.873535</td>\n",
       "      <td>996</td>\n",
       "      <td>86694292910768128</td>\n",
       "    </tr>\n",
       "    <tr>\n",
       "      <th>61878</th>\n",
       "      <td>1100000025.873536</td>\n",
       "      <td>1628</td>\n",
       "      <td>4616702434197110784</td>\n",
       "    </tr>\n",
       "    <tr>\n",
       "      <th>61879</th>\n",
       "      <td>1100000025.874552</td>\n",
       "      <td>1399</td>\n",
       "      <td>8796093022534</td>\n",
       "    </tr>\n",
       "    <tr>\n",
       "      <th>61880</th>\n",
       "      <td>1100000025.875548</td>\n",
       "      <td>1760</td>\n",
       "      <td>125539746607792576</td>\n",
       "    </tr>\n",
       "  </tbody>\n",
       "</table>\n",
       "<p>30881 rows × 3 columns</p>\n",
       "</div>"
      ],
      "text/plain": [
       "          Unix Timestamp  IDhex             DataFrame\n",
       "31000  1100000012.961368    304       369435906932736\n",
       "31001  1100000012.961369   1175                     0\n",
       "31002  1100000012.965320    403      2260612665573376\n",
       "31003  1100000012.966343    526   5629503519946952703\n",
       "31004  1100000012.966345   1314  16104819771030119068\n",
       "...                  ...    ...                   ...\n",
       "61876  1100000025.873534   4095                     0\n",
       "61877  1100000025.873535    996     86694292910768128\n",
       "61878  1100000025.873536   1628   4616702434197110784\n",
       "61879  1100000025.874552   1399         8796093022534\n",
       "61880  1100000025.875548   1760    125539746607792576\n",
       "\n",
       "[30881 rows x 3 columns]"
      ]
     },
     "execution_count": 14,
     "metadata": {},
     "output_type": "execute_result"
    }
   ],
   "source": [
    "res=list_df[0]\n",
    "res1=list_df[1]\n",
    "res1\n"
   ]
  },
  {
   "cell_type": "markdown",
   "id": "c04d8c41",
   "metadata": {},
   "source": [
    "# seprating dependent and independent variables"
   ]
  },
  {
   "cell_type": "code",
   "execution_count": 15,
   "id": "d028221b",
   "metadata": {},
   "outputs": [
    {
     "name": "stdout",
     "output_type": "stream",
     "text": [
      "[['1100000000.000000' 51 2111062576990160]\n",
      " ['1100000000.000001' 354 2251816625632462]\n",
      " ['1100000000.000002' 167 2310621644875743392]\n",
      " ...\n",
      " ['1100000012.960371' 1072 14152415196484256]\n",
      " ['1100000012.961366' 354 2251954064585934]\n",
      " ['1100000012.961367' 167 2310621644875743392]] [   2111062576990160    2251816625632462 2310621644875743392 ...\n",
      "   14152415196484256    2251954064585934 2310621644875743392]\n"
     ]
    }
   ],
   "source": [
    "X = res.iloc[:, :3].values\n",
    "y = res.iloc[:, 2].values\n",
    "print(X,y)"
   ]
  },
  {
   "cell_type": "markdown",
   "id": "758b5f1f",
   "metadata": {},
   "source": [
    "Now Implemneting all 4 algorithms \n",
    "<br>\n",
    "Decision Tree<br>\n",
    "Random Forest<br>\n",
    "Knn<br>\n",
    "SVm\n",
    "<br>\n",
    "WithOut hyper parameter tunning"
   ]
  },
  {
   "cell_type": "code",
   "execution_count": 16,
   "id": "08503ec8",
   "metadata": {},
   "outputs": [],
   "source": [
    "from sklearn import metrics\n",
    "from sklearn.metrics import accuracy_score\n",
    "from sklearn.ensemble import RandomForestClassifier\n",
    "from sklearn.ensemble import RandomForestClassifier\n",
    "from sklearn.neighbors import KNeighborsClassifier\n",
    "from sklearn.tree import DecisionTreeClassifier\n",
    "from sklearn.model_selection import GridSearchCV\n",
    "from sklearn.metrics import confusion_matrix, classification_report\n",
    "from sklearn.model_selection import train_test_split\n",
    "X_train, X_test, y_train, y_test = train_test_split(X, y, test_size = 0.3, random_state = 0)"
   ]
  },
  {
   "cell_type": "markdown",
   "id": "666e47b0",
   "metadata": {},
   "source": [
    "# Applying Random Forest"
   ]
  },
  {
   "cell_type": "code",
   "execution_count": 17,
   "id": "cbec1d66",
   "metadata": {},
   "outputs": [
    {
     "name": "stdout",
     "output_type": "stream",
     "text": [
      "Accuracy From Random Forest:  0.5880645161290322\n"
     ]
    }
   ],
   "source": [
    "from sklearn import metrics\n",
    "model= RandomForestClassifier()\n",
    "model.fit(X_train,y_train)\n",
    "prediction=model.predict(X_test)\n",
    "print('Accuracy From Random Forest: ', accuracy_score(y_test, prediction))\n"
   ]
  },
  {
   "cell_type": "markdown",
   "id": "fb8ded57",
   "metadata": {},
   "source": [
    "# Applying Decision Tree"
   ]
  },
  {
   "cell_type": "code",
   "execution_count": 19,
   "id": "6d1f851d",
   "metadata": {},
   "outputs": [
    {
     "name": "stdout",
     "output_type": "stream",
     "text": [
      "Accuracy DEcision Tree:  0.589247311827957\n"
     ]
    }
   ],
   "source": [
    "DT = DecisionTreeClassifier()\n",
    "DT.fit(X_train, y_train)\n",
    "prediction=DT.predict(X_test)\n",
    "print('Accuracy DEcision Tree: ', accuracy_score(y_test, prediction))  \n",
    "\n",
    "\n"
   ]
  },
  {
   "cell_type": "markdown",
   "id": "8b4c15dd",
   "metadata": {},
   "source": [
    "# Applying SVM"
   ]
  },
  {
   "cell_type": "code",
   "execution_count": null,
   "id": "6aa78df4",
   "metadata": {},
   "outputs": [],
   "source": [
    "from sklearn import metrics\n",
    "from sklearn import svm\n",
    "from sklearn.svm import SVC\n",
    "from sklearn.metrics import accuracy_score\n",
    "\n",
    "\n",
    "\n"
   ]
  },
  {
   "cell_type": "code",
   "execution_count": 21,
   "id": "9d69e1cb",
   "metadata": {},
   "outputs": [
    {
     "name": "stdout",
     "output_type": "stream",
     "text": [
      "Accuracy:  0.20043010752688173 \n",
      "\n"
     ]
    }
   ],
   "source": [
    "svm_m=SVC()\n",
    "svm_m.fit(X_train,y_train)\n",
    "prediction=svm_m.predict(X_test)\n",
    "print('Accuracy: ', accuracy_score(y_test, prediction), '\\n')\n",
    "\n"
   ]
  },
  {
   "cell_type": "markdown",
   "id": "b157066c",
   "metadata": {},
   "source": [
    "# Applying KNN"
   ]
  },
  {
   "cell_type": "code",
   "execution_count": 46,
   "id": "26a98d30",
   "metadata": {},
   "outputs": [
    {
     "name": "stdout",
     "output_type": "stream",
     "text": [
      "Accuracy From KNN:  0.7851612903225806\n"
     ]
    }
   ],
   "source": [
    "knn1 = KNeighborsClassifier(n_neighbors=1)\n",
    "knn1.fit(X_train, y_train)\n",
    "\n",
    "prediction=knn1.predict(X_test)\n",
    "\n",
    "print('Accuracy From KNN: ', accuracy_score(y_test, prediction))\n",
    "\n"
   ]
  },
  {
   "cell_type": "markdown",
   "id": "df2f8513",
   "metadata": {},
   "source": [
    "# Let's try hyperperameter and check if there is any change in accuracy or not"
   ]
  },
  {
   "cell_type": "markdown",
   "id": "49713e2a",
   "metadata": {},
   "source": [
    "Here we are seeing that only knn is giving better accuarcy among 4 algorithms so let's tune hyper perameter and check either accuarcy is incresing or not"
   ]
  },
  {
   "cell_type": "code",
   "execution_count": 20,
   "id": "5ae6dcfb",
   "metadata": {},
   "outputs": [],
   "source": [
    "import warnings\n",
    "warnings.filterwarnings('ignore')\n",
    "from sklearn.preprocessing import StandardScaler\n",
    "from sklearn.model_selection import cross_val_score"
   ]
  },
  {
   "cell_type": "code",
   "execution_count": 21,
   "id": "c5fd10c9",
   "metadata": {},
   "outputs": [
    {
     "name": "stdout",
     "output_type": "stream",
     "text": [
      "All Accuracies:  [       nan 0.50967742 0.51428571 0.51336406 0.52626728 0.51152074\n",
      " 0.5281106         nan 0.53548387 0.54654378 0.50691244 0.54101382\n",
      "        nan 0.55760369        nan 0.49124424 0.5124424  0.52073733\n",
      " 0.51152074 0.5124424 ] \n",
      "\n",
      "Mean of all Accuracies:  nan \n",
      "\n",
      "Standard Deviation:  nan\n"
     ]
    },
    {
     "data": {
      "text/plain": [
       "Text(0, 0.5, 'Cross-Validated Accuracy')"
      ]
     },
     "execution_count": 21,
     "metadata": {},
     "output_type": "execute_result"
    },
    {
     "data": {
      "image/png": "[encoded data removed]",
      "text/plain": [
       "<Figure size 432x288 with 1 Axes>"
      ]
     },
     "metadata": {
      "needs_background": "light"
     },
     "output_type": "display_data"
    }
   ],
   "source": [
    "feature_scaler = StandardScaler()\n",
    "X_train = feature_scaler.fit_transform(X_train)\n",
    "X_test = feature_scaler.transform(X_test)\n",
    "\n",
    "classifier = RandomForestClassifier(n_estimators=15, random_state=0)\n",
    "\n",
    "all_accuracies = cross_val_score(estimator=classifier, X=X_train, y=y_train, cv=20)\n",
    "\n",
    "print('All Accuracies: ', all_accuracies, '\\n')\n",
    "\n",
    "print('Mean of all Accuracies: ', all_accuracies.mean(), '\\n')\n",
    "print('Standard Deviation: ', all_accuracies.std())\n",
    "\n",
    "plt.plot(all_accuracies)\n",
    "plt.xlabel('Values Of Rf in Max Engine Coolant Temp Masquerade Attack')\n",
    "plt.ylabel('Cross-Validated Accuracy')\n"
   ]
  },
  {
   "cell_type": "code",
   "execution_count": 22,
   "id": "25779496",
   "metadata": {},
   "outputs": [
    {
     "name": "stdout",
     "output_type": "stream",
     "text": [
      "All Accuracies:  [0.80193548 0.8        0.79548387 0.78516129 0.80129032 0.79870968\n",
      " 0.8116129  0.81096774 0.8        0.80645161 0.79225806 0.78193548\n",
      " 0.80967742 0.80709677 0.79806452 0.79096774 0.78903226 0.79870968\n",
      " 0.80645161 0.79806452] \n",
      "\n",
      "Mean of all Accuracies:  0.7991935483870969 \n",
      "\n",
      "Standard Deviation:  0.008106664053799518\n"
     ]
    },
    {
     "data": {
      "text/plain": [
       "Text(0, 0.5, 'Cross-Validated Accuracy')"
      ]
     },
     "execution_count": 22,
     "metadata": {},
     "output_type": "execute_result"
    },
    {
     "data": {
      "image/png": "[encoded data removed]",
      "text/plain": [
       "<Figure size 432x288 with 1 Axes>"
      ]
     },
     "metadata": {
      "needs_background": "light"
     },
     "output_type": "display_data"
    }
   ],
   "source": [
    "knn = KNeighborsClassifier(n_neighbors=1)\n",
    "\n",
    "scores = cross_val_score(knn, X, y, cv=20, scoring='accuracy')\n",
    "print('All Accuracies: ', scores, '\\n')\n",
    "\n",
    "print('Mean of all Accuracies: ', scores.mean(), '\\n')\n",
    "print('Standard Deviation: ', scores.std())\n",
    "\n",
    "plt.plot(scores)\n",
    "plt.xlabel('Value of K for KNN in Mac Engine Coolant Temp Attack ')\n",
    "plt.ylabel('Cross-Validated Accuracy')\n"
   ]
  },
  {
   "cell_type": "markdown",
   "id": "285488bf",
   "metadata": {},
   "source": [
    "# by keeping neighbour value 10"
   ]
  },
  {
   "cell_type": "code",
   "execution_count": 49,
   "id": "eceb3ed6",
   "metadata": {},
   "outputs": [
    {
     "name": "stdout",
     "output_type": "stream",
     "text": [
      "All Accuracies:  [0.70903226 0.71032258 0.71612903 0.71677419 0.72645161 0.73032258\n",
      " 0.72709677 0.72064516 0.72129032 0.72129032 0.72387097 0.72258065\n",
      " 0.72516129 0.71483871 0.70967742 0.71483871 0.71354839 0.71290323\n",
      " 0.71032258 0.70516129] \n",
      "\n",
      "Mean of all Accuracies:  0.7176129032258065 \n",
      "\n",
      "Standard Deviation:  0.006861495818691953\n"
     ]
    },
    {
     "data": {
      "text/plain": [
       "Text(0, 0.5, 'Cross-Validated Accuracy')"
      ]
     },
     "execution_count": 49,
     "metadata": {},
     "output_type": "execute_result"
    },
    {
     "data": {
      "image/png": "[encoded data removed]",
      "text/plain": [
       "<Figure size 432x288 with 1 Axes>"
      ]
     },
     "metadata": {
      "needs_background": "light"
     },
     "output_type": "display_data"
    }
   ],
   "source": [
    "knn = KNeighborsClassifier(n_neighbors=10)\n",
    "\n",
    "scores = cross_val_score(knn, X, y, cv=20, scoring='accuracy')\n",
    "print('All Accuracies: ', scores, '\\n')\n",
    "\n",
    "print('Mean of all Accuracies: ', scores.mean(), '\\n')\n",
    "print('Standard Deviation: ', scores.std())\n",
    "\n",
    "plt.plot(scores)\n",
    "plt.xlabel('Value of K for KNN')\n",
    "plt.ylabel('Cross-Validated Accuracy')\n"
   ]
  },
  {
   "cell_type": "markdown",
   "id": "02d7ce7c",
   "metadata": {},
   "source": [
    "# implementing Hyperperameter tunning in Decision Tree Algorithm"
   ]
  },
  {
   "cell_type": "code",
   "execution_count": 23,
   "id": "a9f8aabd",
   "metadata": {},
   "outputs": [
    {
     "name": "stdout",
     "output_type": "stream",
     "text": [
      "All Accuracies:  [0.62119816 0.62396313 0.60460829 0.6156682  0.60184332 0.6\n",
      " 0.62949309 0.62488479 0.61843318 0.61198157 0.60921659 0.61658986\n",
      " 0.61935484 0.61658986 0.60921659 0.59907834 0.60921659 0.60645161\n",
      " 0.60829493 0.6156682 ] \n",
      "\n",
      "Mean of all Accuracies:  0.6130875576036867 \n",
      "\n",
      "Standard Deviation:  0.008298002503481939\n"
     ]
    },
    {
     "data": {
      "text/plain": [
       "Text(0, 0.5, 'Cross-Validated Accuracy')"
      ]
     },
     "execution_count": 23,
     "metadata": {},
     "output_type": "execute_result"
    },
    {
     "data": {
      "image/png": "[encoded data removed]",
      "text/plain": [
       "<Figure size 432x288 with 1 Axes>"
      ]
     },
     "metadata": {
      "needs_background": "light"
     },
     "output_type": "display_data"
    }
   ],
   "source": [
    "feature_scaler = StandardScaler()\n",
    "X_train = feature_scaler.fit_transform(X_train)\n",
    "X_test = feature_scaler.transform(X_test)\n",
    "\n",
    "classifier = DecisionTreeClassifier(criterion =\"entropy\", splitter =\"random\", max_depth =5,  min_samples_split =5,\n",
    "                              min_samples_leaf =2, max_features =2)\n",
    "\n",
    "all_accuracies = cross_val_score(estimator=DT, X=X_train, y=y_train, cv=20)\n",
    "\n",
    "print('All Accuracies: ', all_accuracies, '\\n')\n",
    "\n",
    "print('Mean of all Accuracies: ', all_accuracies.mean(), '\\n')\n",
    "print('Standard Deviation: ', all_accuracies.std())\n",
    "\n",
    "plt.plot(all_accuracies)\n",
    "plt.xlabel('Values Of DT in Mac Engine Coolant Temp Attack')\n",
    "plt.ylabel('Cross-Validated Accuracy')\n"
   ]
  },
  {
   "cell_type": "markdown",
   "id": "5ac6a92c",
   "metadata": {},
   "source": [
    "# Implementing hyperperamter tunning in Random Forest"
   ]
  },
  {
   "cell_type": "code",
   "execution_count": 24,
   "id": "e7440ec1",
   "metadata": {},
   "outputs": [
    {
     "name": "stdout",
     "output_type": "stream",
     "text": [
      "All Accuracies:  [0.47603687 0.47511521 0.4516129  0.47142857 0.48986175 0.44884793\n",
      " 0.47373272 0.49400922 0.47511521 0.48387097] \n",
      "\n",
      "Mean of all Accuracies:  0.47396313364055304 \n",
      "\n",
      "Standard Deviation:  0.013771401924589652\n"
     ]
    },
    {
     "data": {
      "text/plain": [
       "Text(0, 0.5, 'Cross-Validated Accuracy')"
      ]
     },
     "execution_count": 24,
     "metadata": {},
     "output_type": "execute_result"
    },
    {
     "data": {
      "image/png": "[encoded data removed]",
      "text/plain": [
       "<Figure size 432x288 with 1 Axes>"
      ]
     },
     "metadata": {
      "needs_background": "light"
     },
     "output_type": "display_data"
    }
   ],
   "source": [
    "feature_scaler = StandardScaler()\n",
    "X_train = feature_scaler.fit_transform(X_train)\n",
    "X_test = feature_scaler.transform(X_test)\n",
    "\n",
    "classifier = RandomForestClassifier(n_estimators=3, random_state=0)\n",
    "\n",
    "all_accuracies = cross_val_score(estimator=classifier, X=X_train, y=y_train, cv=10)\n",
    "\n",
    "print('All Accuracies: ', all_accuracies, '\\n')\n",
    "\n",
    "print('Mean of all Accuracies: ', all_accuracies.mean(), '\\n')\n",
    "print('Standard Deviation: ', all_accuracies.std())\n",
    "\n",
    "plt.plot(all_accuracies)\n",
    "plt.xlabel('Values Of Rf in Max Engine Coolant Temp Attack')\n",
    "plt.ylabel('Cross-Validated Accuracy')\n"
   ]
  },
  {
   "cell_type": "markdown",
   "id": "3e20b912",
   "metadata": {},
   "source": [
    "# SVM\n",
    "\n"
   ]
  },
  {
   "cell_type": "code",
   "execution_count": null,
   "id": "3f6ab5c0",
   "metadata": {},
   "outputs": [],
   "source": [
    "svm_m=SVC()\n",
    "svm_m.fit(X_train,y_train)\n",
    "prediction=svm_m.predict(X_test)\n",
    "#print('Accuracy: ', accuracy_score(y_test, prediction), '\\n')\n",
    "\n"
   ]
  },
  {
   "cell_type": "code",
   "execution_count": 53,
   "id": "339df723",
   "metadata": {},
   "outputs": [
    {
     "name": "stdout",
     "output_type": "stream",
     "text": [
      "All Accuracies:  [0.27926267 0.28110599 0.28940092 0.28940092 0.27741935 0.28018433\n",
      " 0.2875576  0.29032258 0.29308756 0.28479263 0.28018433 0.2875576\n",
      " 0.28940092 0.27926267 0.28387097 0.28387097 0.28294931 0.28110599\n",
      " 0.28110599 0.28479263] \n",
      "\n",
      "Mean of all Accuracies:  0.28433179723502305 \n",
      "\n",
      "Standard Deviation:  0.004347456742883233\n"
     ]
    },
    {
     "data": {
      "text/plain": [
       "Text(0, 0.5, 'Cross-Validated Accuracy')"
      ]
     },
     "execution_count": 53,
     "metadata": {},
     "output_type": "execute_result"
    },
    {
     "data": {
      "image/png": "[encoded data removed]",
      "text/plain": [
       "<Figure size 432x288 with 1 Axes>"
      ]
     },
     "metadata": {
      "needs_background": "light"
     },
     "output_type": "display_data"
    }
   ],
   "source": [
    "feature_scaler = StandardScaler()\n",
    "X_train = feature_scaler.fit_transform(X_train)\n",
    "X_test = feature_scaler.transform(X_test)\n",
    "\n",
    "model3 = SVC(C= 5,random_state=0,decision_function_shape='ovr')\n",
    "\n",
    "all_accuracies = cross_val_score(estimator=model3, X=X_train, y=y_train, cv=20)\n",
    "\n",
    "print('All Accuracies: ', all_accuracies, '\\n')\n",
    "\n",
    "print('Mean of all Accuracies: ', all_accuracies.mean(), '\\n')\n",
    "print('Standard Deviation: ', all_accuracies.std())\n",
    "\n",
    "plt.plot(all_accuracies)\n",
    "plt.xlabel('Values Of SVC')\n",
    "plt.ylabel('Cross-Validated Accuracy')\n"
   ]
  },
  {
   "cell_type": "code",
   "execution_count": 26,
   "id": "a8c25523",
   "metadata": {},
   "outputs": [
    {
     "name": "stdout",
     "output_type": "stream",
     "text": [
      "Random Forest: nan (nan)\n",
      "KNN: 0.671419 (0.102800)\n",
      "Decison Tree: nan (nan)\n"
     ]
    },
    {
     "data": {
      "image/png": "[encoded data removed]",
      "text/plain": [
       "<Figure size 432x288 with 1 Axes>"
      ]
     },
     "metadata": {
      "needs_background": "light"
     },
     "output_type": "display_data"
    }
   ],
   "source": [
    "from sklearn import model_selection\n",
    "models = []\n",
    "#seed = 20\n",
    "#models.append(('LR', LogisticRegression()))\n",
    "#models.append(('LDA', LinearDiscriminantAnalysis()))\n",
    "models.append(('Random Forest', RandomForestClassifier()))\n",
    "models.append(('KNN', KNeighborsClassifier()))\n",
    "models.append(('Decison Tree', DecisionTreeClassifier()))\n",
    "models.append(('SVM', SVC()))\n",
    "# evaluate each model in turn\n",
    "results = []\n",
    "names = []\n",
    "scoring = 'accuracy'\n",
    "for name, model in models:\n",
    "    kfold = model_selection.KFold(n_splits=10)\n",
    "    cv_results = model_selection.cross_val_score(model, X, y, cv=kfold, scoring=scoring)\n",
    "    results.append(cv_results)\n",
    "    names.append(name)\n",
    "    msg = \"%s: %f (%f)\" % (name, cv_results.mean(), cv_results.std())\n",
    "    print(msg)\n",
    "# boxplot algorithm comparison\n",
    "fig = plt.figure()\n",
    "fig.suptitle('Algorithm Comparison')\n",
    "ax = fig.add_subplot(111)\n",
    "plt.boxplot(results)\n",
    "ax.set_xticklabels(names)\n",
    "plt.show()"
   ]
  },
  {
   "cell_type": "code",
   "execution_count": null,
   "id": "435ce0ad",
   "metadata": {},
   "outputs": [],
   "source": []
  }
 ],
 "metadata": {
  "kernelspec": {
   "display_name": "Python 3",
   "language": "python",
   "name": "python3"
  },
  "language_info": {
   "codemirror_mode": {
    "name": "ipython",
    "version": 3
   },
   "file_extension": ".py",
   "mimetype": "text/x-python",
   "name": "python",
   "nbconvert_exporter": "python",
   "pygments_lexer": "ipython3",
   "version": "3.8.8"
  }
 },
 "nbformat": 4,
 "nbformat_minor": 5
}
