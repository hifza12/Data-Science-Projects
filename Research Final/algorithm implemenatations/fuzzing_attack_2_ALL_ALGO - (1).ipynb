{
 "cells": [
  {
   "cell_type": "markdown",
   "id": "88b86a26",
   "metadata": {
    "id": "88b86a26"
   },
   "source": [
    "# importing libraries"
   ]
  },
  {
   "cell_type": "code",
   "execution_count": 1,
   "id": "59a7ca8b",
   "metadata": {
    "id": "59a7ca8b"
   },
   "outputs": [],
   "source": [
    "import numpy as np\n",
    "import pandas as pd"
   ]
  },
  {
   "cell_type": "markdown",
   "id": "626d7150",
   "metadata": {
    "id": "626d7150"
   },
   "source": [
    "# Loading dataset"
   ]
  },
  {
   "cell_type": "code",
   "execution_count": 2,
   "id": "6342631b",
   "metadata": {
    "colab": {
     "base_uri": "https://localhost:8080/",
     "height": 203
    },
    "id": "6342631b",
    "outputId": "4064c8e6-6133-41d4-8132-d1bbc4e22035"
   },
   "outputs": [
    {
     "data": {
      "text/html": [
       "<div>\n",
       "<style scoped>\n",
       "    .dataframe tbody tr th:only-of-type {\n",
       "        vertical-align: middle;\n",
       "    }\n",
       "\n",
       "    .dataframe tbody tr th {\n",
       "        vertical-align: top;\n",
       "    }\n",
       "\n",
       "    .dataframe thead th {\n",
       "        text-align: right;\n",
       "    }\n",
       "</style>\n",
       "<table border=\"1\" class=\"dataframe\">\n",
       "  <thead>\n",
       "    <tr style=\"text-align: right;\">\n",
       "      <th></th>\n",
       "      <th>(1010000000.000000) can0 00E#20529602080975B8</th>\n",
       "    </tr>\n",
       "  </thead>\n",
       "  <tbody>\n",
       "    <tr>\n",
       "      <th>0</th>\n",
       "      <td>(1010000000.001070) can0 153#00000004000C0004</td>\n",
       "    </tr>\n",
       "    <tr>\n",
       "      <th>1</th>\n",
       "      <td>(1010000000.002090) can0 295#0000000000000040</td>\n",
       "    </tr>\n",
       "    <tr>\n",
       "      <th>2</th>\n",
       "      <td>(1010000000.002091) can0 662#4EE0000040000000</td>\n",
       "    </tr>\n",
       "    <tr>\n",
       "      <th>3</th>\n",
       "      <td>(1010000000.002092) can0 19C#08F62000020028C0</td>\n",
       "    </tr>\n",
       "    <tr>\n",
       "      <th>4</th>\n",
       "      <td>(1010000000.002093) can0 0D0#22770460F8000000</td>\n",
       "    </tr>\n",
       "  </tbody>\n",
       "</table>\n",
       "</div>"
      ],
      "text/plain": [
       "   (1010000000.000000) can0 00E#20529602080975B8\n",
       "0  (1010000000.001070) can0 153#00000004000C0004\n",
       "1  (1010000000.002090) can0 295#0000000000000040\n",
       "2  (1010000000.002091) can0 662#4EE0000040000000\n",
       "3  (1010000000.002092) can0 19C#08F62000020028C0\n",
       "4  (1010000000.002093) can0 0D0#22770460F8000000"
      ]
     },
     "execution_count": 2,
     "metadata": {},
     "output_type": "execute_result"
    }
   ],
   "source": [
    "df=pd.read_csv('D:/Research Work/road/attacks/fuzzing_attack_2.log')\n",
    "df.head()"
   ]
  },
  {
   "cell_type": "markdown",
   "id": "ce0af795",
   "metadata": {
    "id": "ce0af795"
   },
   "source": [
    "# Spliting the data in different columns"
   ]
  },
  {
   "cell_type": "code",
   "execution_count": null,
   "id": "9hTVBZWqzjcU",
   "metadata": {
    "colab": {
     "base_uri": "https://localhost:8080/"
    },
    "id": "9hTVBZWqzjcU",
    "outputId": "2e01867d-3368-4874-b71f-8eb858193107"
   },
   "outputs": [],
   "source": []
  },
  {
   "cell_type": "code",
   "execution_count": 3,
   "id": "7762d979",
   "metadata": {
    "colab": {
     "base_uri": "https://localhost:8080/",
     "height": 417
    },
    "id": "7762d979",
    "outputId": "1cd12522-167d-418f-ea54-b9f34f8725c1"
   },
   "outputs": [
    {
     "data": {
      "text/html": [
       "<div>\n",
       "<style scoped>\n",
       "    .dataframe tbody tr th:only-of-type {\n",
       "        vertical-align: middle;\n",
       "    }\n",
       "\n",
       "    .dataframe tbody tr th {\n",
       "        vertical-align: top;\n",
       "    }\n",
       "\n",
       "    .dataframe thead th {\n",
       "        text-align: right;\n",
       "    }\n",
       "</style>\n",
       "<table border=\"1\" class=\"dataframe\">\n",
       "  <thead>\n",
       "    <tr style=\"text-align: right;\">\n",
       "      <th></th>\n",
       "      <th>Unix Timestamp</th>\n",
       "      <th>Channel</th>\n",
       "      <th>IDHexandDataFeild</th>\n",
       "    </tr>\n",
       "  </thead>\n",
       "  <tbody>\n",
       "    <tr>\n",
       "      <th>0</th>\n",
       "      <td>1010000000.000000</td>\n",
       "      <td>can0</td>\n",
       "      <td>00E#20529602080975B8\\n</td>\n",
       "    </tr>\n",
       "    <tr>\n",
       "      <th>1</th>\n",
       "      <td>1010000000.001070</td>\n",
       "      <td>can0</td>\n",
       "      <td>153#00000004000C0004\\n</td>\n",
       "    </tr>\n",
       "    <tr>\n",
       "      <th>2</th>\n",
       "      <td>1010000000.002090</td>\n",
       "      <td>can0</td>\n",
       "      <td>295#0000000000000040\\n</td>\n",
       "    </tr>\n",
       "    <tr>\n",
       "      <th>3</th>\n",
       "      <td>1010000000.002091</td>\n",
       "      <td>can0</td>\n",
       "      <td>662#4EE0000040000000\\n</td>\n",
       "    </tr>\n",
       "    <tr>\n",
       "      <th>4</th>\n",
       "      <td>1010000000.002092</td>\n",
       "      <td>can0</td>\n",
       "      <td>19C#08F62000020028C0\\n</td>\n",
       "    </tr>\n",
       "    <tr>\n",
       "      <th>...</th>\n",
       "      <td>...</td>\n",
       "      <td>...</td>\n",
       "      <td>...</td>\n",
       "    </tr>\n",
       "    <tr>\n",
       "      <th>32346</th>\n",
       "      <td>1010000013.362264</td>\n",
       "      <td>can0</td>\n",
       "      <td>0C0#2000000000000000\\n</td>\n",
       "    </tr>\n",
       "    <tr>\n",
       "      <th>32347</th>\n",
       "      <td>1010000013.363290</td>\n",
       "      <td>can0</td>\n",
       "      <td>03C#0000040037000000\\n</td>\n",
       "    </tr>\n",
       "    <tr>\n",
       "      <th>32348</th>\n",
       "      <td>1010000013.363291</td>\n",
       "      <td>can0</td>\n",
       "      <td>354#1FF3C00000052E00\\n</td>\n",
       "    </tr>\n",
       "    <tr>\n",
       "      <th>32349</th>\n",
       "      <td>1010000013.363292</td>\n",
       "      <td>can0</td>\n",
       "      <td>522#DF7FD0007D28001C\\n</td>\n",
       "    </tr>\n",
       "    <tr>\n",
       "      <th>32350</th>\n",
       "      <td>1010000013.365329</td>\n",
       "      <td>can0</td>\n",
       "      <td>366#801DC8020147CE38\\n</td>\n",
       "    </tr>\n",
       "  </tbody>\n",
       "</table>\n",
       "<p>32351 rows × 3 columns</p>\n",
       "</div>"
      ],
      "text/plain": [
       "          Unix Timestamp Channel       IDHexandDataFeild\n",
       "0      1010000000.000000    can0  00E#20529602080975B8\\n\n",
       "1      1010000000.001070    can0  153#00000004000C0004\\n\n",
       "2      1010000000.002090    can0  295#0000000000000040\\n\n",
       "3      1010000000.002091    can0  662#4EE0000040000000\\n\n",
       "4      1010000000.002092    can0  19C#08F62000020028C0\\n\n",
       "...                  ...     ...                     ...\n",
       "32346  1010000013.362264    can0  0C0#2000000000000000\\n\n",
       "32347  1010000013.363290    can0  03C#0000040037000000\\n\n",
       "32348  1010000013.363291    can0  354#1FF3C00000052E00\\n\n",
       "32349  1010000013.363292    can0  522#DF7FD0007D28001C\\n\n",
       "32350  1010000013.365329    can0  366#801DC8020147CE38\\n\n",
       "\n",
       "[32351 rows x 3 columns]"
      ]
     },
     "execution_count": 3,
     "metadata": {},
     "output_type": "execute_result"
    }
   ],
   "source": [
    "log_data  = open('D:/Research Work/road/attacks/fuzzing_attack_2.log', 'r')\n",
    "split_list = []\n",
    "\n",
    "for line in log_data:\n",
    "    thing1 = line.split(' ')\n",
    "    time = thing1[0][1:18]\n",
    "    idd = thing1[1][:4]\n",
    "    message = thing1[2]\n",
    "    \n",
    "\n",
    "    split_list.append([time, idd, message])\n",
    "\n",
    "df1 = pd.DataFrame(split_list, columns=['Unix Timestamp', 'Channel', 'IDHexandDataFeild'])\n",
    "#df1['Message'].map(str.strip)\n",
    "df1"
   ]
  },
  {
   "cell_type": "markdown",
   "id": "820e6a9e",
   "metadata": {
    "id": "820e6a9e"
   },
   "source": [
    "# Seprating id and dataframe"
   ]
  },
  {
   "cell_type": "code",
   "execution_count": 4,
   "id": "c78c70fb",
   "metadata": {
    "colab": {
     "base_uri": "https://localhost:8080/",
     "height": 203
    },
    "id": "c78c70fb",
    "outputId": "baf1541e-c036-4851-b214-cd87be028efa"
   },
   "outputs": [
    {
     "data": {
      "text/html": [
       "<div>\n",
       "<style scoped>\n",
       "    .dataframe tbody tr th:only-of-type {\n",
       "        vertical-align: middle;\n",
       "    }\n",
       "\n",
       "    .dataframe tbody tr th {\n",
       "        vertical-align: top;\n",
       "    }\n",
       "\n",
       "    .dataframe thead th {\n",
       "        text-align: right;\n",
       "    }\n",
       "</style>\n",
       "<table border=\"1\" class=\"dataframe\">\n",
       "  <thead>\n",
       "    <tr style=\"text-align: right;\">\n",
       "      <th></th>\n",
       "      <th>IDhex</th>\n",
       "      <th>DataFrame</th>\n",
       "    </tr>\n",
       "  </thead>\n",
       "  <tbody>\n",
       "    <tr>\n",
       "      <th>0</th>\n",
       "      <td>00E</td>\n",
       "      <td>20529602080975B8\\n</td>\n",
       "    </tr>\n",
       "    <tr>\n",
       "      <th>1</th>\n",
       "      <td>153</td>\n",
       "      <td>00000004000C0004\\n</td>\n",
       "    </tr>\n",
       "    <tr>\n",
       "      <th>2</th>\n",
       "      <td>295</td>\n",
       "      <td>0000000000000040\\n</td>\n",
       "    </tr>\n",
       "    <tr>\n",
       "      <th>3</th>\n",
       "      <td>662</td>\n",
       "      <td>4EE0000040000000\\n</td>\n",
       "    </tr>\n",
       "    <tr>\n",
       "      <th>4</th>\n",
       "      <td>19C</td>\n",
       "      <td>08F62000020028C0\\n</td>\n",
       "    </tr>\n",
       "  </tbody>\n",
       "</table>\n",
       "</div>"
      ],
      "text/plain": [
       "  IDhex           DataFrame\n",
       "0   00E  20529602080975B8\\n\n",
       "1   153  00000004000C0004\\n\n",
       "2   295  0000000000000040\\n\n",
       "3   662  4EE0000040000000\\n\n",
       "4   19C  08F62000020028C0\\n"
      ]
     },
     "execution_count": 4,
     "metadata": {},
     "output_type": "execute_result"
    }
   ],
   "source": [
    "out = pd.DataFrame(df1.IDHexandDataFeild.str.split('#',1).tolist(),columns=['IDhex','DataFrame'])\n",
    "out.head()"
   ]
  },
  {
   "cell_type": "markdown",
   "id": "3b354b8d",
   "metadata": {
    "id": "3b354b8d"
   },
   "source": [
    "# choosing these two columns from the original dataset"
   ]
  },
  {
   "cell_type": "code",
   "execution_count": 5,
   "id": "a6f299ad",
   "metadata": {
    "colab": {
     "base_uri": "https://localhost:8080/",
     "height": 203
    },
    "id": "a6f299ad",
    "outputId": "8e7af511-84a3-4009-c15d-c85528538a5f"
   },
   "outputs": [
    {
     "data": {
      "text/html": [
       "<div>\n",
       "<style scoped>\n",
       "    .dataframe tbody tr th:only-of-type {\n",
       "        vertical-align: middle;\n",
       "    }\n",
       "\n",
       "    .dataframe tbody tr th {\n",
       "        vertical-align: top;\n",
       "    }\n",
       "\n",
       "    .dataframe thead th {\n",
       "        text-align: right;\n",
       "    }\n",
       "</style>\n",
       "<table border=\"1\" class=\"dataframe\">\n",
       "  <thead>\n",
       "    <tr style=\"text-align: right;\">\n",
       "      <th></th>\n",
       "      <th>Unix Timestamp</th>\n",
       "      <th>Channel</th>\n",
       "    </tr>\n",
       "  </thead>\n",
       "  <tbody>\n",
       "    <tr>\n",
       "      <th>0</th>\n",
       "      <td>1010000000.000000</td>\n",
       "      <td>can0</td>\n",
       "    </tr>\n",
       "    <tr>\n",
       "      <th>1</th>\n",
       "      <td>1010000000.001070</td>\n",
       "      <td>can0</td>\n",
       "    </tr>\n",
       "    <tr>\n",
       "      <th>2</th>\n",
       "      <td>1010000000.002090</td>\n",
       "      <td>can0</td>\n",
       "    </tr>\n",
       "    <tr>\n",
       "      <th>3</th>\n",
       "      <td>1010000000.002091</td>\n",
       "      <td>can0</td>\n",
       "    </tr>\n",
       "    <tr>\n",
       "      <th>4</th>\n",
       "      <td>1010000000.002092</td>\n",
       "      <td>can0</td>\n",
       "    </tr>\n",
       "  </tbody>\n",
       "</table>\n",
       "</div>"
      ],
      "text/plain": [
       "      Unix Timestamp Channel\n",
       "0  1010000000.000000    can0\n",
       "1  1010000000.001070    can0\n",
       "2  1010000000.002090    can0\n",
       "3  1010000000.002091    can0\n",
       "4  1010000000.002092    can0"
      ]
     },
     "execution_count": 5,
     "metadata": {},
     "output_type": "execute_result"
    }
   ],
   "source": [
    "df2=df1[['Unix Timestamp', 'Channel']] \n",
    "df2.head()"
   ]
  },
  {
   "cell_type": "markdown",
   "id": "b1a4a849",
   "metadata": {
    "id": "b1a4a849"
   },
   "source": [
    "# Converting the data of IDhex column which is in hexadecimal to decimal "
   ]
  },
  {
   "cell_type": "code",
   "execution_count": 6,
   "id": "284ef72a",
   "metadata": {
    "colab": {
     "base_uri": "https://localhost:8080/",
     "height": 417
    },
    "id": "284ef72a",
    "outputId": "09f204d7-6ed4-4b1b-ab41-ecca7ac50f8f"
   },
   "outputs": [
    {
     "data": {
      "text/html": [
       "<div>\n",
       "<style scoped>\n",
       "    .dataframe tbody tr th:only-of-type {\n",
       "        vertical-align: middle;\n",
       "    }\n",
       "\n",
       "    .dataframe tbody tr th {\n",
       "        vertical-align: top;\n",
       "    }\n",
       "\n",
       "    .dataframe thead th {\n",
       "        text-align: right;\n",
       "    }\n",
       "</style>\n",
       "<table border=\"1\" class=\"dataframe\">\n",
       "  <thead>\n",
       "    <tr style=\"text-align: right;\">\n",
       "      <th></th>\n",
       "      <th>IDhex</th>\n",
       "      <th>DataFrame</th>\n",
       "    </tr>\n",
       "  </thead>\n",
       "  <tbody>\n",
       "    <tr>\n",
       "      <th>0</th>\n",
       "      <td>14</td>\n",
       "      <td>20529602080975B8\\n</td>\n",
       "    </tr>\n",
       "    <tr>\n",
       "      <th>1</th>\n",
       "      <td>339</td>\n",
       "      <td>00000004000C0004\\n</td>\n",
       "    </tr>\n",
       "    <tr>\n",
       "      <th>2</th>\n",
       "      <td>661</td>\n",
       "      <td>0000000000000040\\n</td>\n",
       "    </tr>\n",
       "    <tr>\n",
       "      <th>3</th>\n",
       "      <td>1634</td>\n",
       "      <td>4EE0000040000000\\n</td>\n",
       "    </tr>\n",
       "    <tr>\n",
       "      <th>4</th>\n",
       "      <td>412</td>\n",
       "      <td>08F62000020028C0\\n</td>\n",
       "    </tr>\n",
       "    <tr>\n",
       "      <th>...</th>\n",
       "      <td>...</td>\n",
       "      <td>...</td>\n",
       "    </tr>\n",
       "    <tr>\n",
       "      <th>32346</th>\n",
       "      <td>192</td>\n",
       "      <td>2000000000000000\\n</td>\n",
       "    </tr>\n",
       "    <tr>\n",
       "      <th>32347</th>\n",
       "      <td>60</td>\n",
       "      <td>0000040037000000\\n</td>\n",
       "    </tr>\n",
       "    <tr>\n",
       "      <th>32348</th>\n",
       "      <td>852</td>\n",
       "      <td>1FF3C00000052E00\\n</td>\n",
       "    </tr>\n",
       "    <tr>\n",
       "      <th>32349</th>\n",
       "      <td>1314</td>\n",
       "      <td>DF7FD0007D28001C\\n</td>\n",
       "    </tr>\n",
       "    <tr>\n",
       "      <th>32350</th>\n",
       "      <td>870</td>\n",
       "      <td>801DC8020147CE38\\n</td>\n",
       "    </tr>\n",
       "  </tbody>\n",
       "</table>\n",
       "<p>32351 rows × 2 columns</p>\n",
       "</div>"
      ],
      "text/plain": [
       "       IDhex           DataFrame\n",
       "0         14  20529602080975B8\\n\n",
       "1        339  00000004000C0004\\n\n",
       "2        661  0000000000000040\\n\n",
       "3       1634  4EE0000040000000\\n\n",
       "4        412  08F62000020028C0\\n\n",
       "...      ...                 ...\n",
       "32346    192  2000000000000000\\n\n",
       "32347     60  0000040037000000\\n\n",
       "32348    852  1FF3C00000052E00\\n\n",
       "32349   1314  DF7FD0007D28001C\\n\n",
       "32350    870  801DC8020147CE38\\n\n",
       "\n",
       "[32351 rows x 2 columns]"
      ]
     },
     "execution_count": 6,
     "metadata": {},
     "output_type": "execute_result"
    }
   ],
   "source": [
    "out['IDhex'] = out['IDhex'].apply(lambda x: int(x,16))\n",
    "out"
   ]
  },
  {
   "cell_type": "markdown",
   "id": "6a33dd6d",
   "metadata": {
    "id": "6a33dd6d"
   },
   "source": [
    "# here converting the DataFrame column's hex data in decimal"
   ]
  },
  {
   "cell_type": "code",
   "execution_count": 7,
   "id": "b641a856",
   "metadata": {
    "colab": {
     "base_uri": "https://localhost:8080/",
     "height": 417
    },
    "id": "b641a856",
    "outputId": "5c94bcfa-ccf9-44b1-acd0-a3cc8250acdc"
   },
   "outputs": [
    {
     "data": {
      "text/html": [
       "<div>\n",
       "<style scoped>\n",
       "    .dataframe tbody tr th:only-of-type {\n",
       "        vertical-align: middle;\n",
       "    }\n",
       "\n",
       "    .dataframe tbody tr th {\n",
       "        vertical-align: top;\n",
       "    }\n",
       "\n",
       "    .dataframe thead th {\n",
       "        text-align: right;\n",
       "    }\n",
       "</style>\n",
       "<table border=\"1\" class=\"dataframe\">\n",
       "  <thead>\n",
       "    <tr style=\"text-align: right;\">\n",
       "      <th></th>\n",
       "      <th>IDhex</th>\n",
       "      <th>DataFrame</th>\n",
       "    </tr>\n",
       "  </thead>\n",
       "  <tbody>\n",
       "    <tr>\n",
       "      <th>0</th>\n",
       "      <td>14</td>\n",
       "      <td>2329088892772906424</td>\n",
       "    </tr>\n",
       "    <tr>\n",
       "      <th>1</th>\n",
       "      <td>339</td>\n",
       "      <td>17180655620</td>\n",
       "    </tr>\n",
       "    <tr>\n",
       "      <th>2</th>\n",
       "      <td>661</td>\n",
       "      <td>64</td>\n",
       "    </tr>\n",
       "    <tr>\n",
       "      <th>3</th>\n",
       "      <td>1634</td>\n",
       "      <td>5683542730815307776</td>\n",
       "    </tr>\n",
       "    <tr>\n",
       "      <th>4</th>\n",
       "      <td>412</td>\n",
       "      <td>645738780979898560</td>\n",
       "    </tr>\n",
       "    <tr>\n",
       "      <th>...</th>\n",
       "      <td>...</td>\n",
       "      <td>...</td>\n",
       "    </tr>\n",
       "    <tr>\n",
       "      <th>32346</th>\n",
       "      <td>192</td>\n",
       "      <td>2305843009213693952</td>\n",
       "    </tr>\n",
       "    <tr>\n",
       "      <th>32347</th>\n",
       "      <td>60</td>\n",
       "      <td>4398969257984</td>\n",
       "    </tr>\n",
       "    <tr>\n",
       "      <th>32348</th>\n",
       "      <td>852</td>\n",
       "      <td>2302394940749327872</td>\n",
       "    </tr>\n",
       "    <tr>\n",
       "      <th>32349</th>\n",
       "      <td>1314</td>\n",
       "      <td>16104819493018533916</td>\n",
       "    </tr>\n",
       "    <tr>\n",
       "      <th>32350</th>\n",
       "      <td>870</td>\n",
       "      <td>9231754722116357688</td>\n",
       "    </tr>\n",
       "  </tbody>\n",
       "</table>\n",
       "<p>32351 rows × 2 columns</p>\n",
       "</div>"
      ],
      "text/plain": [
       "       IDhex             DataFrame\n",
       "0         14   2329088892772906424\n",
       "1        339           17180655620\n",
       "2        661                    64\n",
       "3       1634   5683542730815307776\n",
       "4        412    645738780979898560\n",
       "...      ...                   ...\n",
       "32346    192   2305843009213693952\n",
       "32347     60         4398969257984\n",
       "32348    852   2302394940749327872\n",
       "32349   1314  16104819493018533916\n",
       "32350    870   9231754722116357688\n",
       "\n",
       "[32351 rows x 2 columns]"
      ]
     },
     "execution_count": 7,
     "metadata": {},
     "output_type": "execute_result"
    }
   ],
   "source": [
    "out['DataFrame'].str.strip('\\n')\n",
    "out['DataFrame'] = out['DataFrame'].apply(lambda x: int(x,16))\n",
    "out"
   ]
  },
  {
   "cell_type": "code",
   "execution_count": 8,
   "id": "75325036",
   "metadata": {
    "colab": {
     "base_uri": "https://localhost:8080/",
     "height": 203
    },
    "id": "75325036",
    "outputId": "629c7eee-017d-4fe1-a950-1fce8087df1b"
   },
   "outputs": [
    {
     "data": {
      "text/html": [
       "<div>\n",
       "<style scoped>\n",
       "    .dataframe tbody tr th:only-of-type {\n",
       "        vertical-align: middle;\n",
       "    }\n",
       "\n",
       "    .dataframe tbody tr th {\n",
       "        vertical-align: top;\n",
       "    }\n",
       "\n",
       "    .dataframe thead th {\n",
       "        text-align: right;\n",
       "    }\n",
       "</style>\n",
       "<table border=\"1\" class=\"dataframe\">\n",
       "  <thead>\n",
       "    <tr style=\"text-align: right;\">\n",
       "      <th></th>\n",
       "      <th>IDhex</th>\n",
       "      <th>DataFrame</th>\n",
       "    </tr>\n",
       "  </thead>\n",
       "  <tbody>\n",
       "    <tr>\n",
       "      <th>0</th>\n",
       "      <td>14</td>\n",
       "      <td>2329088892772906424</td>\n",
       "    </tr>\n",
       "    <tr>\n",
       "      <th>1</th>\n",
       "      <td>339</td>\n",
       "      <td>17180655620</td>\n",
       "    </tr>\n",
       "    <tr>\n",
       "      <th>2</th>\n",
       "      <td>661</td>\n",
       "      <td>64</td>\n",
       "    </tr>\n",
       "    <tr>\n",
       "      <th>3</th>\n",
       "      <td>1634</td>\n",
       "      <td>5683542730815307776</td>\n",
       "    </tr>\n",
       "    <tr>\n",
       "      <th>4</th>\n",
       "      <td>412</td>\n",
       "      <td>645738780979898560</td>\n",
       "    </tr>\n",
       "  </tbody>\n",
       "</table>\n",
       "</div>"
      ],
      "text/plain": [
       "   IDhex            DataFrame\n",
       "0     14  2329088892772906424\n",
       "1    339          17180655620\n",
       "2    661                   64\n",
       "3   1634  5683542730815307776\n",
       "4    412   645738780979898560"
      ]
     },
     "execution_count": 8,
     "metadata": {},
     "output_type": "execute_result"
    }
   ],
   "source": [
    "#checking the out data which i have converted in decimal which was in hexadecimal\n",
    "out.head()"
   ]
  },
  {
   "cell_type": "code",
   "execution_count": 9,
   "id": "f92f5155",
   "metadata": {
    "id": "f92f5155"
   },
   "outputs": [],
   "source": [
    "#now here i'm collecting the two data which i have above splitted from the original data.\n",
    "#df2 ==here i have collected the data which i don't need to convert in decimaml \n",
    "#in out data i have collected the data which i have to convert into decimal.\n",
    "frames=[df2,out]"
   ]
  },
  {
   "cell_type": "code",
   "execution_count": 10,
   "id": "56d782f6",
   "metadata": {
    "colab": {
     "base_uri": "https://localhost:8080/",
     "height": 203
    },
    "id": "56d782f6",
    "outputId": "178c99b4-b6ee-47e6-ffc3-2d225bf5794e"
   },
   "outputs": [
    {
     "data": {
      "text/html": [
       "<div>\n",
       "<style scoped>\n",
       "    .dataframe tbody tr th:only-of-type {\n",
       "        vertical-align: middle;\n",
       "    }\n",
       "\n",
       "    .dataframe tbody tr th {\n",
       "        vertical-align: top;\n",
       "    }\n",
       "\n",
       "    .dataframe thead th {\n",
       "        text-align: right;\n",
       "    }\n",
       "</style>\n",
       "<table border=\"1\" class=\"dataframe\">\n",
       "  <thead>\n",
       "    <tr style=\"text-align: right;\">\n",
       "      <th></th>\n",
       "      <th>Unix Timestamp</th>\n",
       "      <th>Channel</th>\n",
       "      <th>IDhex</th>\n",
       "      <th>DataFrame</th>\n",
       "    </tr>\n",
       "  </thead>\n",
       "  <tbody>\n",
       "    <tr>\n",
       "      <th>0</th>\n",
       "      <td>1010000000.000000</td>\n",
       "      <td>can0</td>\n",
       "      <td>14</td>\n",
       "      <td>2329088892772906424</td>\n",
       "    </tr>\n",
       "    <tr>\n",
       "      <th>1</th>\n",
       "      <td>1010000000.001070</td>\n",
       "      <td>can0</td>\n",
       "      <td>339</td>\n",
       "      <td>17180655620</td>\n",
       "    </tr>\n",
       "    <tr>\n",
       "      <th>2</th>\n",
       "      <td>1010000000.002090</td>\n",
       "      <td>can0</td>\n",
       "      <td>661</td>\n",
       "      <td>64</td>\n",
       "    </tr>\n",
       "    <tr>\n",
       "      <th>3</th>\n",
       "      <td>1010000000.002091</td>\n",
       "      <td>can0</td>\n",
       "      <td>1634</td>\n",
       "      <td>5683542730815307776</td>\n",
       "    </tr>\n",
       "    <tr>\n",
       "      <th>4</th>\n",
       "      <td>1010000000.002092</td>\n",
       "      <td>can0</td>\n",
       "      <td>412</td>\n",
       "      <td>645738780979898560</td>\n",
       "    </tr>\n",
       "  </tbody>\n",
       "</table>\n",
       "</div>"
      ],
      "text/plain": [
       "      Unix Timestamp Channel  IDhex            DataFrame\n",
       "0  1010000000.000000    can0     14  2329088892772906424\n",
       "1  1010000000.001070    can0    339          17180655620\n",
       "2  1010000000.002090    can0    661                   64\n",
       "3  1010000000.002091    can0   1634  5683542730815307776\n",
       "4  1010000000.002092    can0    412   645738780979898560"
      ]
     },
     "execution_count": 10,
     "metadata": {},
     "output_type": "execute_result"
    }
   ],
   "source": [
    "# here i concate the two datas, because it need to be togather\n",
    "result=pd.concat(frames ,axis=1)\n",
    "result.head()"
   ]
  },
  {
   "cell_type": "code",
   "execution_count": 11,
   "id": "98ad113d",
   "metadata": {
    "id": "98ad113d"
   },
   "outputs": [],
   "source": [
    "#here i have save my data which i have splitted and  converted in decimal \n",
    "save=result.to_csv(\"D:/Research Work/road/extractedfrompython/fuzzing_attack2.csv\")"
   ]
  },
  {
   "cell_type": "code",
   "execution_count": 12,
   "id": "b63fb82b",
   "metadata": {
    "colab": {
     "base_uri": "https://localhost:8080/",
     "height": 417
    },
    "id": "b63fb82b",
    "outputId": "44680731-a234-4128-bb52-15a55c4ac8be"
   },
   "outputs": [
    {
     "data": {
      "text/html": [
       "<div>\n",
       "<style scoped>\n",
       "    .dataframe tbody tr th:only-of-type {\n",
       "        vertical-align: middle;\n",
       "    }\n",
       "\n",
       "    .dataframe tbody tr th {\n",
       "        vertical-align: top;\n",
       "    }\n",
       "\n",
       "    .dataframe thead th {\n",
       "        text-align: right;\n",
       "    }\n",
       "</style>\n",
       "<table border=\"1\" class=\"dataframe\">\n",
       "  <thead>\n",
       "    <tr style=\"text-align: right;\">\n",
       "      <th></th>\n",
       "      <th>Unix Timestamp</th>\n",
       "      <th>Channel</th>\n",
       "      <th>IDhex</th>\n",
       "      <th>DataFrame</th>\n",
       "    </tr>\n",
       "  </thead>\n",
       "  <tbody>\n",
       "    <tr>\n",
       "      <th>0</th>\n",
       "      <td>1010000000.000000</td>\n",
       "      <td>can0</td>\n",
       "      <td>14</td>\n",
       "      <td>2329088892772906424</td>\n",
       "    </tr>\n",
       "    <tr>\n",
       "      <th>1</th>\n",
       "      <td>1010000000.001070</td>\n",
       "      <td>can0</td>\n",
       "      <td>339</td>\n",
       "      <td>17180655620</td>\n",
       "    </tr>\n",
       "    <tr>\n",
       "      <th>2</th>\n",
       "      <td>1010000000.002090</td>\n",
       "      <td>can0</td>\n",
       "      <td>661</td>\n",
       "      <td>64</td>\n",
       "    </tr>\n",
       "    <tr>\n",
       "      <th>3</th>\n",
       "      <td>1010000000.002091</td>\n",
       "      <td>can0</td>\n",
       "      <td>1634</td>\n",
       "      <td>5683542730815307776</td>\n",
       "    </tr>\n",
       "    <tr>\n",
       "      <th>4</th>\n",
       "      <td>1010000000.002092</td>\n",
       "      <td>can0</td>\n",
       "      <td>412</td>\n",
       "      <td>645738780979898560</td>\n",
       "    </tr>\n",
       "    <tr>\n",
       "      <th>...</th>\n",
       "      <td>...</td>\n",
       "      <td>...</td>\n",
       "      <td>...</td>\n",
       "      <td>...</td>\n",
       "    </tr>\n",
       "    <tr>\n",
       "      <th>32346</th>\n",
       "      <td>1010000013.362264</td>\n",
       "      <td>can0</td>\n",
       "      <td>192</td>\n",
       "      <td>2305843009213693952</td>\n",
       "    </tr>\n",
       "    <tr>\n",
       "      <th>32347</th>\n",
       "      <td>1010000013.363290</td>\n",
       "      <td>can0</td>\n",
       "      <td>60</td>\n",
       "      <td>4398969257984</td>\n",
       "    </tr>\n",
       "    <tr>\n",
       "      <th>32348</th>\n",
       "      <td>1010000013.363291</td>\n",
       "      <td>can0</td>\n",
       "      <td>852</td>\n",
       "      <td>2302394940749327872</td>\n",
       "    </tr>\n",
       "    <tr>\n",
       "      <th>32349</th>\n",
       "      <td>1010000013.363292</td>\n",
       "      <td>can0</td>\n",
       "      <td>1314</td>\n",
       "      <td>16104819493018533916</td>\n",
       "    </tr>\n",
       "    <tr>\n",
       "      <th>32350</th>\n",
       "      <td>1010000013.365329</td>\n",
       "      <td>can0</td>\n",
       "      <td>870</td>\n",
       "      <td>9231754722116357688</td>\n",
       "    </tr>\n",
       "  </tbody>\n",
       "</table>\n",
       "<p>32351 rows × 4 columns</p>\n",
       "</div>"
      ],
      "text/plain": [
       "          Unix Timestamp Channel  IDhex             DataFrame\n",
       "0      1010000000.000000    can0     14   2329088892772906424\n",
       "1      1010000000.001070    can0    339           17180655620\n",
       "2      1010000000.002090    can0    661                    64\n",
       "3      1010000000.002091    can0   1634   5683542730815307776\n",
       "4      1010000000.002092    can0    412    645738780979898560\n",
       "...                  ...     ...    ...                   ...\n",
       "32346  1010000013.362264    can0    192   2305843009213693952\n",
       "32347  1010000013.363290    can0     60         4398969257984\n",
       "32348  1010000013.363291    can0    852   2302394940749327872\n",
       "32349  1010000013.363292    can0   1314  16104819493018533916\n",
       "32350  1010000013.365329    can0    870   9231754722116357688\n",
       "\n",
       "[32351 rows x 4 columns]"
      ]
     },
     "execution_count": 12,
     "metadata": {},
     "output_type": "execute_result"
    }
   ],
   "source": [
    "result"
   ]
  },
  {
   "cell_type": "code",
   "execution_count": 13,
   "id": "fc714303",
   "metadata": {
    "colab": {
     "base_uri": "https://localhost:8080/"
    },
    "id": "fc714303",
    "outputId": "7de72b9e-8b5c-4a40-e155-539e6ce1a1b8"
   },
   "outputs": [
    {
     "data": {
      "text/plain": [
       "0"
      ]
     },
     "execution_count": 13,
     "metadata": {},
     "output_type": "execute_result"
    }
   ],
   "source": [
    "#checking is there any null values in dataframe column\n",
    "result['DataFrame'].isnull().sum()\n",
    "#Unix Timestamp\tChannel\tIDhex\tDataFrame"
   ]
  },
  {
   "cell_type": "code",
   "execution_count": 14,
   "id": "ea892421",
   "metadata": {
    "id": "ea892421"
   },
   "outputs": [
    {
     "data": {
      "text/plain": [
       "(32351, 4)"
      ]
     },
     "execution_count": 14,
     "metadata": {},
     "output_type": "execute_result"
    }
   ],
   "source": [
    "#checking the shape of data ,we have 32 tgousand 3 hundred and 51 rows and 4 columns\n",
    "result.shape"
   ]
  },
  {
   "cell_type": "code",
   "execution_count": 15,
   "id": "572407e9",
   "metadata": {
    "id": "572407e9"
   },
   "outputs": [
    {
     "data": {
      "text/plain": [
       "129404"
      ]
     },
     "execution_count": 15,
     "metadata": {},
     "output_type": "execute_result"
    }
   ],
   "source": [
    "#here we have acknowledge that \n",
    "result.size"
   ]
  },
  {
   "cell_type": "code",
   "execution_count": null,
   "id": "6ad3fc72",
   "metadata": {
    "id": "6ad3fc72"
   },
   "outputs": [],
   "source": []
  },
  {
   "cell_type": "code",
   "execution_count": 16,
   "id": "9021dcf5",
   "metadata": {
    "colab": {
     "base_uri": "https://localhost:8080/"
    },
    "id": "9021dcf5",
    "outputId": "508fb6ee-b5f2-4a60-b849-28d6ce29e8b3"
   },
   "outputs": [
    {
     "name": "stdout",
     "output_type": "stream",
     "text": [
      "['1010000000.000000' '1010000000.001070' '1010000000.002090' ...\n",
      " '1010000013.363291' '1010000013.363292' '1010000013.365329']\n",
      "31985\n"
     ]
    }
   ],
   "source": [
    "print(result['Unix Timestamp'].unique())\n",
    "print(result['Unix Timestamp'].nunique())"
   ]
  },
  {
   "cell_type": "code",
   "execution_count": 17,
   "id": "102a640d",
   "metadata": {
    "colab": {
     "base_uri": "https://localhost:8080/"
    },
    "id": "102a640d",
    "outputId": "c12d7c28-dffe-4bee-f77e-7cf22e2a52ba"
   },
   "outputs": [
    {
     "data": {
      "text/plain": [
       "array(['can0'], dtype=object)"
      ]
     },
     "execution_count": 17,
     "metadata": {},
     "output_type": "execute_result"
    }
   ],
   "source": [
    "result['Channel'].unique()"
   ]
  },
  {
   "cell_type": "code",
   "execution_count": 18,
   "id": "6fccc946",
   "metadata": {
    "id": "6fccc946"
   },
   "outputs": [
    {
     "data": {
      "text/html": [
       "<div>\n",
       "<style scoped>\n",
       "    .dataframe tbody tr th:only-of-type {\n",
       "        vertical-align: middle;\n",
       "    }\n",
       "\n",
       "    .dataframe tbody tr th {\n",
       "        vertical-align: top;\n",
       "    }\n",
       "\n",
       "    .dataframe thead th {\n",
       "        text-align: right;\n",
       "    }\n",
       "</style>\n",
       "<table border=\"1\" class=\"dataframe\">\n",
       "  <thead>\n",
       "    <tr style=\"text-align: right;\">\n",
       "      <th></th>\n",
       "      <th>Unix Timestamp</th>\n",
       "      <th>IDhex</th>\n",
       "      <th>DataFrame</th>\n",
       "    </tr>\n",
       "  </thead>\n",
       "  <tbody>\n",
       "    <tr>\n",
       "      <th>0</th>\n",
       "      <td>1010000000.000000</td>\n",
       "      <td>14</td>\n",
       "      <td>2329088892772906424</td>\n",
       "    </tr>\n",
       "    <tr>\n",
       "      <th>1</th>\n",
       "      <td>1010000000.001070</td>\n",
       "      <td>339</td>\n",
       "      <td>17180655620</td>\n",
       "    </tr>\n",
       "    <tr>\n",
       "      <th>2</th>\n",
       "      <td>1010000000.002090</td>\n",
       "      <td>661</td>\n",
       "      <td>64</td>\n",
       "    </tr>\n",
       "    <tr>\n",
       "      <th>3</th>\n",
       "      <td>1010000000.002091</td>\n",
       "      <td>1634</td>\n",
       "      <td>5683542730815307776</td>\n",
       "    </tr>\n",
       "    <tr>\n",
       "      <th>4</th>\n",
       "      <td>1010000000.002092</td>\n",
       "      <td>412</td>\n",
       "      <td>645738780979898560</td>\n",
       "    </tr>\n",
       "    <tr>\n",
       "      <th>...</th>\n",
       "      <td>...</td>\n",
       "      <td>...</td>\n",
       "      <td>...</td>\n",
       "    </tr>\n",
       "    <tr>\n",
       "      <th>32346</th>\n",
       "      <td>1010000013.362264</td>\n",
       "      <td>192</td>\n",
       "      <td>2305843009213693952</td>\n",
       "    </tr>\n",
       "    <tr>\n",
       "      <th>32347</th>\n",
       "      <td>1010000013.363290</td>\n",
       "      <td>60</td>\n",
       "      <td>4398969257984</td>\n",
       "    </tr>\n",
       "    <tr>\n",
       "      <th>32348</th>\n",
       "      <td>1010000013.363291</td>\n",
       "      <td>852</td>\n",
       "      <td>2302394940749327872</td>\n",
       "    </tr>\n",
       "    <tr>\n",
       "      <th>32349</th>\n",
       "      <td>1010000013.363292</td>\n",
       "      <td>1314</td>\n",
       "      <td>16104819493018533916</td>\n",
       "    </tr>\n",
       "    <tr>\n",
       "      <th>32350</th>\n",
       "      <td>1010000013.365329</td>\n",
       "      <td>870</td>\n",
       "      <td>9231754722116357688</td>\n",
       "    </tr>\n",
       "  </tbody>\n",
       "</table>\n",
       "<p>32351 rows × 3 columns</p>\n",
       "</div>"
      ],
      "text/plain": [
       "          Unix Timestamp  IDhex             DataFrame\n",
       "0      1010000000.000000     14   2329088892772906424\n",
       "1      1010000000.001070    339           17180655620\n",
       "2      1010000000.002090    661                    64\n",
       "3      1010000000.002091   1634   5683542730815307776\n",
       "4      1010000000.002092    412    645738780979898560\n",
       "...                  ...    ...                   ...\n",
       "32346  1010000013.362264    192   2305843009213693952\n",
       "32347  1010000013.363290     60         4398969257984\n",
       "32348  1010000013.363291    852   2302394940749327872\n",
       "32349  1010000013.363292   1314  16104819493018533916\n",
       "32350  1010000013.365329    870   9231754722116357688\n",
       "\n",
       "[32351 rows x 3 columns]"
      ]
     },
     "execution_count": 18,
     "metadata": {},
     "output_type": "execute_result"
    }
   ],
   "source": [
    "result = result.loc[:, ~result.columns.str.contains('^Channel')]\n",
    "\n",
    "result"
   ]
  },
  {
   "cell_type": "code",
   "execution_count": 19,
   "id": "c3a0ded5",
   "metadata": {
    "id": "11555ebe"
   },
   "outputs": [],
   "source": [
    "import matplotlib.pyplot as plt\n"
   ]
  },
  {
   "cell_type": "code",
   "execution_count": 20,
   "id": "60038e10",
   "metadata": {
    "id": "60038e10"
   },
   "outputs": [],
   "source": [
    "n =16500  #chunk row size\n",
    "list_df = [result[i:i+n]\n",
    "for i in range(0,result.shape[0],n)]"
   ]
  },
  {
   "cell_type": "code",
   "execution_count": 21,
   "id": "69d6e185",
   "metadata": {
    "colab": {
     "base_uri": "https://localhost:8080/"
    },
    "id": "69d6e185",
    "outputId": "9f21e1d3-1439-4196-b74a-1a67d48d8ad9"
   },
   "outputs": [
    {
     "data": {
      "text/html": [
       "<div>\n",
       "<style scoped>\n",
       "    .dataframe tbody tr th:only-of-type {\n",
       "        vertical-align: middle;\n",
       "    }\n",
       "\n",
       "    .dataframe tbody tr th {\n",
       "        vertical-align: top;\n",
       "    }\n",
       "\n",
       "    .dataframe thead th {\n",
       "        text-align: right;\n",
       "    }\n",
       "</style>\n",
       "<table border=\"1\" class=\"dataframe\">\n",
       "  <thead>\n",
       "    <tr style=\"text-align: right;\">\n",
       "      <th></th>\n",
       "      <th>Unix Timestamp</th>\n",
       "      <th>IDhex</th>\n",
       "      <th>DataFrame</th>\n",
       "    </tr>\n",
       "  </thead>\n",
       "  <tbody>\n",
       "    <tr>\n",
       "      <th>16500</th>\n",
       "      <td>1010000006.891179</td>\n",
       "      <td>1049</td>\n",
       "      <td>764281858369241711</td>\n",
       "    </tr>\n",
       "    <tr>\n",
       "      <th>16501</th>\n",
       "      <td>1010000006.891180</td>\n",
       "      <td>263</td>\n",
       "      <td>0</td>\n",
       "    </tr>\n",
       "    <tr>\n",
       "      <th>16502</th>\n",
       "      <td>1010000006.891181</td>\n",
       "      <td>4095</td>\n",
       "      <td>0</td>\n",
       "    </tr>\n",
       "    <tr>\n",
       "      <th>16503</th>\n",
       "      <td>1010000006.892178</td>\n",
       "      <td>1760</td>\n",
       "      <td>73466081334919425</td>\n",
       "    </tr>\n",
       "    <tr>\n",
       "      <th>16504</th>\n",
       "      <td>1010000006.893191</td>\n",
       "      <td>961</td>\n",
       "      <td>8887044329934170414</td>\n",
       "    </tr>\n",
       "    <tr>\n",
       "      <th>...</th>\n",
       "      <td>...</td>\n",
       "      <td>...</td>\n",
       "      <td>...</td>\n",
       "    </tr>\n",
       "    <tr>\n",
       "      <th>32346</th>\n",
       "      <td>1010000013.362264</td>\n",
       "      <td>192</td>\n",
       "      <td>2305843009213693952</td>\n",
       "    </tr>\n",
       "    <tr>\n",
       "      <th>32347</th>\n",
       "      <td>1010000013.363290</td>\n",
       "      <td>60</td>\n",
       "      <td>4398969257984</td>\n",
       "    </tr>\n",
       "    <tr>\n",
       "      <th>32348</th>\n",
       "      <td>1010000013.363291</td>\n",
       "      <td>852</td>\n",
       "      <td>2302394940749327872</td>\n",
       "    </tr>\n",
       "    <tr>\n",
       "      <th>32349</th>\n",
       "      <td>1010000013.363292</td>\n",
       "      <td>1314</td>\n",
       "      <td>16104819493018533916</td>\n",
       "    </tr>\n",
       "    <tr>\n",
       "      <th>32350</th>\n",
       "      <td>1010000013.365329</td>\n",
       "      <td>870</td>\n",
       "      <td>9231754722116357688</td>\n",
       "    </tr>\n",
       "  </tbody>\n",
       "</table>\n",
       "<p>15851 rows × 3 columns</p>\n",
       "</div>"
      ],
      "text/plain": [
       "          Unix Timestamp  IDhex             DataFrame\n",
       "16500  1010000006.891179   1049    764281858369241711\n",
       "16501  1010000006.891180    263                     0\n",
       "16502  1010000006.891181   4095                     0\n",
       "16503  1010000006.892178   1760     73466081334919425\n",
       "16504  1010000006.893191    961   8887044329934170414\n",
       "...                  ...    ...                   ...\n",
       "32346  1010000013.362264    192   2305843009213693952\n",
       "32347  1010000013.363290     60         4398969257984\n",
       "32348  1010000013.363291    852   2302394940749327872\n",
       "32349  1010000013.363292   1314  16104819493018533916\n",
       "32350  1010000013.365329    870   9231754722116357688\n",
       "\n",
       "[15851 rows x 3 columns]"
      ]
     },
     "execution_count": 21,
     "metadata": {},
     "output_type": "execute_result"
    }
   ],
   "source": [
    "list_df[0]\n",
    "list_df[1]\n"
   ]
  },
  {
   "cell_type": "code",
   "execution_count": 22,
   "id": "037bc615",
   "metadata": {
    "colab": {
     "base_uri": "https://localhost:8080/"
    },
    "id": "037bc615",
    "outputId": "c87cd1a4-31dd-4beb-c929-3924e1d063f5"
   },
   "outputs": [
    {
     "data": {
      "text/plain": [
       "(16500, 3)"
      ]
     },
     "execution_count": 22,
     "metadata": {},
     "output_type": "execute_result"
    }
   ],
   "source": [
    "res=list_df[0]\n",
    "res.shape"
   ]
  },
  {
   "cell_type": "code",
   "execution_count": 23,
   "id": "4c93c47f",
   "metadata": {
    "colab": {
     "base_uri": "https://localhost:8080/"
    },
    "id": "4c93c47f",
    "outputId": "12422f39-385f-4436-9814-8921a8c205d4"
   },
   "outputs": [
    {
     "data": {
      "text/plain": [
       "array([['1010000000.000000', 14, 2329088892772906424],\n",
       "       ['1010000000.001070', 339, 17180655620],\n",
       "       ['1010000000.002090', 661, 64],\n",
       "       ...,\n",
       "       ['1010000006.889139', 14, 2329018524028728894],\n",
       "       ['1010000006.890159', 208, 3059928081801225216],\n",
       "       ['1010000006.891178', 51, 2172635198785488]], dtype=object)"
      ]
     },
     "execution_count": 23,
     "metadata": {},
     "output_type": "execute_result"
    }
   ],
   "source": [
    "X = res.iloc[:, :3].values\n",
    "X"
   ]
  },
  {
   "cell_type": "code",
   "execution_count": 24,
   "id": "77a4576d",
   "metadata": {
    "colab": {
     "base_uri": "https://localhost:8080/",
     "height": 417
    },
    "id": "77a4576d",
    "outputId": "8bb08573-e5e7-4c7b-e359-652a7aa02891"
   },
   "outputs": [
    {
     "data": {
      "text/plain": [
       "array([2329088892772906424,         17180655620,                  64, ...,\n",
       "       2329018524028728894, 3059928081801225216,    2172635198785488],\n",
       "      dtype=uint64)"
      ]
     },
     "execution_count": 24,
     "metadata": {},
     "output_type": "execute_result"
    }
   ],
   "source": [
    "y = res.iloc[:, 2].values\n",
    "y"
   ]
  },
  {
   "cell_type": "markdown",
   "id": "48b977dc",
   "metadata": {
    "id": "48b977dc"
   },
   "source": [
    "\n"
   ]
  },
  {
   "cell_type": "code",
   "execution_count": 25,
   "id": "db934255",
   "metadata": {
    "id": "7e361055"
   },
   "outputs": [
    {
     "name": "stdout",
     "output_type": "stream",
     "text": [
      "[['1010000000.000000' 14 2329088892772906424]\n",
      " ['1010000000.001070' 339 17180655620]\n",
      " ['1010000000.002090' 661 64]\n",
      " ...\n",
      " ['1010000006.889139' 14 2329018524028728894]\n",
      " ['1010000006.890159' 208 3059928081801225216]\n",
      " ['1010000006.891178' 51 2172635198785488]]\n",
      "[2329088892772906424         17180655620                  64 ...\n",
      " 2329018524028728894 3059928081801225216    2172635198785488]\n"
     ]
    }
   ],
   "source": [
    "print(X)\n",
    "print(y)"
   ]
  },
  {
   "cell_type": "code",
   "execution_count": 26,
   "id": "079738bf",
   "metadata": {
    "id": "079738bf"
   },
   "outputs": [],
   "source": [
    "from sklearn import metrics\n",
    "from sklearn.metrics import accuracy_score\n",
    "from sklearn.ensemble import RandomForestClassifier\n",
    "from sklearn.ensemble import RandomForestClassifier\n",
    "from sklearn.neighbors import KNeighborsClassifier\n",
    "from sklearn.tree import DecisionTreeClassifier\n",
    "from sklearn.model_selection import GridSearchCV\n",
    "from sklearn.metrics import confusion_matrix, classification_report\n",
    "from sklearn.model_selection import train_test_split\n",
    "X_train, X_test, y_train, y_test = train_test_split(X, y, test_size = 0.3, random_state = 0)"
   ]
  },
  {
   "cell_type": "markdown",
   "id": "09e7845f",
   "metadata": {
    "id": "P0Jv09Ee15od"
   },
   "source": [
    "# RANDOM FOREST"
   ]
  },
  {
   "cell_type": "code",
   "execution_count": 27,
   "id": "xgFyQA602OXx",
   "metadata": {
    "colab": {
     "base_uri": "https://localhost:8080/",
     "height": 417
    },
    "id": "xgFyQA602OXx",
    "outputId": "a09d769e-eb54-4611-bb1e-38ef02b9e78c"
   },
   "outputs": [
    {
     "name": "stdout",
     "output_type": "stream",
     "text": [
      "Accuracy From Random Forest:  0.6032323232323232 \n",
      "\n"
     ]
    }
   ],
   "source": [
    "from sklearn import metrics\n",
    "model= RandomForestClassifier()\n",
    "model.fit(X_train,y_train)\n",
    "prediction=model.predict(X_test)\n",
    "print('Accuracy From Random Forest: ', accuracy_score(y_test, prediction), '\\n')\n"
   ]
  },
  {
   "cell_type": "markdown",
   "id": "36d6087d",
   "metadata": {
    "colab": {
     "base_uri": "https://localhost:8080/",
     "height": 417
    },
    "id": "DjCgU6-J2UD_",
    "outputId": "20c41301-6e7c-4a1a-a3fd-3b9356132029"
   },
   "source": [
    "# KNN"
   ]
  },
  {
   "cell_type": "code",
   "execution_count": 28,
   "id": "d2049218",
   "metadata": {
    "colab": {
     "base_uri": "https://localhost:8080/"
    },
    "id": "d2049218",
    "outputId": "b6867690-7011-4988-d99b-d8418d9309eb"
   },
   "outputs": [
    {
     "name": "stdout",
     "output_type": "stream",
     "text": [
      "Accuracy From KNN:  0.794949494949495\n"
     ]
    }
   ],
   "source": [
    "knn1 = KNeighborsClassifier(n_neighbors=1)\n",
    "knn1.fit(X_train, y_train)\n",
    "\n",
    "prediction=knn1.predict(X_test)\n",
    "\n",
    "print('Accuracy From KNN: ', accuracy_score(y_test, prediction))\n",
    "\n"
   ]
  },
  {
   "cell_type": "markdown",
   "id": "599f4fb0",
   "metadata": {
    "id": "6_3dWPLI139K"
   },
   "source": [
    "# DECISION TREE"
   ]
  },
  {
   "cell_type": "code",
   "execution_count": 29,
   "id": "e404463d",
   "metadata": {
    "colab": {
     "base_uri": "https://localhost:8080/"
    },
    "id": "e404463d",
    "outputId": "2bf81310-c1d8-4da7-89a4-f78f41bf3475"
   },
   "outputs": [
    {
     "name": "stdout",
     "output_type": "stream",
     "text": [
      "Accuracy DEcision Tree:  0.6034343434343434\n"
     ]
    }
   ],
   "source": [
    "DT = DecisionTreeClassifier()\n",
    "DT.fit(X_train, y_train)\n",
    "prediction=DT.predict(X_test)\n",
    "print('Accuracy DEcision Tree: ', accuracy_score(y_test, prediction))  \n",
    "\n",
    "\n"
   ]
  },
  {
   "cell_type": "code",
   "execution_count": 30,
   "id": "53d45077",
   "metadata": {
    "colab": {
     "base_uri": "https://localhost:8080/"
    },
    "id": "53d45077",
    "outputId": "23f4afad-893d-49ff-a631-5a6bf2156c77",
    "scrolled": true
   },
   "outputs": [],
   "source": [
    "from sklearn import metrics\n",
    "from sklearn import svm\n",
    "from sklearn.svm import SVC\n",
    "from sklearn.metrics import accuracy_score\n",
    "\n",
    "\n",
    "\n"
   ]
  },
  {
   "cell_type": "markdown",
   "id": "7e51a4b5",
   "metadata": {},
   "source": [
    "# SVM"
   ]
  },
  {
   "cell_type": "code",
   "execution_count": 33,
   "id": "e8823d33",
   "metadata": {
    "id": "e8823d33"
   },
   "outputs": [
    {
     "name": "stdout",
     "output_type": "stream",
     "text": [
      "Accuracy:  0.21474747474747474 \n",
      "\n"
     ]
    }
   ],
   "source": [
    "svm_m=SVC()\n",
    "svm_m.fit(X_train,y_train)\n",
    "prediction=svm_m.predict(X_test)\n",
    "print('Accuracy: ', accuracy_score(y_test, prediction), '\\n')\n",
    "\n"
   ]
  },
  {
   "cell_type": "markdown",
   "id": "b48b3c22",
   "metadata": {
    "id": "a74a98ab"
   },
   "source": [
    "# SECOND CHUNK"
   ]
  },
  {
   "cell_type": "code",
   "execution_count": 31,
   "id": "ecd1ce51",
   "metadata": {
    "id": "ecd1ce51"
   },
   "outputs": [
    {
     "data": {
      "text/html": [
       "<div>\n",
       "<style scoped>\n",
       "    .dataframe tbody tr th:only-of-type {\n",
       "        vertical-align: middle;\n",
       "    }\n",
       "\n",
       "    .dataframe tbody tr th {\n",
       "        vertical-align: top;\n",
       "    }\n",
       "\n",
       "    .dataframe thead th {\n",
       "        text-align: right;\n",
       "    }\n",
       "</style>\n",
       "<table border=\"1\" class=\"dataframe\">\n",
       "  <thead>\n",
       "    <tr style=\"text-align: right;\">\n",
       "      <th></th>\n",
       "      <th>Unix Timestamp</th>\n",
       "      <th>IDhex</th>\n",
       "      <th>DataFrame</th>\n",
       "    </tr>\n",
       "  </thead>\n",
       "  <tbody>\n",
       "    <tr>\n",
       "      <th>16500</th>\n",
       "      <td>1010000006.891179</td>\n",
       "      <td>1049</td>\n",
       "      <td>764281858369241711</td>\n",
       "    </tr>\n",
       "    <tr>\n",
       "      <th>16501</th>\n",
       "      <td>1010000006.891180</td>\n",
       "      <td>263</td>\n",
       "      <td>0</td>\n",
       "    </tr>\n",
       "    <tr>\n",
       "      <th>16502</th>\n",
       "      <td>1010000006.891181</td>\n",
       "      <td>4095</td>\n",
       "      <td>0</td>\n",
       "    </tr>\n",
       "    <tr>\n",
       "      <th>16503</th>\n",
       "      <td>1010000006.892178</td>\n",
       "      <td>1760</td>\n",
       "      <td>73466081334919425</td>\n",
       "    </tr>\n",
       "    <tr>\n",
       "      <th>16504</th>\n",
       "      <td>1010000006.893191</td>\n",
       "      <td>961</td>\n",
       "      <td>8887044329934170414</td>\n",
       "    </tr>\n",
       "    <tr>\n",
       "      <th>...</th>\n",
       "      <td>...</td>\n",
       "      <td>...</td>\n",
       "      <td>...</td>\n",
       "    </tr>\n",
       "    <tr>\n",
       "      <th>32346</th>\n",
       "      <td>1010000013.362264</td>\n",
       "      <td>192</td>\n",
       "      <td>2305843009213693952</td>\n",
       "    </tr>\n",
       "    <tr>\n",
       "      <th>32347</th>\n",
       "      <td>1010000013.363290</td>\n",
       "      <td>60</td>\n",
       "      <td>4398969257984</td>\n",
       "    </tr>\n",
       "    <tr>\n",
       "      <th>32348</th>\n",
       "      <td>1010000013.363291</td>\n",
       "      <td>852</td>\n",
       "      <td>2302394940749327872</td>\n",
       "    </tr>\n",
       "    <tr>\n",
       "      <th>32349</th>\n",
       "      <td>1010000013.363292</td>\n",
       "      <td>1314</td>\n",
       "      <td>16104819493018533916</td>\n",
       "    </tr>\n",
       "    <tr>\n",
       "      <th>32350</th>\n",
       "      <td>1010000013.365329</td>\n",
       "      <td>870</td>\n",
       "      <td>9231754722116357688</td>\n",
       "    </tr>\n",
       "  </tbody>\n",
       "</table>\n",
       "<p>15851 rows × 3 columns</p>\n",
       "</div>"
      ],
      "text/plain": [
       "          Unix Timestamp  IDhex             DataFrame\n",
       "16500  1010000006.891179   1049    764281858369241711\n",
       "16501  1010000006.891180    263                     0\n",
       "16502  1010000006.891181   4095                     0\n",
       "16503  1010000006.892178   1760     73466081334919425\n",
       "16504  1010000006.893191    961   8887044329934170414\n",
       "...                  ...    ...                   ...\n",
       "32346  1010000013.362264    192   2305843009213693952\n",
       "32347  1010000013.363290     60         4398969257984\n",
       "32348  1010000013.363291    852   2302394940749327872\n",
       "32349  1010000013.363292   1314  16104819493018533916\n",
       "32350  1010000013.365329    870   9231754722116357688\n",
       "\n",
       "[15851 rows x 3 columns]"
      ]
     },
     "execution_count": 31,
     "metadata": {},
     "output_type": "execute_result"
    }
   ],
   "source": [
    "\n",
    "res2=list_df[1]\n",
    "res2"
   ]
  },
  {
   "cell_type": "code",
   "execution_count": 32,
   "id": "7054eb39",
   "metadata": {
    "id": "7054eb39"
   },
   "outputs": [
    {
     "data": {
      "text/plain": [
       "array([['1010000006.891179', 1049, 764281858369241711],\n",
       "       ['1010000006.891180', 263, 0],\n",
       "       ['1010000006.891181', 4095, 0],\n",
       "       ...,\n",
       "       ['1010000013.363291', 852, 2302394940749327872],\n",
       "       ['1010000013.363292', 1314, 16104819493018533916],\n",
       "       ['1010000013.365329', 870, 9231754722116357688]], dtype=object)"
      ]
     },
     "execution_count": 32,
     "metadata": {},
     "output_type": "execute_result"
    }
   ],
   "source": [
    "X = res2.iloc[:, :3].values\n",
    "X"
   ]
  },
  {
   "cell_type": "code",
   "execution_count": 33,
   "id": "86354d85",
   "metadata": {
    "id": "86354d85"
   },
   "outputs": [
    {
     "data": {
      "text/plain": [
       "array([  764281858369241711,                    0,                    0,\n",
       "       ...,  2302394940749327872, 16104819493018533916,\n",
       "        9231754722116357688], dtype=uint64)"
      ]
     },
     "execution_count": 33,
     "metadata": {},
     "output_type": "execute_result"
    }
   ],
   "source": [
    "y = res2.iloc[:,2].values\n",
    "y"
   ]
  },
  {
   "cell_type": "code",
   "execution_count": 34,
   "id": "3dce403b",
   "metadata": {
    "id": "3dce403b"
   },
   "outputs": [
    {
     "data": {
      "text/plain": [
       "(15851, 3)"
      ]
     },
     "execution_count": 34,
     "metadata": {},
     "output_type": "execute_result"
    }
   ],
   "source": [
    "res2.shape"
   ]
  },
  {
   "cell_type": "markdown",
   "id": "164fe0f4",
   "metadata": {
    "id": "3fd0d488"
   },
   "source": [
    "# RANDOM FOREST"
   ]
  },
  {
   "cell_type": "code",
   "execution_count": 35,
   "id": "1a9ac108",
   "metadata": {
    "id": "1a9ac108"
   },
   "outputs": [
    {
     "name": "stdout",
     "output_type": "stream",
     "text": [
      "Accuracy From Random Forest:  0.6026262626262626 \n",
      "\n"
     ]
    }
   ],
   "source": [
    "from sklearn import metrics\n",
    "model2= RandomForestClassifier()\n",
    "model2.fit(X_train,y_train)\n",
    "prediction=model2.predict(X_test)\n",
    "print('Accuracy From Random Forest: ', accuracy_score(y_test, prediction), '\\n')\n",
    "\n"
   ]
  },
  {
   "cell_type": "markdown",
   "id": "b70ef2eb",
   "metadata": {
    "id": "afe9056c"
   },
   "source": [
    "# KNN"
   ]
  },
  {
   "cell_type": "code",
   "execution_count": 36,
   "id": "7e5dc3e3",
   "metadata": {
    "id": "7e5dc3e3"
   },
   "outputs": [
    {
     "name": "stdout",
     "output_type": "stream",
     "text": [
      "Accuracy From KNN:  0.794949494949495\n"
     ]
    }
   ],
   "source": [
    "knn2 = KNeighborsClassifier(n_neighbors=1)\n",
    "knn2.fit(X_train, y_train)\n",
    "\n",
    "prediction=knn2.predict(X_test)\n",
    "\n",
    "print('Accuracy From KNN: ', accuracy_score(y_test, prediction))\n",
    "\n"
   ]
  },
  {
   "cell_type": "markdown",
   "id": "ee59059d",
   "metadata": {},
   "source": [
    "# DECISION TREE"
   ]
  },
  {
   "cell_type": "code",
   "execution_count": 37,
   "id": "d8caeb0e",
   "metadata": {},
   "outputs": [
    {
     "name": "stdout",
     "output_type": "stream",
     "text": [
      "Accuracy DEcision Tree:  0.6034343434343434\n"
     ]
    }
   ],
   "source": [
    "DT = DecisionTreeClassifier()\n",
    "DT.fit(X_train, y_train)\n",
    "prediction=DT.predict(X_test)\n",
    "print('Accuracy DEcision Tree: ', accuracy_score(y_test, prediction))\n",
    "\n",
    "\n"
   ]
  },
  {
   "cell_type": "markdown",
   "id": "b79139ae",
   "metadata": {},
   "source": [
    "# SVM"
   ]
  },
  {
   "cell_type": "code",
   "execution_count": 63,
   "id": "5588cb4c",
   "metadata": {
    "id": "5588cb4c"
   },
   "outputs": [
    {
     "name": "stdout",
     "output_type": "stream",
     "text": [
      "Accuracy:  0.20895238095238095 \n",
      "\n"
     ]
    }
   ],
   "source": [
    "svm_m2=SVC()\n",
    "svm_m2.fit(X_train,y_train)\n",
    "prediction=svm_m2.predict(X_test)\n",
    "print('Accuracy: ', accuracy_score(y_test, prediction), '\\n')\n"
   ]
  },
  {
   "cell_type": "code",
   "execution_count": 38,
   "id": "1d684677",
   "metadata": {},
   "outputs": [
    {
     "data": {
      "text/plain": [
       "(16500, 3)"
      ]
     },
     "execution_count": 38,
     "metadata": {},
     "output_type": "execute_result"
    }
   ],
   "source": [
    "res=list_df[0]\n",
    "res.shape"
   ]
  },
  {
   "cell_type": "markdown",
   "id": "746e3b9d",
   "metadata": {
    "id": "3af9b23a"
   },
   "source": [
    "# Hyper parameter Tunning:"
   ]
  },
  {
   "cell_type": "markdown",
   "id": "867c2a83",
   "metadata": {},
   "source": [
    "# KNN:"
   ]
  },
  {
   "cell_type": "code",
   "execution_count": 41,
   "id": "3a8b9ec2",
   "metadata": {},
   "outputs": [],
   "source": [
    "import warnings\n",
    "warnings.filterwarnings('ignore')\n",
    "from sklearn.preprocessing import StandardScaler\n",
    "from sklearn.model_selection import cross_val_score"
   ]
  },
  {
   "cell_type": "code",
   "execution_count": 42,
   "id": "26e85f05",
   "metadata": {
    "id": "26e85f05"
   },
   "outputs": [
    {
     "name": "stdout",
     "output_type": "stream",
     "text": [
      "All Accuracies:  [0.74022699 0.74905422 0.77175284 0.7667087  0.76166456 0.76040353\n",
      " 0.77427491 0.77553594 0.78814628 0.77553594 0.76796974 0.7739899\n",
      " 0.78030303 0.76010101 0.76388889 0.76262626 0.74242424 0.75378788\n",
      " 0.76767677 0.73863636] \n",
      "\n",
      "Mean of all Accuracies:  0.7637353993911372 \n",
      "\n",
      "Standard Deviation:  0.01313928753729028\n"
     ]
    },
    {
     "data": {
      "text/plain": [
       "Text(0, 0.5, 'Cross-Validated Accuracy')"
      ]
     },
     "execution_count": 42,
     "metadata": {},
     "output_type": "execute_result"
    },
    {
     "data": {
      "image/png": "[encoded data removed]",
      "text/plain": [
       "<Figure size 432x288 with 1 Axes>"
      ]
     },
     "metadata": {
      "needs_background": "light"
     },
     "output_type": "display_data"
    }
   ],
   "source": [
    "knn = KNeighborsClassifier(n_neighbors=1)\n",
    "\n",
    "scores = cross_val_score(knn, X, y, cv=20, scoring='accuracy')\n",
    "print('All Accuracies: ', scores, '\\n')\n",
    "\n",
    "print('Mean of all Accuracies: ', scores.mean(), '\\n')\n",
    "print('Standard Deviation: ', scores.std())\n",
    "\n",
    "plt.plot(scores)\n",
    "plt.xlabel('Value of K for KNN for Fuzzing Attack 2')\n",
    "plt.ylabel('Cross-Validated Accuracy')\n"
   ]
  },
  {
   "cell_type": "code",
   "execution_count": 45,
   "id": "5f90df89",
   "metadata": {},
   "outputs": [
    {
     "name": "stdout",
     "output_type": "stream",
     "text": [
      "All Accuracies:  [0.62110727 0.64013841 0.64013841 0.65916955 0.66608997 0.65397924\n",
      " 0.63321799 0.64532872 0.66262976 0.64532872 0.65337955 0.64298094\n",
      " 0.67244367 0.66377816 0.70017331 0.64124783 0.65857886 0.64644714\n",
      " 0.64644714 0.65337955] \n",
      "\n",
      "Mean of all Accuracies:  0.6522992090097329 \n",
      "\n",
      "Standard Deviation:  0.016164196781748696\n"
     ]
    },
    {
     "data": {
      "text/plain": [
       "Text(0, 0.5, 'Cross-Validated Accuracy')"
      ]
     },
     "execution_count": 45,
     "metadata": {},
     "output_type": "execute_result"
    },
    {
     "data": {
      "image/png": "[encoded data removed]",
      "text/plain": [
       "<Figure size 432x288 with 1 Axes>"
      ]
     },
     "metadata": {
      "needs_background": "light"
     },
     "output_type": "display_data"
    }
   ],
   "source": [
    "feature_scaler = StandardScaler()\n",
    "X_train = feature_scaler.fit_transform(X_train)\n",
    "X_test = feature_scaler.transform(X_test)\n",
    "\n",
    "classifier = DecisionTreeClassifier(criterion =\"entropy\", splitter =\"random\", max_depth =5,  min_samples_split =5,\n",
    "                              min_samples_leaf =2, max_features =2)\n",
    "\n",
    "all_accuracies = cross_val_score(estimator=DT, X=X_train, y=y_train, cv=20)\n",
    "\n",
    "print('All Accuracies: ', all_accuracies, '\\n')\n",
    "\n",
    "print('Mean of all Accuracies: ', all_accuracies.mean(), '\\n')\n",
    "print('Standard Deviation: ', all_accuracies.std())\n",
    "\n",
    "plt.plot(all_accuracies)\n",
    "plt.xlabel('Values Of DT For Fuzzing Attack 2')\n",
    "plt.ylabel('Cross-Validated Accuracy')\n"
   ]
  },
  {
   "cell_type": "code",
   "execution_count": 46,
   "id": "650c9069",
   "metadata": {},
   "outputs": [
    {
     "name": "stdout",
     "output_type": "stream",
     "text": [
      "All Accuracies:  [0.52941176 0.55536332 0.56401384 0.57093426 0.57266436 0.56920415\n",
      " 0.56055363 0.56401384 0.58477509 0.54152249 0.57365685 0.56152513\n",
      " 0.59098787 0.57019064 0.60831889 0.57712305 0.55285962 0.55112652\n",
      " 0.55285962 0.58232236] \n",
      "\n",
      "Mean of all Accuracies:  0.5666713642333271\n",
      "Standard Deviation:  0.017290534934446097\n"
     ]
    },
    {
     "data": {
      "text/plain": [
       "Text(0, 0.5, 'Cross- Validated Accuracy')"
      ]
     },
     "execution_count": 46,
     "metadata": {},
     "output_type": "execute_result"
    },
    {
     "data": {
      "image/png": "[encoded data removed]",
      "text/plain": [
       "<Figure size 432x288 with 1 Axes>"
      ]
     },
     "metadata": {
      "needs_background": "light"
     },
     "output_type": "display_data"
    }
   ],
   "source": [
    "feature_scaler = StandardScaler()\n",
    "X_train = feature_scaler.fit_transform(X_train)\n",
    "X_test = feature_scaler.transform(X_test)\n",
    "\n",
    "classifier = RandomForestClassifier(n_estimators=25, random_state=0)\n",
    "\n",
    "all_accuracies = cross_val_score(estimator=classifier, X=X_train, y=y_train, cv=20)\n",
    "\n",
    "print('All Accuracies: ', all_accuracies, '\\n')\n",
    "\n",
    "print('Mean of all Accuracies: ', all_accuracies.mean())\n",
    "print('Standard Deviation: ', all_accuracies.std())\n",
    "\n",
    "plt.plot(all_accuracies)\n",
    "plt.xlabel('Values Of Rf in Fuzzing Attack 2')\n",
    "plt.ylabel('Cross- Validated Accuracy')\n"
   ]
  },
  {
   "cell_type": "code",
   "execution_count": null,
   "id": "0e254d09",
   "metadata": {
    "id": "0e254d09"
   },
   "outputs": [],
   "source": []
  },
  {
   "cell_type": "code",
   "execution_count": null,
   "id": "30f4c188",
   "metadata": {},
   "outputs": [],
   "source": []
  },
  {
   "cell_type": "code",
   "execution_count": null,
   "id": "673b0101",
   "metadata": {},
   "outputs": [],
   "source": []
  },
  {
   "cell_type": "code",
   "execution_count": null,
   "id": "e4cbb18e",
   "metadata": {},
   "outputs": [],
   "source": []
  },
  {
   "cell_type": "code",
   "execution_count": null,
   "id": "34a20084",
   "metadata": {},
   "outputs": [],
   "source": []
  },
  {
   "cell_type": "code",
   "execution_count": null,
   "id": "51a53bc6",
   "metadata": {},
   "outputs": [],
   "source": []
  },
  {
   "cell_type": "code",
   "execution_count": null,
   "id": "0048a508",
   "metadata": {},
   "outputs": [],
   "source": []
  },
  {
   "cell_type": "code",
   "execution_count": null,
   "id": "62e8ed60",
   "metadata": {},
   "outputs": [],
   "source": []
  }
 ],
 "metadata": {
  "colab": {
   "collapsed_sections": [],
   "name": "fuzzing_attack_ALL_ALGO.ipynb",
   "provenance": []
  },
  "kernelspec": {
   "display_name": "Python 3",
   "language": "python",
   "name": "python3"
  },
  "language_info": {
   "codemirror_mode": {
    "name": "ipython",
    "version": 3
   },
   "file_extension": ".py",
   "mimetype": "text/x-python",
   "name": "python",
   "nbconvert_exporter": "python",
   "pygments_lexer": "ipython3",
   "version": "3.8.8"
  }
 },
 "nbformat": 4,
 "nbformat_minor": 5
}
