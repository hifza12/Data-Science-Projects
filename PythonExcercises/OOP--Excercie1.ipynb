{
 "cells": [
  {
   "cell_type": "markdown",
   "id": "71a1bb80",
   "metadata": {},
   "source": [
    "**Python Object-oriented programming (OOP)** is based on the concept of “objects,” which can contain data and code: data in the form of instance variables (often known as attributes or properties), and code, in the form method. I.e., Using OOP, we encapsulate related properties and behaviors into individual objects\n",
    "\n",
    "\n",
    "\n",
    "This OOP exercise covers questions on the following topics:\n",
    "\n",
    "* Class and Object creation\n",
    "* Instance variables and Methods, and Class level attributes\n",
    "* Model systems with class inheritance i.e., inherit From Other Classes\n",
    "* Parent Classes and Child Classes\n",
    "* Extend the functionality of Parent Classes using Child class\n",
    "* Object checking"
   ]
  },
  {
   "cell_type": "markdown",
   "id": "9fbfb63c",
   "metadata": {},
   "source": [
    "**OOP Exercise 2:Create a Class with instance attributes**  \n",
    "Write a Python program to create a Vehicle class with max_speed and mileage instance attributes.\n",
    "\n"
   ]
  },
  {
   "cell_type": "code",
   "execution_count": 3,
   "id": "565f5b6a",
   "metadata": {},
   "outputs": [
    {
     "name": "stdout",
     "output_type": "stream",
     "text": [
      "240 180\n"
     ]
    }
   ],
   "source": [
    "class Vehicle:\n",
    "    def __init__(self,max_speed,mileage):\n",
    "        self.max_speed=max_speed\n",
    "        self.mileage=mileage\n",
    "vehi_obj=Vehicle(240,180)\n",
    "print(vehi_obj.max_speed,vehi_obj.mileage)\n"
   ]
  },
  {
   "cell_type": "markdown",
   "id": "3091b76f",
   "metadata": {},
   "source": [
    "**OOP Exercise 2: Create a Vehicle class without any variables and methods**"
   ]
  },
  {
   "cell_type": "code",
   "execution_count": 4,
   "id": "41da33f7",
   "metadata": {},
   "outputs": [],
   "source": [
    "class Vehicle:\n",
    "    pass"
   ]
  },
  {
   "cell_type": "markdown",
   "id": "5489195b",
   "metadata": {},
   "source": [
    "**OOP Exercise 3: Create a child class Bus that will inherit all of the variables and methods of the Vehicle class**"
   ]
  },
  {
   "cell_type": "code",
   "execution_count": 13,
   "id": "b9dce597",
   "metadata": {},
   "outputs": [
    {
     "name": "stdout",
     "output_type": "stream",
     "text": [
      "Vehicle name:  civic vehicle speed : 250 vehicle mileage:  220\n"
     ]
    }
   ],
   "source": [
    "class Vehicle:\n",
    "    def __init__(self,name,max_speed,mileage):\n",
    "        self.name=name\n",
    "        self.max_speed=max_speed\n",
    "        self.mileage=mileage\n",
    "        \n",
    "class Bus(Vehicle):\n",
    "    pass\n",
    "\n",
    "\n",
    "b=Bus(\"civic\",250,220)\n",
    "print(\"Vehicle name: \",b.name,\"vehicle speed :\",b.max_speed,\"vehicle mileage: \",b.mileage)"
   ]
  },
  {
   "cell_type": "markdown",
   "id": "e01b6a62",
   "metadata": {},
   "source": [
    "**OOP Exercise 4: Class Inheritance: Create a Bus class that inherits from the Vehicle class. Give the capacity argument of Bus.seating_capacity() a default value of 50.**"
   ]
  },
  {
   "cell_type": "code",
   "execution_count": 28,
   "id": "283da00c",
   "metadata": {},
   "outputs": [
    {
     "name": "stdout",
     "output_type": "stream",
     "text": [
      " the seacting capacity of a Civic is 50 passengers\n"
     ]
    }
   ],
   "source": [
    "class vehicle:\n",
    "    def __init__(self,name,max_speed,mileage):\n",
    "        self.name=name\n",
    "        self.max_speed=max_speed\n",
    "        self.mileage=mileage\n",
    "    def setting_capacity(self,capacity):\n",
    "        return f\" the seacting capacity of a {self.name} is {capacity} passengers\"\n",
    "            \n",
    "            \n",
    "class bus(vehicle):\n",
    "    def setting_capacity(self,capacity=50):\n",
    "        return super().setting_capacity(capacity=50)\n",
    "c=bus(\"Civic\",245,123)\n",
    "print(c.setting_capacity())"
   ]
  },
  {
   "cell_type": "markdown",
   "id": "298a4403",
   "metadata": {},
   "source": [
    "**OOP Exercise 5: Define a property that must have the same value for every class instance (object)\n",
    "Define a class attribute”color” with a default value white. I.e., Every Vehicle should be white.**\n"
   ]
  },
  {
   "cell_type": "code",
   "execution_count": 37,
   "id": "0e7ce1a2",
   "metadata": {},
   "outputs": [
    {
     "name": "stdout",
     "output_type": "stream",
     "text": [
      "Vehicle name:  honda vehicle speed : 224 vehicle mileage:  123 vehicle color is : white\n",
      "Vehicle name:  civic vehicle speed : 430 vehicle mileage:  260 vehicle color is : white\n"
     ]
    }
   ],
   "source": [
    "class Vehicle:\n",
    "    color=\"white\"\n",
    "    def __init__(self,name,max_speed,mileage):\n",
    "        self.name=name\n",
    "        self.max_speed=max_speed\n",
    "        self.mileage=mileage\n",
    "       \n",
    "class Bus(Vehicle):\n",
    "    pass\n",
    "class Car(Vehicle):\n",
    "    pass\n",
    "\n",
    "b=Bus(\"honda\",224,123)\n",
    "c=Car(\"civic\",430,260)\n",
    "print(\"Vehicle name: \",b.name,\"vehicle speed :\",b.max_speed,\"vehicle mileage: \",b.mileage, \"vehicle color is :\",b.color)\n",
    "print(\"Vehicle name: \",c.name,\"vehicle speed :\",c.max_speed,\"vehicle mileage: \",c.mileage, \"vehicle color is :\",c.color)"
   ]
  },
  {
   "cell_type": "markdown",
   "id": "e71e43e8",
   "metadata": {},
   "source": [
    "**OOP Exercise 6: Class Inheritance --- Create a Bus child class that inherits from the Vehicle class. The default fare charge of any vehicle is seating capacity * 100. If Vehicle is Bus instance, we need to add an extra 10% on full fare as a maintenance charge. So total fare for bus instance will become the final amount = total fare + 10% of the total fare.**"
   ]
  },
  {
   "cell_type": "code",
   "execution_count": 71,
   "id": "460fee5d",
   "metadata": {},
   "outputs": [
    {
     "name": "stdout",
     "output_type": "stream",
     "text": [
      "5500.0\n"
     ]
    }
   ],
   "source": [
    "class vehicle:\n",
    "    def __init__(self,name,mileage,capacity):\n",
    "         self.name=name\n",
    "         self.mileage=mileage\n",
    "         self.capacity=capacity\n",
    "    def fare(self):\n",
    "         return self.capacity * 100\n",
    "    \n",
    "    \n",
    "    \n",
    "class bus(vehicle):\n",
    "    def far(self):\n",
    "        amount= super().fare()\n",
    "        amount += amount * 10 / 100\n",
    "        return amount\n",
    "c=bus(\"honda\",12,50)\n",
    "print(c.far())"
   ]
  },
  {
   "cell_type": "markdown",
   "id": "7016c0e2",
   "metadata": {},
   "source": [
    "**OOP Exercise 7: Check type of an object**"
   ]
  },
  {
   "cell_type": "code",
   "execution_count": 73,
   "id": "e3eba7c9",
   "metadata": {},
   "outputs": [
    {
     "name": "stdout",
     "output_type": "stream",
     "text": [
      "<class '__main__.bus'>\n"
     ]
    }
   ],
   "source": [
    "class vehicle:\n",
    "    def __init__(self,name,mileage):\n",
    "        self.name=name\n",
    "        self.mileage=mileage\n",
    "class bus(vehicle):\n",
    "    pass\n",
    "c=bus(\"honda\",123)\n",
    "print(type(c))"
   ]
  },
  {
   "cell_type": "markdown",
   "id": "54c1e98b",
   "metadata": {},
   "source": [
    "**OOP Exercise 8: Determine if School_bus is also an instance of the Vehicle class**"
   ]
  },
  {
   "cell_type": "code",
   "execution_count": 77,
   "id": "bcae086e",
   "metadata": {},
   "outputs": [
    {
     "name": "stdout",
     "output_type": "stream",
     "text": [
      "<class '__main__.vehicle'>\n"
     ]
    }
   ],
   "source": [
    "class vehicle:\n",
    "    def __init__(self,name,mileage):\n",
    "        self.name=name\n",
    "        self.mileage=mileage\n",
    "class bus(vehicle):\n",
    "    pass\n",
    "#School_bus=bus(\"honda\",123)\n",
    "School_bus=vehicle(School_bus.name,School_bus.mileage)\n",
    "print(type(School_bus))"
   ]
  },
  {
   "cell_type": "code",
   "execution_count": 80,
   "id": "c5ca6343",
   "metadata": {},
   "outputs": [
    {
     "name": "stdout",
     "output_type": "stream",
     "text": [
      "True\n"
     ]
    }
   ],
   "source": [
    "print(isinstance(School_bus,vehicle))"
   ]
  },
  {
   "cell_type": "code",
   "execution_count": null,
   "id": "de5172e9",
   "metadata": {},
   "outputs": [],
   "source": []
  }
 ],
 "metadata": {
  "kernelspec": {
   "display_name": "Python 3 (ipykernel)",
   "language": "python",
   "name": "python3"
  },
  "language_info": {
   "codemirror_mode": {
    "name": "ipython",
    "version": 3
   },
   "file_extension": ".py",
   "mimetype": "text/x-python",
   "name": "python",
   "nbconvert_exporter": "python",
   "pygments_lexer": "ipython3",
   "version": "3.9.12"
  }
 },
 "nbformat": 4,
 "nbformat_minor": 5
}
